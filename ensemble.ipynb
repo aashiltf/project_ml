{
 "cells": [
  {
   "cell_type": "code",
   "execution_count": 47,
   "metadata": {},
   "outputs": [],
   "source": [
    "import pandas as pd\n",
    "import numpy as np"
   ]
  },
  {
   "cell_type": "code",
   "execution_count": 48,
   "metadata": {},
   "outputs": [],
   "source": [
    "lgbm_pred = pd.read_csv(\"predictions/lightGBM22.csv\")\n",
    "h2o_automl_pred = pd.read_csv(\"predictions/h2o_automl3.csv\")\n",
    "catboost_pred = pd.read_csv(\"predictions/catboost3.csv\")"
   ]
  },
  {
   "cell_type": "code",
   "execution_count": 49,
   "metadata": {},
   "outputs": [],
   "source": [
    "avg_pred = np.mean([\n",
    "    lgbm_pred[\"predicted\"],\n",
    "    h2o_automl_pred[\"predicted\"]\n",
    "    ], axis=0\n",
    ")\n",
    "\n",
    "#lgbm_pred = lgbm_pred[\"predicted\"]*0.39\n",
    "#h2o_automl_pred = h2o_automl_pred[\"predicted\"]*0.61\n",
    "#catboost_pred = catboost_pred[\"predicted\"] * 0.22\n",
    "\n",
    "#ensembled = lgbm_pred + h2o_automl_pred# + catboost_pred"
   ]
  },
  {
   "cell_type": "code",
   "execution_count": 50,
   "metadata": {},
   "outputs": [],
   "source": [
    "stores_test = pd.read_csv(\"data/stores_test.csv\")\n",
    "stores_test_id = stores_test['store_id'].values"
   ]
  },
  {
   "cell_type": "code",
   "execution_count": 51,
   "metadata": {},
   "outputs": [
    {
     "name": "stdout",
     "output_type": "stream",
     "text": [
      "                              id  predicted\n",
      "0     914206820-914239427-717245   6.252329\n",
      "1     916789157-916823770-824309   6.380467\n",
      "2       913341082-977479363-2948   2.433548\n",
      "3      889682582-889697172-28720   5.721635\n",
      "4     997991699-998006945-417222  10.906646\n",
      "...                          ...        ...\n",
      "8572  917323003-917383529-844309   4.384705\n",
      "8573  917353379-917411824-845904   3.282240\n",
      "8574  917072302-917089248-833647   5.729135\n",
      "8575  916960557-916993161-829908   3.148753\n",
      "8576   987280891-972040746-45320   2.390837\n",
      "\n",
      "[8577 rows x 2 columns]\n"
     ]
    }
   ],
   "source": [
    "predictions = pd.DataFrame()\n",
    "\n",
    "predictions['id'] = stores_test_id\n",
    "predictions['predicted'] = avg_pred\n",
    "predictions.to_csv(\"predictions/ensembled2.csv\", index=False)\n",
    "print(predictions)"
   ]
  },
  {
   "cell_type": "code",
   "execution_count": null,
   "metadata": {},
   "outputs": [],
   "source": []
  }
 ],
 "metadata": {
  "kernelspec": {
   "display_name": "Python 3.10.2 64-bit",
   "language": "python",
   "name": "python3"
  },
  "language_info": {
   "codemirror_mode": {
    "name": "ipython",
    "version": 3
   },
   "file_extension": ".py",
   "mimetype": "text/x-python",
   "name": "python",
   "nbconvert_exporter": "python",
   "pygments_lexer": "ipython3",
   "version": "3.10.2"
  },
  "orig_nbformat": 4,
  "vscode": {
   "interpreter": {
    "hash": "369f2c481f4da34e4445cda3fffd2e751bd1c4d706f27375911949ba6bb62e1c"
   }
  }
 },
 "nbformat": 4,
 "nbformat_minor": 2
}
