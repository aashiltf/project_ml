{
 "cells": [
  {
   "cell_type": "code",
   "execution_count": 32,
   "metadata": {},
   "outputs": [],
   "source": [
    "import pandas as pd\n",
    "import numpy as np\n",
    "import os"
   ]
  },
  {
   "cell_type": "code",
   "execution_count": 33,
   "metadata": {},
   "outputs": [],
   "source": [
    "from sklearn.model_selection import train_test_split"
   ]
  },
  {
   "cell_type": "code",
   "execution_count": 34,
   "metadata": {},
   "outputs": [],
   "source": [
    "lgbm_pred = pd.read_csv(\"predictions/lightGBM30.csv\")\n",
    "h2o_automl_pred = pd.read_csv(\"predictions/h2o_automl4.csv\")\n",
    "catboost_pred = pd.read_csv(\"predictions/catboost5.csv\")\n",
    "xgboost_pred = pd.read_csv(\"predictions/xgboost1.csv\")"
   ]
  },
  {
   "cell_type": "code",
   "execution_count": 35,
   "metadata": {},
   "outputs": [],
   "source": [
    "avg_pred = np.mean([\n",
    "    lgbm_pred[\"predicted\"],\n",
    "    h2o_automl_pred[\"predicted\"]\n",
    "    #catboost_pred[\"predicted\"]\n",
    "    ], axis=0\n",
    ")\n",
    "\n",
    "#lgbm_pred = lgbm_pred[\"predicted\"]*5/10\n",
    "#h2o_automl_pred = h2o_automl_pred[\"predicted\"]*5/10\n",
    "#catboost_pred = catboost_pred[\"predicted\"] * 1/10\n",
    "#xgboost_pred = xgboost_pred[\"predicted\"] * 1/10\n",
    "\n",
    "ensembled = lgbm_pred + h2o_automl_pred# + catboost_pred + xgboost_pred"
   ]
  },
  {
   "cell_type": "code",
   "execution_count": 36,
   "metadata": {},
   "outputs": [],
   "source": [
    "stores_test = pd.read_csv(\"data/stores_test.csv\")\n",
    "stores_test_id = stores_test['store_id'].values"
   ]
  },
  {
   "cell_type": "code",
   "execution_count": 37,
   "metadata": {},
   "outputs": [
    {
     "name": "stdout",
     "output_type": "stream",
     "text": [
      "                              id  predicted\n",
      "0     914206820-914239427-717245   6.426745\n",
      "1     916789157-916823770-824309   6.614504\n",
      "2       913341082-977479363-2948   2.423988\n",
      "3      889682582-889697172-28720   6.465957\n",
      "4     997991699-998006945-417222  13.162306\n",
      "...                          ...        ...\n",
      "8572  917323003-917383529-844309   3.996610\n",
      "8573  917353379-917411824-845904   3.226259\n",
      "8574  917072302-917089248-833647   5.711381\n",
      "8575  916960557-916993161-829908   3.654611\n",
      "8576   987280891-972040746-45320   2.419370\n",
      "\n",
      "[8577 rows x 2 columns]\n"
     ]
    }
   ],
   "source": [
    "predictions = pd.DataFrame()\n",
    "\n",
    "predictions['id'] = stores_test_id\n",
    "predictions['predicted'] = avg_pred\n",
    "predictions.to_csv(\"predictions/ensembled11.csv\", index=False)\n",
    "print(predictions)"
   ]
  },
  {
   "cell_type": "markdown",
   "metadata": {},
   "source": [
    "# Local testing"
   ]
  },
  {
   "cell_type": "code",
   "execution_count": 38,
   "metadata": {},
   "outputs": [
    {
     "ename": "FileNotFoundError",
     "evalue": "[WinError 3] The system cannot find the path specified: '/features_train_in_use'",
     "output_type": "error",
     "traceback": [
      "\u001b[1;31m---------------------------------------------------------------------------\u001b[0m",
      "\u001b[1;31mFileNotFoundError\u001b[0m                         Traceback (most recent call last)",
      "Cell \u001b[1;32mIn [38], line 3\u001b[0m\n\u001b[0;32m      1\u001b[0m folder_train \u001b[39m=\u001b[39m \u001b[39m'\u001b[39m\u001b[39m/features_train_in_use\u001b[39m\u001b[39m'\u001b[39m\n\u001b[1;32m----> 3\u001b[0m features_train \u001b[39m=\u001b[39m pd\u001b[39m.\u001b[39mread_csv(os\u001b[39m.\u001b[39mpath\u001b[39m.\u001b[39mjoin(folder_train, os\u001b[39m.\u001b[39;49mlistdir(folder_train)[\u001b[39m0\u001b[39m]))\n\u001b[0;32m      4\u001b[0m \u001b[39mfor\u001b[39;00m i \u001b[39min\u001b[39;00m \u001b[39mrange\u001b[39m(\u001b[39m1\u001b[39m,\u001b[39mlen\u001b[39m(os\u001b[39m.\u001b[39mlistdir(folder_train))):\n\u001b[0;32m      5\u001b[0m     f \u001b[39m=\u001b[39m os\u001b[39m.\u001b[39mpath\u001b[39m.\u001b[39mjoin(folder_train,os\u001b[39m.\u001b[39mlistdir(folder_train)[i])\n",
      "\u001b[1;31mFileNotFoundError\u001b[0m: [WinError 3] The system cannot find the path specified: '/features_train_in_use'"
     ]
    }
   ],
   "source": [
    "folder_train = '/features_train_in_use'\n",
    "\n",
    "features_train = pd.read_csv(os.path.join(folder_train, os.listdir(folder_train)[0]))\n",
    "for i in range(1,len(os.listdir(folder_train))):\n",
    "    f = os.path.join(folder_train,os.listdir(folder_train)[i])\n",
    "    if os.path.isfile(f):\n",
    "        features_train = pd.concat([features_train, pd.read_csv(f)], axis=1)\n",
    "print(features_train)"
   ]
  },
  {
   "cell_type": "code",
   "execution_count": null,
   "metadata": {},
   "outputs": [],
   "source": [
    "folder_test = '/features_test_in_use'\n",
    "\n",
    "features_test = pd.read_csv(os.path.join(folder_test, os.listdir(folder_test)[0]))\n",
    "for i in range(1,len(os.listdir(folder_test))):\n",
    "    f = os.path.join(folder_test,os.listdir(folder_test)[i])\n",
    "    if os.path.isfile(f):\n",
    "        features_test = pd.concat([features_test, pd.read_csv(f)], axis=1)\n",
    "print(features_test)"
   ]
  },
  {
   "cell_type": "code",
   "execution_count": null,
   "metadata": {},
   "outputs": [],
   "source": [
    "target_train = pd.read_csv(\"/data/stores_train.csv\")\n",
    "target_train = target_train['revenue'].values\n",
    "\n",
    "#log transform\n",
    "target_train = np.log1p(target_train)"
   ]
  },
  {
   "cell_type": "code",
   "execution_count": null,
   "metadata": {},
   "outputs": [
    {
     "ename": "NameError",
     "evalue": "name 'features_train' is not defined",
     "output_type": "error",
     "traceback": [
      "\u001b[1;31m---------------------------------------------------------------------------\u001b[0m",
      "\u001b[1;31mNameError\u001b[0m                                 Traceback (most recent call last)",
      "Cell \u001b[1;32mIn [57], line 1\u001b[0m\n\u001b[1;32m----> 1\u001b[0m X_train, X_test, y_train, y_test \u001b[39m=\u001b[39m train_test_split(features_train, target_train, test_size\u001b[39m=\u001b[39m\u001b[39m0.2\u001b[39m, random_state\u001b[39m=\u001b[39m\u001b[39m42\u001b[39m)\n\u001b[0;32m      2\u001b[0m y_train \u001b[39m=\u001b[39m np\u001b[39m.\u001b[39mlog1p(y_train)\n",
      "\u001b[1;31mNameError\u001b[0m: name 'features_train' is not defined"
     ]
    }
   ],
   "source": [
    "X_train, X_test, y_train, y_test = train_test_split(features_train, target_train, test_size=0.2, random_state=42)\n",
    "lgbm_model2.fit(X_train, y_train)\n",
    "y_pred = lgbm_model2.predict(X_test)\n",
    "y_pred = np.expm1(y_pred)"
   ]
  },
  {
   "cell_type": "code",
   "execution_count": null,
   "metadata": {},
   "outputs": [],
   "source": []
  }
 ],
 "metadata": {
  "kernelspec": {
   "display_name": "Python 3.10.2 64-bit",
   "language": "python",
   "name": "python3"
  },
  "language_info": {
   "codemirror_mode": {
    "name": "ipython",
    "version": 3
   },
   "file_extension": ".py",
   "mimetype": "text/x-python",
   "name": "python",
   "nbconvert_exporter": "python",
   "pygments_lexer": "ipython3",
   "version": "3.10.2"
  },
  "orig_nbformat": 4,
  "vscode": {
   "interpreter": {
    "hash": "369f2c481f4da34e4445cda3fffd2e751bd1c4d706f27375911949ba6bb62e1c"
   }
  }
 },
 "nbformat": 4,
 "nbformat_minor": 2
}
