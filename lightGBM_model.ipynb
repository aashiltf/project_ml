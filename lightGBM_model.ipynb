{
 "cells": [
  {
   "cell_type": "code",
   "execution_count": 51,
   "metadata": {},
   "outputs": [],
   "source": [
    "import numpy as np\n",
    "import pandas as pd\n",
    "\n",
    "import lightgbm\n",
    "import matplotlib.pylab as plt\n",
    "import os"
   ]
  },
  {
   "cell_type": "markdown",
   "metadata": {},
   "source": [
    "Inserting all features from train into one dataframe"
   ]
  },
  {
   "cell_type": "code",
   "execution_count": 52,
   "metadata": {},
   "outputs": [
    {
     "name": "stdout",
     "output_type": "stream",
     "text": [
      "       average_income_per_grunnkrets  distance_store_busstop  numberOfBusstop  \\\n",
      "0                           561700.0              585.354489             10.0   \n",
      "1                           555720.0              138.798366             30.0   \n",
      "2                           495900.0               41.099519             14.0   \n",
      "3                           521240.0               56.693017             11.0   \n",
      "4                           585360.0              229.077959             29.0   \n",
      "...                              ...                     ...              ...   \n",
      "12854                       505640.0              150.004125             27.0   \n",
      "12855                       396640.0              322.573926             12.0   \n",
      "12856                       549120.0              174.851316             13.0   \n",
      "12857                       498660.0              121.372663             35.0   \n",
      "12858                       579780.0              189.983143             10.0   \n",
      "\n",
      "       number_adults_grunnkrets  \n",
      "0                         493.0  \n",
      "1                           NaN  \n",
      "2                        1035.0  \n",
      "3                          63.0  \n",
      "4                        2445.0  \n",
      "...                         ...  \n",
      "12854                       NaN  \n",
      "12855                       NaN  \n",
      "12856                       NaN  \n",
      "12857                       NaN  \n",
      "12858                       NaN  \n",
      "\n",
      "[12859 rows x 4 columns]\n"
     ]
    }
   ],
   "source": [
    "folder = 'features_train_csv'\n",
    "\n",
    "features = pd.read_csv(os.path.join(folder, os.listdir(folder)[0]))\n",
    "for i in range(1,len(os.listdir(folder))):\n",
    "    f = os.path.join(folder,os.listdir(folder)[i])\n",
    "    if os.path.isfile(f):\n",
    "        features = pd.concat([features, pd.read_csv(f)], axis=1)\n",
    "print(features)\n",
    "        \n",
    "        "
   ]
  },
  {
   "cell_type": "markdown",
   "metadata": {},
   "source": [
    "Repeat for test features"
   ]
  },
  {
   "cell_type": "code",
   "execution_count": null,
   "metadata": {},
   "outputs": [],
   "source": [
    "\n",
    "    "
   ]
  },
  {
   "cell_type": "code",
   "execution_count": null,
   "metadata": {},
   "outputs": [],
   "source": []
  }
 ],
 "metadata": {
  "kernelspec": {
   "display_name": "Python 3.10.2 64-bit",
   "language": "python",
   "name": "python3"
  },
  "language_info": {
   "codemirror_mode": {
    "name": "ipython",
    "version": 3
   },
   "file_extension": ".py",
   "mimetype": "text/x-python",
   "name": "python",
   "nbconvert_exporter": "python",
   "pygments_lexer": "ipython3",
   "version": "3.10.2"
  },
  "orig_nbformat": 4,
  "vscode": {
   "interpreter": {
    "hash": "369f2c481f4da34e4445cda3fffd2e751bd1c4d706f27375911949ba6bb62e1c"
   }
  }
 },
 "nbformat": 4,
 "nbformat_minor": 2
}
