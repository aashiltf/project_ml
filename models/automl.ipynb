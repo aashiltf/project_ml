{
 "cells": [
  {
   "cell_type": "code",
   "execution_count": 8,
   "metadata": {},
   "outputs": [
    {
     "name": "stdout",
     "output_type": "stream",
     "text": [
      "Checking whether there is an H2O instance running at http://localhost:54321 . connected.\n"
     ]
    },
    {
     "data": {
      "text/html": [
       "\n",
       "<style>\n",
       "\n",
       "#h2o-table-2.h2o-container {\n",
       "  overflow-x: auto;\n",
       "}\n",
       "#h2o-table-2 .h2o-table {\n",
       "  /* width: 100%; */\n",
       "  margin-top: 1em;\n",
       "  margin-bottom: 1em;\n",
       "}\n",
       "#h2o-table-2 .h2o-table caption {\n",
       "  white-space: nowrap;\n",
       "  caption-side: top;\n",
       "  text-align: left;\n",
       "  /* margin-left: 1em; */\n",
       "  margin: 0;\n",
       "  font-size: larger;\n",
       "}\n",
       "#h2o-table-2 .h2o-table thead {\n",
       "  white-space: nowrap; \n",
       "  position: sticky;\n",
       "  top: 0;\n",
       "  box-shadow: 0 -1px inset;\n",
       "}\n",
       "#h2o-table-2 .h2o-table tbody {\n",
       "  overflow: auto;\n",
       "}\n",
       "#h2o-table-2 .h2o-table th,\n",
       "#h2o-table-2 .h2o-table td {\n",
       "  text-align: right;\n",
       "  /* border: 1px solid; */\n",
       "}\n",
       "#h2o-table-2 .h2o-table tr:nth-child(even) {\n",
       "  /* background: #F5F5F5 */\n",
       "}\n",
       "\n",
       "</style>      \n",
       "<div id=\"h2o-table-2\" class=\"h2o-container\">\n",
       "  <table class=\"h2o-table\">\n",
       "    <caption></caption>\n",
       "    <thead></thead>\n",
       "    <tbody><tr><td>H2O_cluster_uptime:</td>\n",
       "<td>2 mins 34 secs</td></tr>\n",
       "<tr><td>H2O_cluster_timezone:</td>\n",
       "<td>Europe/Oslo</td></tr>\n",
       "<tr><td>H2O_data_parsing_timezone:</td>\n",
       "<td>UTC</td></tr>\n",
       "<tr><td>H2O_cluster_version:</td>\n",
       "<td>3.38.0.2</td></tr>\n",
       "<tr><td>H2O_cluster_version_age:</td>\n",
       "<td>11 days </td></tr>\n",
       "<tr><td>H2O_cluster_name:</td>\n",
       "<td>H2O_from_python_47457_7clstl</td></tr>\n",
       "<tr><td>H2O_cluster_total_nodes:</td>\n",
       "<td>1</td></tr>\n",
       "<tr><td>H2O_cluster_free_memory:</td>\n",
       "<td>3.471 Gb</td></tr>\n",
       "<tr><td>H2O_cluster_total_cores:</td>\n",
       "<td>8</td></tr>\n",
       "<tr><td>H2O_cluster_allowed_cores:</td>\n",
       "<td>8</td></tr>\n",
       "<tr><td>H2O_cluster_status:</td>\n",
       "<td>locked, healthy</td></tr>\n",
       "<tr><td>H2O_connection_url:</td>\n",
       "<td>http://localhost:54321</td></tr>\n",
       "<tr><td>H2O_connection_proxy:</td>\n",
       "<td>{\"http\": null, \"https\": null}</td></tr>\n",
       "<tr><td>H2O_internal_security:</td>\n",
       "<td>False</td></tr>\n",
       "<tr><td>Python_version:</td>\n",
       "<td>3.8.7 final</td></tr></tbody>\n",
       "  </table>\n",
       "</div>\n"
      ],
      "text/plain": [
       "--------------------------  -----------------------------\n",
       "H2O_cluster_uptime:         2 mins 34 secs\n",
       "H2O_cluster_timezone:       Europe/Oslo\n",
       "H2O_data_parsing_timezone:  UTC\n",
       "H2O_cluster_version:        3.38.0.2\n",
       "H2O_cluster_version_age:    11 days\n",
       "H2O_cluster_name:           H2O_from_python_47457_7clstl\n",
       "H2O_cluster_total_nodes:    1\n",
       "H2O_cluster_free_memory:    3.471 Gb\n",
       "H2O_cluster_total_cores:    8\n",
       "H2O_cluster_allowed_cores:  8\n",
       "H2O_cluster_status:         locked, healthy\n",
       "H2O_connection_url:         http://localhost:54321\n",
       "H2O_connection_proxy:       {\"http\": null, \"https\": null}\n",
       "H2O_internal_security:      False\n",
       "Python_version:             3.8.7 final\n",
       "--------------------------  -----------------------------"
      ]
     },
     "metadata": {},
     "output_type": "display_data"
    }
   ],
   "source": [
    "import h2o\n",
    "from h2o.automl import H2OAutoML\n",
    "h2o.init()"
   ]
  },
  {
   "cell_type": "code",
   "execution_count": 11,
   "metadata": {},
   "outputs": [],
   "source": [
    "import pandas as pd\n",
    "import os\n",
    "import numpy as np"
   ]
  },
  {
   "cell_type": "code",
   "execution_count": 9,
   "metadata": {},
   "outputs": [
    {
     "name": "stdout",
     "output_type": "stream",
     "text": [
      "       average_income_per_grunnkrets  C_1.1.1.0  C_1.1.2.0  C_1.1.3.0  \\\n",
      "0                           561700.0          1          0          0   \n",
      "1                           555720.0          1          0          0   \n",
      "2                           495900.0          1          0          0   \n",
      "3                           521240.0          1          0          0   \n",
      "4                           585360.0          1          0          0   \n",
      "...                              ...        ...        ...        ...   \n",
      "12854                       505640.0          0          0          0   \n",
      "12855                       396640.0          0          0          0   \n",
      "12856                       549120.0          0          0          0   \n",
      "12857                       498660.0          0          0          0   \n",
      "12858                       579780.0          0          0          0   \n",
      "\n",
      "       C_1.1.4.0  C_1.1.5.0  C_1.1.6.1  C_1.1.6.2  C_1.1.6.3  C_1.1.6.4  ...  \\\n",
      "0              0          0          0          0          0          0  ...   \n",
      "1              0          0          0          0          0          0  ...   \n",
      "2              0          0          0          0          0          0  ...   \n",
      "3              0          0          0          0          0          0  ...   \n",
      "4              0          0          0          0          0          0  ...   \n",
      "...          ...        ...        ...        ...        ...        ...  ...   \n",
      "12854          0          0          0          0          0          0  ...   \n",
      "12855          0          0          0          0          0          0  ...   \n",
      "12856          0          0          0          0          0          0  ...   \n",
      "12857          0          0          0          0          0          0  ...   \n",
      "12858          0          0          0          0          0          0  ...   \n",
      "\n",
      "       A_WALDEMAR THRANES GATE   A_ØKERNVEIEN   A_ØSTERVÅG   A_ØSTRE ROSTEN   \\\n",
      "0                             0              0            0                0   \n",
      "1                             0              0            0                0   \n",
      "2                             0              0            0                0   \n",
      "3                             0              0            0                0   \n",
      "4                             0              0            0                0   \n",
      "...                         ...            ...          ...              ...   \n",
      "12854                         0              0            0                0   \n",
      "12855                         0              0            0                0   \n",
      "12856                         0              0            0                0   \n",
      "12857                         0              0            0                0   \n",
      "12858                         0              0            0                0   \n",
      "\n",
      "       A_ØVRE LANGGATE   distance_store_busstop  distance_to_competitor  \\\n",
      "0                     0              585.354489                0.000000   \n",
      "1                     0              138.798366               34.547236   \n",
      "2                     0               41.099519                0.000000   \n",
      "3                     0               56.693017                0.000000   \n",
      "4                     0              229.077959                0.000000   \n",
      "...                 ...                     ...                     ...   \n",
      "12854                 0              150.004125               27.846659   \n",
      "12855                 0              322.573926                0.000000   \n",
      "12856                 0              174.851316               42.202804   \n",
      "12857                 0              121.372663                0.000000   \n",
      "12858                 0              189.983143             2542.498404   \n",
      "\n",
      "       has_mall_or_not  number_adults_grunnkrets  area_grunnkrets  \n",
      "0                    1                 73.000000         0.155779  \n",
      "1                    0                303.448247         0.264278  \n",
      "2                    1                141.000000         0.160152  \n",
      "3                    1                225.000000         0.095029  \n",
      "4                    1                303.448247         0.251070  \n",
      "...                ...                       ...              ...  \n",
      "12854                0                484.000000         0.291337  \n",
      "12855                1                206.000000         0.137188  \n",
      "12856                1                424.000000         0.123431  \n",
      "12857                1                127.000000         0.034857  \n",
      "12858                0                456.000000         0.204915  \n",
      "\n",
      "[12859 rows x 222 columns]\n"
     ]
    }
   ],
   "source": [
    "folder_train = '../features_train_in_use'\n",
    "\n",
    "features_train = pd.read_csv(os.path.join(folder_train, os.listdir(folder_train)[0]))\n",
    "for i in range(1,len(os.listdir(folder_train))):\n",
    "    f = os.path.join(folder_train,os.listdir(folder_train)[i])\n",
    "    if os.path.isfile(f):\n",
    "        features_train = pd.concat([features_train, pd.read_csv(f)], axis=1)\n",
    "print(features_train)"
   ]
  },
  {
   "cell_type": "code",
   "execution_count": 10,
   "metadata": {},
   "outputs": [
    {
     "name": "stdout",
     "output_type": "stream",
     "text": [
      "      average_income_per_grunnkrets  C_1.1.1.0  C_1.1.2.0  C_1.1.3.0  \\\n",
      "0                          551600.0          1          0          0   \n",
      "1                          531240.0          1          0          0   \n",
      "2                          523300.0          1          0          0   \n",
      "3                          591380.0          1          0          0   \n",
      "4                          594020.0          1          0          0   \n",
      "...                             ...        ...        ...        ...   \n",
      "8572                       560700.0          0          0          0   \n",
      "8573                       593340.0          0          0          0   \n",
      "8574                       629100.0          0          0          0   \n",
      "8575                       590100.0          0          0          0   \n",
      "8576                       529980.0          0          0          0   \n",
      "\n",
      "      C_1.1.4.0  C_1.1.5.0  C_1.1.6.1  C_1.1.6.2  C_1.1.6.3  C_1.1.6.4  ...  \\\n",
      "0             0          0          0          0          0          0  ...   \n",
      "1             0          0          0          0          0          0  ...   \n",
      "2             0          0          0          0          0          0  ...   \n",
      "3             0          0          0          0          0          0  ...   \n",
      "4             0          0          0          0          0          0  ...   \n",
      "...         ...        ...        ...        ...        ...        ...  ...   \n",
      "8572          0          0          0          0          0          0  ...   \n",
      "8573          0          0          0          0          0          0  ...   \n",
      "8574          0          0          0          0          0          0  ...   \n",
      "8575          0          0          0          0          0          0  ...   \n",
      "8576          0          0          0          0          0          0  ...   \n",
      "\n",
      "      A_WALDEMAR THRANES GATE   A_ØKERNVEIEN   A_ØSTERVÅG   A_ØSTRE ROSTEN   \\\n",
      "0                            0              0            0                0   \n",
      "1                            0              0            0                0   \n",
      "2                            0              0            0                0   \n",
      "3                            0              0            0                0   \n",
      "4                            0              0            0                0   \n",
      "...                        ...            ...          ...              ...   \n",
      "8572                         0              0            0                0   \n",
      "8573                         0              0            0                0   \n",
      "8574                         0              0            0                0   \n",
      "8575                         0              0            0                0   \n",
      "8576                         0              0            0                0   \n",
      "\n",
      "      A_ØVRE LANGGATE   distance_store_busstop  distance_to_competitor  \\\n",
      "0                    0               25.630061               70.085760   \n",
      "1                    0              111.736189              177.710439   \n",
      "2                    0              404.825119                0.000000   \n",
      "3                    0              317.141300              740.150349   \n",
      "4                    0              101.273354              472.323401   \n",
      "...                ...                     ...                     ...   \n",
      "8572                 0              364.034347             3313.883303   \n",
      "8573                 0              228.923169              302.293655   \n",
      "8574                 0              136.232163               85.988411   \n",
      "8575                 0              129.203732                0.000000   \n",
      "8576                 0              212.494198            18175.501583   \n",
      "\n",
      "      has_mall_or_not  number_adults_grunnkrets  area_grunnkrets  \n",
      "0                   0                493.000000         0.057027  \n",
      "1                   0                297.220554         0.165993  \n",
      "2                   1               1035.000000         0.236628  \n",
      "3                   0                 63.000000         0.983436  \n",
      "4                   0               2445.000000         0.449502  \n",
      "...               ...                       ...              ...  \n",
      "8572                0                159.000000         1.708924  \n",
      "8573                0                479.000000         0.310575  \n",
      "8574                0                459.000000         1.627789  \n",
      "8575                0                345.000000         1.103012  \n",
      "8576                0                447.000000         1.677433  \n",
      "\n",
      "[8577 rows x 222 columns]\n"
     ]
    }
   ],
   "source": [
    "folder_test = '../features_test_in_use'\n",
    "\n",
    "features_test = pd.read_csv(os.path.join(folder_test, os.listdir(folder_test)[0]))\n",
    "for i in range(1,len(os.listdir(folder_test))):\n",
    "    f = os.path.join(folder_test,os.listdir(folder_test)[i])\n",
    "    if os.path.isfile(f):\n",
    "        features_test = pd.concat([features_test, pd.read_csv(f)], axis=1)\n",
    "print(features_test)"
   ]
  },
  {
   "cell_type": "code",
   "execution_count": 49,
   "metadata": {},
   "outputs": [
    {
     "name": "stdout",
     "output_type": "stream",
     "text": [
      "      revenue\n",
      "0      294433\n",
      "1      321197\n",
      "2      283901\n",
      "3      233175\n",
      "4      170982\n",
      "...       ...\n",
      "12854    8434\n",
      "12855  103531\n",
      "12856  366931\n",
      "12857  153514\n",
      "12858  120237\n",
      "\n",
      "[12859 rows x 1 columns]\n"
     ]
    }
   ],
   "source": [
    "target_train = pd.read_csv(\"../data/stores_train.csv\")\n",
    "target_train = target_train['revenue']\n",
    "\n",
    "#log transform\n",
    "target_train = np.log1p(target_train)\n",
    "\n",
    "target_train = [str(int(item*100000)) for item in target_train]\n",
    "\n",
    "target_df = pd.DataFrame()\n",
    "target_df[\"revenue\"] = target_train\n",
    "\n",
    "#for i in range(len(target_train)):\n",
    "    #target_train[i] = int(target_train[i]*100000)\n",
    "\n",
    "print(target_df)"
   ]
  },
  {
   "cell_type": "code",
   "execution_count": 35,
   "metadata": {},
   "outputs": [],
   "source": []
  },
  {
   "cell_type": "code",
   "execution_count": 50,
   "metadata": {},
   "outputs": [
    {
     "name": "stdout",
     "output_type": "stream",
     "text": [
      "Parse progress: |████████████████████████████████████████████████████████████████| (done) 100%\n",
      "Parse progress: |████████████████████████████████████████████████████████████████| (done) 100%\n",
      "Parse progress: |████████████████████████████████████████████████████████████████| (done) 100%\n"
     ]
    }
   ],
   "source": [
    "train_df = h2o.H2OFrame(features_train)\n",
    "test_df = h2o.H2OFrame(features_test)\n",
    "target = h2o.H2OFrame(target_df)"
   ]
  },
  {
   "cell_type": "code",
   "execution_count": 32,
   "metadata": {},
   "outputs": [],
   "source": [
    "h2o_automl = H2OAutoML(sort_metric='rmsle', max_runtime_secs=60, seed=666)"
   ]
  },
  {
   "cell_type": "code",
   "execution_count": 51,
   "metadata": {},
   "outputs": [
    {
     "ename": "H2OTypeError",
     "evalue": "Argument `y` should be an integer | string, got DataFrame       revenue\n0      294433\n1      321197\n2      283901\n3      233175\n4      170982\n...       ...\n12854    8434\n12855  103531\n12856  366931\n12857  153514\n12858  120237\n\n[12859 rows x 1 columns]",
     "output_type": "error",
     "traceback": [
      "\u001b[1;31m---------------------------------------------------------------------------\u001b[0m",
      "\u001b[1;31mH2OTypeError\u001b[0m                              Traceback (most recent call last)",
      "Cell \u001b[1;32mIn [51], line 1\u001b[0m\n\u001b[1;32m----> 1\u001b[0m h2o_automl\u001b[39m.\u001b[39mtrain(x\u001b[39m=\u001b[39mtest_df, y\u001b[39m=\u001b[39mtarget_df, training_frame\u001b[39m=\u001b[39mtrain_df)\n",
      "File \u001b[1;32mc:\\Users\\47457\\AppData\\Local\\Programs\\Python\\Python38\\lib\\site-packages\\h2o\\automl\\_estimator.py:621\u001b[0m, in \u001b[0;36mH2OAutoML.train\u001b[1;34m(self, x, y, training_frame, fold_column, weights_column, validation_frame, leaderboard_frame, blending_frame)\u001b[0m\n\u001b[0;32m    619\u001b[0m     \u001b[39mraise\u001b[39;00m H2OValueError(\u001b[39m'\u001b[39m\u001b[39mThe response column (y) is not set; please set it to the name of the column that you are trying to predict in your data.\u001b[39m\u001b[39m'\u001b[39m)\n\u001b[0;32m    620\u001b[0m \u001b[39melif\u001b[39;00m y \u001b[39mis\u001b[39;00m \u001b[39mnot\u001b[39;00m \u001b[39mNone\u001b[39;00m:\n\u001b[1;32m--> 621\u001b[0m     assert_is_type(y, \u001b[39mint\u001b[39;49m, \u001b[39mstr\u001b[39;49m)\n\u001b[0;32m    622\u001b[0m     \u001b[39mif\u001b[39;00m is_type(y, \u001b[39mint\u001b[39m):\n\u001b[0;32m    623\u001b[0m         \u001b[39mif\u001b[39;00m \u001b[39mnot\u001b[39;00m (\u001b[39m-\u001b[39mncols \u001b[39m<\u001b[39m\u001b[39m=\u001b[39m y \u001b[39m<\u001b[39m ncols):\n",
      "File \u001b[1;32mc:\\Users\\47457\\AppData\\Local\\Programs\\Python\\Python38\\lib\\site-packages\\h2o\\utils\\typechecks.py:453\u001b[0m, in \u001b[0;36massert_is_type\u001b[1;34m(var, *types, **kwargs)\u001b[0m\n\u001b[0;32m    451\u001b[0m etn \u001b[39m=\u001b[39m _get_type_name(expected_type, dump\u001b[39m=\u001b[39m\u001b[39m\"\u001b[39m\u001b[39m, \u001b[39m\u001b[39m\"\u001b[39m\u001b[39m.\u001b[39mjoin(args[\u001b[39m1\u001b[39m:]))\n\u001b[0;32m    452\u001b[0m vtn \u001b[39m=\u001b[39m _get_type_name(\u001b[39mtype\u001b[39m(var))\n\u001b[1;32m--> 453\u001b[0m \u001b[39mraise\u001b[39;00m H2OTypeError(var_name\u001b[39m=\u001b[39mvname, var_value\u001b[39m=\u001b[39mvar, var_type_name\u001b[39m=\u001b[39mvtn, exp_type_name\u001b[39m=\u001b[39metn, message\u001b[39m=\u001b[39mmessage,\n\u001b[0;32m    454\u001b[0m                    skip_frames\u001b[39m=\u001b[39mskip_frames)\n",
      "\u001b[1;31mH2OTypeError\u001b[0m: Argument `y` should be an integer | string, got DataFrame       revenue\n0      294433\n1      321197\n2      283901\n3      233175\n4      170982\n...       ...\n12854    8434\n12855  103531\n12856  366931\n12857  153514\n12858  120237\n\n[12859 rows x 1 columns]"
     ]
    }
   ],
   "source": [
    "h2o_automl.train(x=test_df, y=target_df, training_frame=train_df)"
   ]
  },
  {
   "cell_type": "code",
   "execution_count": 14,
   "metadata": {},
   "outputs": [],
   "source": [
    "#Divide all on 100000\n",
    "#lgbm_predictions = np.expm1(lgbm_predictions)"
   ]
  }
 ],
 "metadata": {
  "kernelspec": {
   "display_name": "Python 3.8.7 64-bit",
   "language": "python",
   "name": "python3"
  },
  "language_info": {
   "codemirror_mode": {
    "name": "ipython",
    "version": 3
   },
   "file_extension": ".py",
   "mimetype": "text/x-python",
   "name": "python",
   "nbconvert_exporter": "python",
   "pygments_lexer": "ipython3",
   "version": "3.8.7"
  },
  "orig_nbformat": 4,
  "vscode": {
   "interpreter": {
    "hash": "fba15a8fe0409f50195582ac27b8e95e358fcbd51d8410e6775d4560b732321d"
   }
  }
 },
 "nbformat": 4,
 "nbformat_minor": 2
}
