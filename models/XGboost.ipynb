{
 "cells": [
  {
   "cell_type": "code",
   "execution_count": 22,
   "metadata": {},
   "outputs": [],
   "source": [
    "import xgboost as xgb\n",
    "\n",
    "import numpy as np\n",
    "import os\n",
    "import pandas as pd\n",
    "\n",
    "from sklearn.model_selection import train_test_split\n",
    "import sklearn"
   ]
  },
  {
   "cell_type": "code",
   "execution_count": 23,
   "metadata": {},
   "outputs": [],
   "source": [
    "folder_train = '../features_train_in_use'\n",
    "\n",
    "features_train = pd.read_csv(os.path.join(folder_train, os.listdir(folder_train)[0]))\n",
    "for i in range(1,len(os.listdir(folder_train))):\n",
    "    f = os.path.join(folder_train,os.listdir(folder_train)[i])\n",
    "    if os.path.isfile(f):\n",
    "        features_train = pd.concat([features_train, pd.read_csv(f)], axis=1)\n"
   ]
  },
  {
   "cell_type": "code",
   "execution_count": 24,
   "metadata": {},
   "outputs": [],
   "source": [
    "folder_test = '../features_test_in_use'\n",
    "\n",
    "features_test = pd.read_csv(os.path.join(folder_test, os.listdir(folder_test)[0]))\n",
    "for i in range(1,len(os.listdir(folder_test))):\n",
    "    f = os.path.join(folder_test,os.listdir(folder_test)[i])\n",
    "    if os.path.isfile(f):\n",
    "        features_test = pd.concat([features_test, pd.read_csv(f)], axis=1)"
   ]
  },
  {
   "cell_type": "code",
   "execution_count": 25,
   "metadata": {},
   "outputs": [],
   "source": [
    "target_train = pd.read_csv(\"../data/stores_train.csv\")\n",
    "target_train = target_train['revenue'].values\n",
    "\n",
    "#log transform\n",
    "target_train = np.log1p(target_train)"
   ]
  },
  {
   "cell_type": "code",
   "execution_count": 26,
   "metadata": {},
   "outputs": [],
   "source": [
    "model = xgb.XGBRegressor(tree_method=\"gpu_hist\", enable_categorical=True)"
   ]
  },
  {
   "cell_type": "code",
   "execution_count": 27,
   "metadata": {},
   "outputs": [
    {
     "name": "stdout",
     "output_type": "stream",
     "text": [
      "categorical_chain_name\n",
      "categorical_mall_name\n",
      "categorical_plaace\n",
      "categorical_sales_channel_name\n",
      "categorical_street\n"
     ]
    }
   ],
   "source": [
    "# TRAIN\n",
    "\n",
    "for col in features_train.columns:\n",
    "    if col.startswith(\"categorical\"):\n",
    "        print(col)\n",
    "        features_train[col] = features_train[col].astype(\"category\")"
   ]
  },
  {
   "cell_type": "code",
   "execution_count": 28,
   "metadata": {},
   "outputs": [
    {
     "name": "stdout",
     "output_type": "stream",
     "text": [
      "categorical_chain_name\n",
      "categorical_mall_name\n",
      "categorical_plaace\n",
      "categorical_sales_channel_name\n",
      "categorical_street\n"
     ]
    }
   ],
   "source": [
    "# TEST\n",
    "\n",
    "for col in features_test.columns:\n",
    "    if col.startswith(\"categorical\"):\n",
    "        print(col)\n",
    "        features_test[col] = features_test[col].astype(\"category\")"
   ]
  },
  {
   "cell_type": "code",
   "execution_count": 29,
   "metadata": {},
   "outputs": [
    {
     "name": "stdout",
     "output_type": "stream",
     "text": [
      "[4.9116154 3.0952258 0.8761778 ... 7.566284  6.901093  2.7704642]\n"
     ]
    }
   ],
   "source": [
    "model.fit(features_train, target_train)\n",
    "xg_predictions = model.predict(features_test)\n",
    "\n",
    "#Undo log transform\n",
    "xg_predictions = np.expm1(xg_predictions)\n",
    "print(xg_predictions)"
   ]
  },
  {
   "cell_type": "code",
   "execution_count": 30,
   "metadata": {},
   "outputs": [
    {
     "name": "stdout",
     "output_type": "stream",
     "text": [
      "Score:  0.3364523000250237\n"
     ]
    }
   ],
   "source": [
    "X_train, X_test, y_train, y_test = train_test_split(features_train, target_train, test_size=0.2, random_state=42)\n",
    "\n",
    "model2 = xgb.XGBRegressor(tree_method=\"gpu_hist\", enable_categorical=True)\n",
    "\n",
    "#log transform\n",
    "y_train = np.log1p(y_train)\n",
    "\n",
    "model2.fit(X_train, y_train)\n",
    "y_pred = model2.predict(X_test)\n",
    "\n",
    "y_pred = np.expm1(y_pred)\n",
    "\n",
    "print(\"Score: \",sklearn.metrics.mean_squared_log_error(y_test, y_pred) ** 0.5)"
   ]
  },
  {
   "cell_type": "code",
   "execution_count": 31,
   "metadata": {},
   "outputs": [
    {
     "name": "stdout",
     "output_type": "stream",
     "text": [
      "                              id  predicted\n",
      "0     914206820-914239427-717245   4.911615\n",
      "1     916789157-916823770-824309   3.095226\n",
      "2       913341082-977479363-2948   0.876178\n",
      "3      889682582-889697172-28720   0.447799\n",
      "4     997991699-998006945-417222  11.602345\n",
      "...                          ...        ...\n",
      "8572  917323003-917383529-844309   4.781514\n",
      "8573  917353379-917411824-845904   4.260348\n",
      "8574  917072302-917089248-833647   7.566284\n",
      "8575  916960557-916993161-829908   6.901093\n",
      "8576   987280891-972040746-45320   2.770464\n",
      "\n",
      "[8577 rows x 2 columns]\n"
     ]
    }
   ],
   "source": [
    "stores_test = pd.read_csv(\"../data/stores_test.csv\")\n",
    "stores_test_id = stores_test['store_id'].values\n",
    "\n",
    "predictions = pd.DataFrame()\n",
    "\n",
    "predictions['id'] = stores_test_id\n",
    "predictions['predicted'] = xg_predictions\n",
    "\n",
    "predictions.to_csv(\"../predictions/xgboost1.csv\", index=False)\n",
    "print(predictions)"
   ]
  }
 ],
 "metadata": {
  "kernelspec": {
   "display_name": "Python 3.10.2 64-bit",
   "language": "python",
   "name": "python3"
  },
  "language_info": {
   "codemirror_mode": {
    "name": "ipython",
    "version": 3
   },
   "file_extension": ".py",
   "mimetype": "text/x-python",
   "name": "python",
   "nbconvert_exporter": "python",
   "pygments_lexer": "ipython3",
   "version": "3.10.2"
  },
  "orig_nbformat": 4,
  "vscode": {
   "interpreter": {
    "hash": "369f2c481f4da34e4445cda3fffd2e751bd1c4d706f27375911949ba6bb62e1c"
   }
  }
 },
 "nbformat": 4,
 "nbformat_minor": 2
}
