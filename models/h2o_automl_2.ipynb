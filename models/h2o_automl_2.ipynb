{
 "cells": [
  {
   "cell_type": "code",
   "execution_count": 53,
   "metadata": {},
   "outputs": [
    {
     "name": "stdout",
     "output_type": "stream",
     "text": [
      "Checking whether there is an H2O instance running at http://127.0.0.1:54321 . connected.\n"
     ]
    },
    {
     "data": {
      "text/html": [
       "\n",
       "<style>\n",
       "\n",
       "#h2o-table-7.h2o-container {\n",
       "  overflow-x: auto;\n",
       "}\n",
       "#h2o-table-7 .h2o-table {\n",
       "  /* width: 100%; */\n",
       "  margin-top: 1em;\n",
       "  margin-bottom: 1em;\n",
       "}\n",
       "#h2o-table-7 .h2o-table caption {\n",
       "  white-space: nowrap;\n",
       "  caption-side: top;\n",
       "  text-align: left;\n",
       "  /* margin-left: 1em; */\n",
       "  margin: 0;\n",
       "  font-size: larger;\n",
       "}\n",
       "#h2o-table-7 .h2o-table thead {\n",
       "  white-space: nowrap; \n",
       "  position: sticky;\n",
       "  top: 0;\n",
       "  box-shadow: 0 -1px inset;\n",
       "}\n",
       "#h2o-table-7 .h2o-table tbody {\n",
       "  overflow: auto;\n",
       "}\n",
       "#h2o-table-7 .h2o-table th,\n",
       "#h2o-table-7 .h2o-table td {\n",
       "  text-align: right;\n",
       "  /* border: 1px solid; */\n",
       "}\n",
       "#h2o-table-7 .h2o-table tr:nth-child(even) {\n",
       "  /* background: #F5F5F5 */\n",
       "}\n",
       "\n",
       "</style>      \n",
       "<div id=\"h2o-table-7\" class=\"h2o-container\">\n",
       "  <table class=\"h2o-table\">\n",
       "    <caption></caption>\n",
       "    <thead></thead>\n",
       "    <tbody><tr><td>H2O_cluster_uptime:</td>\n",
       "<td>59 mins 23 secs</td></tr>\n",
       "<tr><td>H2O_cluster_timezone:</td>\n",
       "<td>Europe/Berlin</td></tr>\n",
       "<tr><td>H2O_data_parsing_timezone:</td>\n",
       "<td>UTC</td></tr>\n",
       "<tr><td>H2O_cluster_version:</td>\n",
       "<td>3.38.0.2</td></tr>\n",
       "<tr><td>H2O_cluster_version_age:</td>\n",
       "<td>13 days </td></tr>\n",
       "<tr><td>H2O_cluster_name:</td>\n",
       "<td>H2O_from_python_frikk_emdefq</td></tr>\n",
       "<tr><td>H2O_cluster_total_nodes:</td>\n",
       "<td>1</td></tr>\n",
       "<tr><td>H2O_cluster_free_memory:</td>\n",
       "<td>1.086 Gb</td></tr>\n",
       "<tr><td>H2O_cluster_total_cores:</td>\n",
       "<td>16</td></tr>\n",
       "<tr><td>H2O_cluster_allowed_cores:</td>\n",
       "<td>16</td></tr>\n",
       "<tr><td>H2O_cluster_status:</td>\n",
       "<td>locked, healthy</td></tr>\n",
       "<tr><td>H2O_connection_url:</td>\n",
       "<td>http://127.0.0.1:54321</td></tr>\n",
       "<tr><td>H2O_connection_proxy:</td>\n",
       "<td>{\"http\": null, \"https\": null}</td></tr>\n",
       "<tr><td>H2O_internal_security:</td>\n",
       "<td>False</td></tr>\n",
       "<tr><td>Python_version:</td>\n",
       "<td>3.10.2 final</td></tr></tbody>\n",
       "  </table>\n",
       "</div>\n"
      ],
      "text/plain": [
       "--------------------------  -----------------------------\n",
       "H2O_cluster_uptime:         59 mins 23 secs\n",
       "H2O_cluster_timezone:       Europe/Berlin\n",
       "H2O_data_parsing_timezone:  UTC\n",
       "H2O_cluster_version:        3.38.0.2\n",
       "H2O_cluster_version_age:    13 days\n",
       "H2O_cluster_name:           H2O_from_python_frikk_emdefq\n",
       "H2O_cluster_total_nodes:    1\n",
       "H2O_cluster_free_memory:    1.086 Gb\n",
       "H2O_cluster_total_cores:    16\n",
       "H2O_cluster_allowed_cores:  16\n",
       "H2O_cluster_status:         locked, healthy\n",
       "H2O_connection_url:         http://127.0.0.1:54321\n",
       "H2O_connection_proxy:       {\"http\": null, \"https\": null}\n",
       "H2O_internal_security:      False\n",
       "Python_version:             3.10.2 final\n",
       "--------------------------  -----------------------------"
      ]
     },
     "metadata": {},
     "output_type": "display_data"
    }
   ],
   "source": [
    "import h2o\n",
    "from h2o.automl import H2OAutoML\n",
    "h2o.init(nthreads = -1, max_mem_size = '2g', ip = \"127.0.0.1\", port = 54321)\n"
   ]
  },
  {
   "cell_type": "code",
   "execution_count": 54,
   "metadata": {},
   "outputs": [],
   "source": [
    "import pandas as pd\n",
    "import os\n",
    "import numpy as np"
   ]
  },
  {
   "cell_type": "code",
   "execution_count": 55,
   "metadata": {},
   "outputs": [],
   "source": [
    "folder_train = '../features_train_in_use'\n",
    "\n",
    "features_train = pd.read_csv(os.path.join(folder_train, os.listdir(folder_train)[0]))\n",
    "for i in range(1,len(os.listdir(folder_train))):\n",
    "    f = os.path.join(folder_train,os.listdir(folder_train)[i])\n",
    "    if os.path.isfile(f):\n",
    "        features_train = pd.concat([features_train, pd.read_csv(f)], axis=1)\n",
    "\n",
    "folder_test = '../features_test_in_use'\n",
    "\n",
    "features_test = pd.read_csv(os.path.join(folder_test, os.listdir(folder_test)[0]))\n",
    "for i in range(1,len(os.listdir(folder_test))):\n",
    "    f = os.path.join(folder_test,os.listdir(folder_test)[i])\n",
    "    if os.path.isfile(f):\n",
    "        features_test = pd.concat([features_test, pd.read_csv(f)], axis=1)"
   ]
  },
  {
   "cell_type": "code",
   "execution_count": 56,
   "metadata": {},
   "outputs": [],
   "source": [
    "#Get target\n",
    "target = pd.read_csv(\"../data/stores_train.csv\")\n",
    "target = target[\"revenue\"].values\n",
    "\n",
    "target = np.log1p(target)"
   ]
  },
  {
   "cell_type": "code",
   "execution_count": 57,
   "metadata": {},
   "outputs": [],
   "source": [
    "features_train[\"revenue\"] = target"
   ]
  },
  {
   "cell_type": "code",
   "execution_count": 58,
   "metadata": {},
   "outputs": [],
   "source": [
    "features_train.to_csv(\"h2o_automl_2_features_csv/features_train.csv\", index=False)\n",
    "\n",
    "features_test.to_csv(\"h2o_automl_2_features_csv/features_test.csv\", index=False)"
   ]
  },
  {
   "cell_type": "code",
   "execution_count": 59,
   "metadata": {},
   "outputs": [
    {
     "name": "stdout",
     "output_type": "stream",
     "text": [
      "Parse progress: |████████████████████████████████████████████████████████████████| (done) 100%\n",
      "Parse progress: |████████████████████████████████████████████████████████████████| (done) 100%\n"
     ]
    },
    {
     "data": {
      "text/html": [
       "<pre style='margin: 1em 0 1em 0;'>Rows:8577\n",
       "Cols:18\n",
       "</pre>"
      ],
      "text/plain": [
       "Rows:8577\n",
       "Cols:18\n"
      ]
     },
     "metadata": {},
     "output_type": "display_data"
    },
    {
     "data": {
      "text/html": [
       "<table class='dataframe'>\n",
       "<thead>\n",
       "<tr><th>       </th><th>average_income_per_grunnkrets  </th><th>numberOfBusstop   </th><th>categorical_chain_name  </th><th>categorical_mall_name  </th><th>categorical_plaace  </th><th>categorical_sales_channel_name  </th><th>categorical_street  </th><th>distance_store_busstop  </th><th>distance_to_competitor  </th><th>has_mall_or_not    </th><th>number_adults_grunnkrets  </th><th>children_number   </th><th>couple_number     </th><th>features          </th><th>person_number    </th><th>singles_number    </th><th>area_grunnkrets   </th><th>feature           </th></tr>\n",
       "</thead>\n",
       "<tbody>\n",
       "<tr><td>type   </td><td>real                           </td><td>int               </td><td>enum                    </td><td>enum                   </td><td>enum                </td><td>enum                            </td><td>enum                </td><td>real                    </td><td>real                    </td><td>int                </td><td>real                      </td><td>real              </td><td>real              </td><td>int               </td><td>real             </td><td>real              </td><td>real              </td><td>int               </td></tr>\n",
       "<tr><td>mins   </td><td>0.0                            </td><td>0.0               </td><td>                        </td><td>                       </td><td>                    </td><td>                                </td><td>                    </td><td>2.834648843907257       </td><td>0.0                     </td><td>0.0                </td><td>1.0                       </td><td>0.0               </td><td>0.0               </td><td>0.0               </td><td>66.0             </td><td>0.0               </td><td>0.0034185853132582</td><td>0.0               </td></tr>\n",
       "<tr><td>mean   </td><td>559440.6715634838              </td><td>15.12277019937041 </td><td>                        </td><td>                       </td><td>                    </td><td>                                </td><td>                    </td><td>363.42705370954155      </td><td>1049.381980845635       </td><td>0.17407018771132096</td><td>297.2205535559141         </td><td>129.97669228861892</td><td>170.24356412366285</td><td>0.6181648595079865</td><td>734.0515745102902</td><td>262.1103796873163 </td><td>0.7512256878394341</td><td>0.6044071353620147</td></tr>\n",
       "<tr><td>maxs   </td><td>799720.0                       </td><td>72.0              </td><td>                        </td><td>                       </td><td>                    </td><td>                                </td><td>                    </td><td>40354.63748683241       </td><td>128872.47008953274      </td><td>1.0                </td><td>2567.0                    </td><td>1789.0            </td><td>1012.0            </td><td>18.0              </td><td>5949.0           </td><td>2002.0            </td><td>14.995158557421975</td><td>13.0              </td></tr>\n",
       "<tr><td>sigma  </td><td>68128.77375037978              </td><td>12.834269924280061</td><td>                        </td><td>                       </td><td>                    </td><td>                                </td><td>                    </td><td>1223.2054558757015      </td><td>4092.954112855524       </td><td>0.3791919324813381 </td><td>270.2875134203443         </td><td>137.68181653627445</td><td>145.78886964383148</td><td>1.8292455318578489</td><td>585.2326052568449</td><td>234.67556085195426</td><td>1.119024389594291 </td><td>1.4938756118063603</td></tr>\n",
       "<tr><td>zeros  </td><td>27                             </td><td>377               </td><td>                        </td><td>                       </td><td>                    </td><td>                                </td><td>                    </td><td>0                       </td><td>2144                    </td><td>7084               </td><td>0                         </td><td>33                </td><td>203               </td><td>6880              </td><td>0                </td><td>21                </td><td>0                 </td><td>6403              </td></tr>\n",
       "<tr><td>missing</td><td>0                              </td><td>0                 </td><td>6099                    </td><td>7084                   </td><td>0                   </td><td>0                               </td><td>1239                </td><td>0                       </td><td>0                       </td><td>0                  </td><td>0                         </td><td>0                 </td><td>0                 </td><td>0                 </td><td>0                </td><td>0                 </td><td>0                 </td><td>0                 </td></tr>\n",
       "<tr><td>0      </td><td>551600.0                       </td><td>21.0              </td><td>                        </td><td>                       </td><td>1.1.1.0             </td><td>Hamburger restaurants           </td><td>STRÃ˜MSVEIEN        </td><td>25.63006058192599       </td><td>70.08576024451624       </td><td>0.0                </td><td>493.0                     </td><td>224.0             </td><td>176.0             </td><td>0.0               </td><td>970.0            </td><td>391.0             </td><td>0.0570274487828266</td><td>0.0               </td></tr>\n",
       "<tr><td>1      </td><td>531240.0                       </td><td>11.0              </td><td>BURGER KING             </td><td>                       </td><td>1.1.1.0             </td><td>Hamburger restaurants           </td><td>MYREN               </td><td>111.73618940669482      </td><td>177.7104392523965       </td><td>0.0                </td><td>297.22055355591414        </td><td>129.9766922886189 </td><td>0.0               </td><td>0.0               </td><td>734.0515745102902</td><td>3.0               </td><td>0.1659929866554556</td><td>0.0               </td></tr>\n",
       "<tr><td>2      </td><td>523300.0                       </td><td>11.0              </td><td>BURGER KING             </td><td>Stovner Senter         </td><td>1.1.1.0             </td><td>Hamburger restaurants           </td><td>STOVNER SENTER      </td><td>404.825119221575        </td><td>0.0                     </td><td>1.0                </td><td>1035.0                    </td><td>566.0             </td><td>354.0             </td><td>0.0               </td><td>2348.0           </td><td>1137.0            </td><td>0.2366277171182634</td><td>0.0               </td></tr>\n",
       "<tr><td>3      </td><td>591380.0                       </td><td>22.0              </td><td>BURGER KING             </td><td>                       </td><td>1.1.1.0             </td><td>Hamburger restaurants           </td><td>TUNGASLETTA         </td><td>317.14129972347314      </td><td>740.1503490868882       </td><td>0.0                </td><td>63.0                      </td><td>41.0              </td><td>30.0              </td><td>0.0               </td><td>150.0            </td><td>36.0              </td><td>0.9834363395259108</td><td>0.0               </td></tr>\n",
       "<tr><td>4      </td><td>594020.0                       </td><td>21.0              </td><td>VULKAN BURGERBAR        </td><td>                       </td><td>1.1.1.0             </td><td>Hamburger restaurants           </td><td>AUD SCHÃ˜NEMANNS VEI</td><td>101.27335380660138      </td><td>472.32340122638806      </td><td>0.0                </td><td>2445.0                    </td><td>1176.0            </td><td>878.0             </td><td>0.0               </td><td>4576.0           </td><td>1466.0            </td><td>0.4495023355743143</td><td>0.0               </td></tr>\n",
       "<tr><td>5      </td><td>719500.0                       </td><td>8.0               </td><td>BURGER KING             </td><td>                       </td><td>1.1.1.0             </td><td>Hamburger restaurants           </td><td>EKEBERGVEIEN        </td><td>36.524826964512         </td><td>0.0                     </td><td>0.0                </td><td>389.0                     </td><td>226.0             </td><td>230.0             </td><td>0.0               </td><td>987.0            </td><td>232.0             </td><td>0.3130056727783995</td><td>0.0               </td></tr>\n",
       "<tr><td>6      </td><td>452360.0                       </td><td>33.0              </td><td>MCDONALDS               </td><td>Trondheim Torg         </td><td>1.1.1.0             </td><td>Hamburger restaurants           </td><td>KONGENS GATE        </td><td>190.78093031676752      </td><td>0.0                     </td><td>1.0                </td><td>135.0                     </td><td>11.0              </td><td>122.0             </td><td>2.0               </td><td>354.0            </td><td>224.0             </td><td>0.1439457578659376</td><td>0.0               </td></tr>\n",
       "<tr><td>7      </td><td>592940.0                       </td><td>17.0              </td><td>                        </td><td>                       </td><td>1.1.1.0             </td><td>Hamburger restaurants           </td><td>KIRKEVEIEN          </td><td>43.95964167801312       </td><td>86.37983448483139       </td><td>0.0                </td><td>775.0                     </td><td>115.0             </td><td>438.0             </td><td>6.0               </td><td>1618.0           </td><td>778.0             </td><td>0.1916125865925365</td><td>0.0               </td></tr>\n",
       "<tr><td>8      </td><td>467820.0                       </td><td>1.0               </td><td>MCDONALDS               </td><td>Strandtorget           </td><td>1.1.1.0             </td><td>Hamburger restaurants           </td><td>STRANDPROMENADEN    </td><td>260.53718335640446      </td><td>125.74829876764784      </td><td>1.0                </td><td>156.0                     </td><td>98.0              </td><td>100.0             </td><td>0.0               </td><td>393.0            </td><td>138.0             </td><td>0.3957698924690003</td><td>0.0               </td></tr>\n",
       "<tr><td>9      </td><td>517980.0                       </td><td>5.0               </td><td>MCDONALDS               </td><td>Ã…lesund Storsenter    </td><td>1.1.1.0             </td><td>Hamburger restaurants           </td><td>STORGATA            </td><td>162.87743720115466      </td><td>47.67894663291715       </td><td>1.0                </td><td>382.0                     </td><td>44.0              </td><td>182.0             </td><td>0.0               </td><td>711.0            </td><td>387.0             </td><td>0.120694732856678 </td><td>0.0               </td></tr>\n",
       "</tbody>\n",
       "</table><pre style='font-size: smaller; margin-bottom: 1em;'>[8577 rows x 18 columns]</pre>"
      ],
      "text/plain": [
       "         average_income_per_grunnkrets    numberOfBusstop     categorical_chain_name    categorical_mall_name    categorical_plaace    categorical_sales_channel_name    categorical_street    distance_store_busstop    distance_to_competitor    has_mall_or_not      number_adults_grunnkrets    children_number     couple_number       features            person_number      singles_number      area_grunnkrets     feature\n",
       "-------  -------------------------------  ------------------  ------------------------  -----------------------  --------------------  --------------------------------  --------------------  ------------------------  ------------------------  -------------------  --------------------------  ------------------  ------------------  ------------------  -----------------  ------------------  ------------------  ------------------\n",
       "type     real                             int                 enum                      enum                     enum                  enum                              enum                  real                      real                      int                  real                        real                real                int                 real               real                real                int\n",
       "mins     0.0                              0.0                                                                                                                                                  2.834648843907257         0.0                       0.0                  1.0                         0.0                 0.0                 0.0                 66.0               0.0                 0.0034185853132582  0.0\n",
       "mean     559440.6715634838                15.12277019937041                                                                                                                                    363.42705370954155        1049.381980845635         0.17407018771132096  297.2205535559141           129.97669228861892  170.24356412366285  0.6181648595079865  734.0515745102902  262.1103796873163   0.7512256878394341  0.6044071353620147\n",
       "maxs     799720.0                         72.0                                                                                                                                                 40354.63748683241         128872.47008953274        1.0                  2567.0                      1789.0              1012.0              18.0                5949.0             2002.0              14.995158557421975  13.0\n",
       "sigma    68128.77375037978                12.834269924280061                                                                                                                                   1223.2054558757015        4092.954112855524         0.3791919324813381   270.2875134203443           137.68181653627445  145.78886964383148  1.8292455318578489  585.2326052568449  234.67556085195426  1.119024389594291   1.4938756118063603\n",
       "zeros    27                               377                                                                                                                                                  0                         2144                      7084                 0                           33                  203                 6880                0                  21                  0                   6403\n",
       "missing  0                                0                   6099                      7084                     0                     0                                 1239                  0                         0                         0                    0                           0                   0                   0                   0                  0                   0                   0\n",
       "0        551600.0                         21.0                                                                   1.1.1.0               Hamburger restaurants             STRÃ˜MSVEIEN          25.63006058192599         70.08576024451624         0.0                  493.0                       224.0               176.0               0.0                 970.0              391.0               0.0570274487828266  0.0\n",
       "1        531240.0                         11.0                BURGER KING                                        1.1.1.0               Hamburger restaurants             MYREN                 111.73618940669482        177.7104392523965         0.0                  297.22055355591414          129.9766922886189   0.0                 0.0                 734.0515745102902  3.0                 0.1659929866554556  0.0\n",
       "2        523300.0                         11.0                BURGER KING               Stovner Senter           1.1.1.0               Hamburger restaurants             STOVNER SENTER        404.825119221575          0.0                       1.0                  1035.0                      566.0               354.0               0.0                 2348.0             1137.0              0.2366277171182634  0.0\n",
       "3        591380.0                         22.0                BURGER KING                                        1.1.1.0               Hamburger restaurants             TUNGASLETTA           317.14129972347314        740.1503490868882         0.0                  63.0                        41.0                30.0                0.0                 150.0              36.0                0.9834363395259108  0.0\n",
       "4        594020.0                         21.0                VULKAN BURGERBAR                                   1.1.1.0               Hamburger restaurants             AUD SCHÃ˜NEMANNS VEI  101.27335380660138        472.32340122638806        0.0                  2445.0                      1176.0              878.0               0.0                 4576.0             1466.0              0.4495023355743143  0.0\n",
       "5        719500.0                         8.0                 BURGER KING                                        1.1.1.0               Hamburger restaurants             EKEBERGVEIEN          36.524826964512           0.0                       0.0                  389.0                       226.0               230.0               0.0                 987.0              232.0               0.3130056727783995  0.0\n",
       "6        452360.0                         33.0                MCDONALDS                 Trondheim Torg           1.1.1.0               Hamburger restaurants             KONGENS GATE          190.78093031676752        0.0                       1.0                  135.0                       11.0                122.0               2.0                 354.0              224.0               0.1439457578659376  0.0\n",
       "7        592940.0                         17.0                                                                   1.1.1.0               Hamburger restaurants             KIRKEVEIEN            43.95964167801312         86.37983448483139         0.0                  775.0                       115.0               438.0               6.0                 1618.0             778.0               0.1916125865925365  0.0\n",
       "8        467820.0                         1.0                 MCDONALDS                 Strandtorget             1.1.1.0               Hamburger restaurants             STRANDPROMENADEN      260.53718335640446        125.74829876764784        1.0                  156.0                       98.0                100.0               0.0                 393.0              138.0               0.3957698924690003  0.0\n",
       "9        517980.0                         5.0                 MCDONALDS                 Ã…lesund Storsenter      1.1.1.0               Hamburger restaurants             STORGATA              162.87743720115466        47.67894663291715         1.0                  382.0                       44.0                182.0               0.0                 711.0              387.0               0.120694732856678   0.0\n",
       "[8577 rows x 18 columns]\n"
      ]
     },
     "metadata": {},
     "output_type": "display_data"
    }
   ],
   "source": [
    "df_train = h2o.import_file(\"h2o_automl_2_features_csv/features_train.csv\")\n",
    "df_test = h2o.import_file(\"h2o_automl_2_features_csv/features_test.csv\")\n",
    "\n",
    "df_test.describe()"
   ]
  },
  {
   "cell_type": "code",
   "execution_count": 60,
   "metadata": {},
   "outputs": [],
   "source": [
    "categorical_features = [\n",
    "    \"categorical_chain_name\", \n",
    "    \"categorical_mall_name\", \n",
    "    \"categorical_plaace\", \n",
    "    \"categorical_sales_channel_name\", \n",
    "    \"categorical_street\", \n",
    "    \"categorical_district_name\", \n",
    "    \"categorical_lon_lat_clustering\", \n",
    "    \"categorical_municipality_name\",   \n",
    "    \"categorical_grunnkrets_name\"\n",
    "]\n",
    "\n",
    "# TRAIN\n",
    "\n",
    "for feat in categorical_features:\n",
    "    df_train[feat] = df_train[feat].asfactor()\n"
   ]
  },
  {
   "cell_type": "code",
   "execution_count": 61,
   "metadata": {},
   "outputs": [],
   "source": [
    "# TEST\n",
    "\n",
    "for feat in categorical_features:\n",
    "    df_test[feat] = df_test[feat].asfactor()\n"
   ]
  },
  {
   "cell_type": "code",
   "execution_count": 62,
   "metadata": {},
   "outputs": [],
   "source": [
    "y = \"revenue\"\n",
    "x = df_train.columns\n",
    "x.remove(y)"
   ]
  },
  {
   "cell_type": "code",
   "execution_count": 63,
   "metadata": {},
   "outputs": [
    {
     "name": "stdout",
     "output_type": "stream",
     "text": [
      "AutoML progress: |\n",
      "11:51:30.914: AutoML: XGBoost is not available; skipping it.\n",
      "\n",
      "███████████████████████████████████████████████████████████████| (done) 100%\n"
     ]
    },
    {
     "data": {
      "text/html": [
       "<pre style='margin: 1em 0 1em 0;'>Model Details\n",
       "=============\n",
       "H2OStackedEnsembleEstimator : Stacked Ensemble\n",
       "Model Key: StackedEnsemble_AllModels_6_AutoML_4_20221110_115130\n",
       "\n",
       "No summary for this model</pre>\n",
       "<div style='margin: 1em 0 1em 0;'><pre style='margin: 1em 0 1em 0;'>ModelMetricsRegressionGLM: stackedensemble\n",
       "** Reported on train data. **\n",
       "\n",
       "MSE: 0.3654382514980609\n",
       "RMSE: 0.6045148893931902\n",
       "MAE: 0.4526176538647095\n",
       "RMSLE: 0.27363619371971626\n",
       "Mean Residual Deviance: 0.3654382514980609\n",
       "R^2: 0.6541426976233917\n",
       "Null degrees of freedom: 10047\n",
       "Residual degrees of freedom: 10029\n",
       "Null deviance: 10616.904228241096\n",
       "Residual deviance: 3671.923551052516\n",
       "AIC: 18440.08961521892</pre></div>\n",
       "<div style='margin: 1em 0 1em 0;'><pre style='margin: 1em 0 1em 0;'>ModelMetricsRegressionGLM: stackedensemble\n",
       "** Reported on cross-validation data. **\n",
       "\n",
       "MSE: 0.5168270208017492\n",
       "RMSE: 0.7189068234491514\n",
       "MAE: 0.5444845399821383\n",
       "RMSLE: 0.31495802706573484\n",
       "Mean Residual Deviance: 0.5168270208017492\n",
       "R^2: 0.5079350979028516\n",
       "Null degrees of freedom: 12858\n",
       "Residual degrees of freedom: 12841\n",
       "Null deviance: 13507.978908243313\n",
       "Residual deviance: 6645.878660489694\n",
       "AIC: 28042.716270410703</pre></div>\n",
       "<div style='margin: 1em 0 1em 0;'>\n",
       "<style>\n",
       "\n",
       "#h2o-table-8.h2o-container {\n",
       "  overflow-x: auto;\n",
       "}\n",
       "#h2o-table-8 .h2o-table {\n",
       "  /* width: 100%; */\n",
       "  margin-top: 1em;\n",
       "  margin-bottom: 1em;\n",
       "}\n",
       "#h2o-table-8 .h2o-table caption {\n",
       "  white-space: nowrap;\n",
       "  caption-side: top;\n",
       "  text-align: left;\n",
       "  /* margin-left: 1em; */\n",
       "  margin: 0;\n",
       "  font-size: larger;\n",
       "}\n",
       "#h2o-table-8 .h2o-table thead {\n",
       "  white-space: nowrap; \n",
       "  position: sticky;\n",
       "  top: 0;\n",
       "  box-shadow: 0 -1px inset;\n",
       "}\n",
       "#h2o-table-8 .h2o-table tbody {\n",
       "  overflow: auto;\n",
       "}\n",
       "#h2o-table-8 .h2o-table th,\n",
       "#h2o-table-8 .h2o-table td {\n",
       "  text-align: right;\n",
       "  /* border: 1px solid; */\n",
       "}\n",
       "#h2o-table-8 .h2o-table tr:nth-child(even) {\n",
       "  /* background: #F5F5F5 */\n",
       "}\n",
       "\n",
       "</style>      \n",
       "<div id=\"h2o-table-8\" class=\"h2o-container\">\n",
       "  <table class=\"h2o-table\">\n",
       "    <caption>Cross-Validation Metrics Summary: </caption>\n",
       "    <thead><tr><th></th>\n",
       "<th>mean</th>\n",
       "<th>sd</th>\n",
       "<th>cv_1_valid</th>\n",
       "<th>cv_2_valid</th>\n",
       "<th>cv_3_valid</th>\n",
       "<th>cv_4_valid</th>\n",
       "<th>cv_5_valid</th></tr></thead>\n",
       "    <tbody><tr><td>mae</td>\n",
       "<td>0.5446415</td>\n",
       "<td>0.0100179</td>\n",
       "<td>0.5358027</td>\n",
       "<td>0.557006</td>\n",
       "<td>0.5329488</td>\n",
       "<td>0.5491466</td>\n",
       "<td>0.5483034</td></tr>\n",
       "<tr><td>mean_residual_deviance</td>\n",
       "<td>0.5170656</td>\n",
       "<td>0.0148657</td>\n",
       "<td>0.4996328</td>\n",
       "<td>0.5322285</td>\n",
       "<td>0.5027213</td>\n",
       "<td>0.5235905</td>\n",
       "<td>0.5271552</td></tr>\n",
       "<tr><td>mse</td>\n",
       "<td>0.5170656</td>\n",
       "<td>0.0148657</td>\n",
       "<td>0.4996328</td>\n",
       "<td>0.5322285</td>\n",
       "<td>0.5027213</td>\n",
       "<td>0.5235905</td>\n",
       "<td>0.5271552</td></tr>\n",
       "<tr><td>null_deviance</td>\n",
       "<td>2701.5957</td>\n",
       "<td>106.74364</td>\n",
       "<td>2664.5046</td>\n",
       "<td>2664.135</td>\n",
       "<td>2827.9321</td>\n",
       "<td>2788.6108</td>\n",
       "<td>2562.7964</td></tr>\n",
       "<tr><td>r2</td>\n",
       "<td>0.5072915</td>\n",
       "<td>0.0190507</td>\n",
       "<td>0.5084677</td>\n",
       "<td>0.4839777</td>\n",
       "<td>0.5335485</td>\n",
       "<td>0.5154513</td>\n",
       "<td>0.4950123</td></tr>\n",
       "<tr><td>residual_deviance</td>\n",
       "<td>1329.2843</td>\n",
       "<td>32.929012</td>\n",
       "<td>1309.0378</td>\n",
       "<td>1374.7463</td>\n",
       "<td>1318.1353</td>\n",
       "<td>1350.8634</td>\n",
       "<td>1293.6387</td></tr>\n",
       "<tr><td>rmse</td>\n",
       "<td>0.7190131</td>\n",
       "<td>0.0103574</td>\n",
       "<td>0.7068471</td>\n",
       "<td>0.7295399</td>\n",
       "<td>0.7090284</td>\n",
       "<td>0.7235955</td>\n",
       "<td>0.7260545</td></tr>\n",
       "<tr><td>rmsle</td>\n",
       "<td>0.3150184</td>\n",
       "<td>0.0051870</td>\n",
       "<td>0.3083959</td>\n",
       "<td>0.3204907</td>\n",
       "<td>0.3106850</td>\n",
       "<td>0.3177241</td>\n",
       "<td>0.3177962</td></tr></tbody>\n",
       "  </table>\n",
       "</div>\n",
       "</div><pre style=\"font-size: smaller; margin: 1em 0 0 0;\">\n",
       "\n",
       "[tips]\n",
       "Use `model.explain()` to inspect the model.\n",
       "--\n",
       "Use `h2o.display.toggle_user_tips()` to switch on/off this section.</pre>"
      ],
      "text/plain": [
       "Model Details\n",
       "=============\n",
       "H2OStackedEnsembleEstimator : Stacked Ensemble\n",
       "Model Key: StackedEnsemble_AllModels_6_AutoML_4_20221110_115130\n",
       "\n",
       "No summary for this model\n",
       "\n",
       "ModelMetricsRegressionGLM: stackedensemble\n",
       "** Reported on train data. **\n",
       "\n",
       "MSE: 0.3654382514980609\n",
       "RMSE: 0.6045148893931902\n",
       "MAE: 0.4526176538647095\n",
       "RMSLE: 0.27363619371971626\n",
       "Mean Residual Deviance: 0.3654382514980609\n",
       "R^2: 0.6541426976233917\n",
       "Null degrees of freedom: 10047\n",
       "Residual degrees of freedom: 10029\n",
       "Null deviance: 10616.904228241096\n",
       "Residual deviance: 3671.923551052516\n",
       "AIC: 18440.08961521892\n",
       "\n",
       "ModelMetricsRegressionGLM: stackedensemble\n",
       "** Reported on cross-validation data. **\n",
       "\n",
       "MSE: 0.5168270208017492\n",
       "RMSE: 0.7189068234491514\n",
       "MAE: 0.5444845399821383\n",
       "RMSLE: 0.31495802706573484\n",
       "Mean Residual Deviance: 0.5168270208017492\n",
       "R^2: 0.5079350979028516\n",
       "Null degrees of freedom: 12858\n",
       "Residual degrees of freedom: 12841\n",
       "Null deviance: 13507.978908243313\n",
       "Residual deviance: 6645.878660489694\n",
       "AIC: 28042.716270410703\n",
       "\n",
       "Cross-Validation Metrics Summary: \n",
       "                        mean      sd          cv_1_valid    cv_2_valid    cv_3_valid    cv_4_valid    cv_5_valid\n",
       "----------------------  --------  ----------  ------------  ------------  ------------  ------------  ------------\n",
       "mae                     0.544642  0.0100179   0.535803      0.557006      0.532949      0.549147      0.548303\n",
       "mean_residual_deviance  0.517066  0.0148657   0.499633      0.532228      0.502721      0.52359       0.527155\n",
       "mse                     0.517066  0.0148657   0.499633      0.532228      0.502721      0.52359       0.527155\n",
       "null_deviance           2701.6    106.744     2664.5        2664.14       2827.93       2788.61       2562.8\n",
       "r2                      0.507292  0.0190507   0.508468      0.483978      0.533549      0.515451      0.495012\n",
       "residual_deviance       1329.28   32.929      1309.04       1374.75       1318.14       1350.86       1293.64\n",
       "rmse                    0.719013  0.0103574   0.706847      0.72954       0.709028      0.723595      0.726055\n",
       "rmsle                   0.315018  0.00518699  0.308396      0.320491      0.310685      0.317724      0.317796\n",
       "\n",
       "[tips]\n",
       "Use `model.explain()` to inspect the model.\n",
       "--\n",
       "Use `h2o.display.toggle_user_tips()` to switch on/off this section."
      ]
     },
     "execution_count": 63,
     "metadata": {},
     "output_type": "execute_result"
    }
   ],
   "source": [
    "aml = H2OAutoML(sort_metric='rmse', max_runtime_secs=10*60, seed=1)\n",
    "aml.train(x=x, y=\"revenue\", training_frame = df_train)"
   ]
  },
  {
   "cell_type": "code",
   "execution_count": 64,
   "metadata": {},
   "outputs": [],
   "source": [
    "lb = aml.leaderboard"
   ]
  },
  {
   "cell_type": "code",
   "execution_count": 65,
   "metadata": {},
   "outputs": [
    {
     "data": {
      "text/html": [
       "<table class='dataframe'>\n",
       "<thead>\n",
       "<tr><th>model_id                                               </th><th style=\"text-align: right;\">    rmse</th><th style=\"text-align: right;\">     mse</th><th style=\"text-align: right;\">     mae</th><th style=\"text-align: right;\">   rmsle</th><th style=\"text-align: right;\">  mean_residual_deviance</th></tr>\n",
       "</thead>\n",
       "<tbody>\n",
       "<tr><td>StackedEnsemble_AllModels_6_AutoML_4_20221110_115130   </td><td style=\"text-align: right;\">0.718907</td><td style=\"text-align: right;\">0.516827</td><td style=\"text-align: right;\">0.544485</td><td style=\"text-align: right;\">0.314958</td><td style=\"text-align: right;\">                0.516827</td></tr>\n",
       "<tr><td>StackedEnsemble_AllModels_4_AutoML_4_20221110_115130   </td><td style=\"text-align: right;\">0.719771</td><td style=\"text-align: right;\">0.51807 </td><td style=\"text-align: right;\">0.544986</td><td style=\"text-align: right;\">0.315224</td><td style=\"text-align: right;\">                0.51807 </td></tr>\n",
       "<tr><td>StackedEnsemble_BestOfFamily_6_AutoML_4_20221110_115130</td><td style=\"text-align: right;\">0.719772</td><td style=\"text-align: right;\">0.518072</td><td style=\"text-align: right;\">0.546258</td><td style=\"text-align: right;\">0.315229</td><td style=\"text-align: right;\">                0.518072</td></tr>\n",
       "<tr><td>StackedEnsemble_AllModels_3_AutoML_4_20221110_115130   </td><td style=\"text-align: right;\">0.719883</td><td style=\"text-align: right;\">0.518232</td><td style=\"text-align: right;\">0.545136</td><td style=\"text-align: right;\">0.315255</td><td style=\"text-align: right;\">                0.518232</td></tr>\n",
       "<tr><td>StackedEnsemble_AllModels_2_AutoML_4_20221110_115130   </td><td style=\"text-align: right;\">0.720681</td><td style=\"text-align: right;\">0.519382</td><td style=\"text-align: right;\">0.546419</td><td style=\"text-align: right;\">0.315407</td><td style=\"text-align: right;\">                0.519382</td></tr>\n",
       "<tr><td>StackedEnsemble_BestOfFamily_4_AutoML_4_20221110_115130</td><td style=\"text-align: right;\">0.720828</td><td style=\"text-align: right;\">0.519593</td><td style=\"text-align: right;\">0.546613</td><td style=\"text-align: right;\">0.315583</td><td style=\"text-align: right;\">                0.519593</td></tr>\n",
       "<tr><td>StackedEnsemble_BestOfFamily_3_AutoML_4_20221110_115130</td><td style=\"text-align: right;\">0.72127 </td><td style=\"text-align: right;\">0.520231</td><td style=\"text-align: right;\">0.547186</td><td style=\"text-align: right;\">0.315551</td><td style=\"text-align: right;\">                0.520231</td></tr>\n",
       "<tr><td>StackedEnsemble_AllModels_5_AutoML_4_20221110_115130   </td><td style=\"text-align: right;\">0.722672</td><td style=\"text-align: right;\">0.522254</td><td style=\"text-align: right;\">0.547273</td><td style=\"text-align: right;\">0.315823</td><td style=\"text-align: right;\">                0.522254</td></tr>\n",
       "<tr><td>StackedEnsemble_BestOfFamily_5_AutoML_4_20221110_115130</td><td style=\"text-align: right;\">0.722733</td><td style=\"text-align: right;\">0.522343</td><td style=\"text-align: right;\">0.548274</td><td style=\"text-align: right;\">0.316047</td><td style=\"text-align: right;\">                0.522343</td></tr>\n",
       "<tr><td>StackedEnsemble_AllModels_1_AutoML_4_20221110_115130   </td><td style=\"text-align: right;\">0.723146</td><td style=\"text-align: right;\">0.52294 </td><td style=\"text-align: right;\">0.547663</td><td style=\"text-align: right;\">0.316608</td><td style=\"text-align: right;\">                0.52294 </td></tr>\n",
       "</tbody>\n",
       "</table><pre style='font-size: smaller; margin-bottom: 1em;'>[10 rows x 6 columns]</pre>"
      ],
      "text/plain": [
       "model_id                                                     rmse       mse       mae     rmsle    mean_residual_deviance\n",
       "-------------------------------------------------------  --------  --------  --------  --------  ------------------------\n",
       "StackedEnsemble_AllModels_6_AutoML_4_20221110_115130     0.718907  0.516827  0.544485  0.314958                  0.516827\n",
       "StackedEnsemble_AllModels_4_AutoML_4_20221110_115130     0.719771  0.51807   0.544986  0.315224                  0.51807\n",
       "StackedEnsemble_BestOfFamily_6_AutoML_4_20221110_115130  0.719772  0.518072  0.546258  0.315229                  0.518072\n",
       "StackedEnsemble_AllModels_3_AutoML_4_20221110_115130     0.719883  0.518232  0.545136  0.315255                  0.518232\n",
       "StackedEnsemble_AllModels_2_AutoML_4_20221110_115130     0.720681  0.519382  0.546419  0.315407                  0.519382\n",
       "StackedEnsemble_BestOfFamily_4_AutoML_4_20221110_115130  0.720828  0.519593  0.546613  0.315583                  0.519593\n",
       "StackedEnsemble_BestOfFamily_3_AutoML_4_20221110_115130  0.72127   0.520231  0.547186  0.315551                  0.520231\n",
       "StackedEnsemble_AllModels_5_AutoML_4_20221110_115130     0.722672  0.522254  0.547273  0.315823                  0.522254\n",
       "StackedEnsemble_BestOfFamily_5_AutoML_4_20221110_115130  0.722733  0.522343  0.548274  0.316047                  0.522343\n",
       "StackedEnsemble_AllModels_1_AutoML_4_20221110_115130     0.723146  0.52294   0.547663  0.316608                  0.52294\n",
       "[10 rows x 6 columns]\n"
      ]
     },
     "execution_count": 65,
     "metadata": {},
     "output_type": "execute_result"
    }
   ],
   "source": [
    "lb.head()"
   ]
  },
  {
   "cell_type": "code",
   "execution_count": 66,
   "metadata": {},
   "outputs": [
    {
     "name": "stdout",
     "output_type": "stream",
     "text": [
      "stackedensemble prediction progress: |███████████████████████████████████████████| (done) 100%\n"
     ]
    },
    {
     "name": "stderr",
     "output_type": "stream",
     "text": [
      "C:\\Users\\frikk\\AppData\\Roaming\\Python\\Python310\\site-packages\\h2o\\job.py:83: UserWarning: Test/Validation dataset column 'categorical_chain_name' has levels not trained on: [\"24 7 TRENINGSSENTER\", \"ACE SHOPS\", \"AVANCIA SPORT\", \"BADEMILJÃ˜\", \"BADERINGEN\", \"BAROKK FRISÃ˜R\", \"BERTONI NORWAY\", \"BIRK SPORT\", \"BLUE ENERGY\", \"DESINESS\", ...23 not listed..., \"SALT OG PEPPER HÃ˜NEFOSS\", \"SKOGSTAD DETALJ\", \"SKY FITNESS\", \"TIGER OF SWEDEN\", \"TIPPY\", \"VARMEFAG INVEST\", \"VITA EXCLUSIVE\", \"YOGIS\", \"ZAVANNA\", \"ZAXIZ FRISÃ˜R\"]\n",
      "  warnings.warn(w)\n",
      "C:\\Users\\frikk\\AppData\\Roaming\\Python\\Python310\\site-packages\\h2o\\job.py:83: UserWarning: Test/Validation dataset column 'categorical_mall_name' has levels not trained on: [\"Aamodt Senter\", \"Bardufoss Torgsenter\", \"Bellevuesenteret\", \"BorgeÃ¥sen Senter\", \"CC Mart'n\", \"Combisenteret FiskÃ¥\", \"Coop Mega HÃ¸nefoss\", \"Coop Mega Ã˜vre Ã…rdal\", \"Cuben KjÃ¸pesenter\", \"De Syv SÃ¸stre kjÃ¸pesenter\", ...37 not listed..., \"StrÃ¸get\", \"Sundt Motehus\", \"Svelvik NÃ¦rsenter\", \"Tebo Senter\", \"Trekanten Senter Kristiansand\", \"TÃ¥rnhuset\", \"Varehuset Rosendal\", \"Vik Torg\", \"Vossevangen Senter Mega\", \"VÃ¥gsenteret\"]\n",
      "  warnings.warn(w)\n",
      "C:\\Users\\frikk\\AppData\\Roaming\\Python\\Python310\\site-packages\\h2o\\job.py:83: UserWarning: Test/Validation dataset column 'categorical_plaace' has levels not trained on: [\"1.5.1.0\"]\n",
      "  warnings.warn(w)\n",
      "C:\\Users\\frikk\\AppData\\Roaming\\Python\\Python310\\site-packages\\h2o\\job.py:83: UserWarning: Test/Validation dataset column 'categorical_sales_channel_name' has levels not trained on: [\"Bowling alleys\"]\n",
      "  warnings.warn(w)\n",
      "C:\\Users\\frikk\\AppData\\Roaming\\Python\\Python310\\site-packages\\h2o\\job.py:83: UserWarning: Test/Validation dataset column 'categorical_street' has levels not trained on: [\"A B AARSTENS GATE \", \"AAGAARDVEIEN \", \"AARSTADGATEN \", \"AASGAARDEN \", \"ABELSBORG GATE \", \"ADMIRAL BÃ˜RRESENS VEI \", \"AKEBAKKEN \", \"AKERSBORG TERRASSE \", \"AKERSHUSSTRANDA\", \"AKERVEIEN \", ...1671 not listed..., \"Ã˜VRE RINGVEI \", \"Ã˜VRE SKYTTERHOLMEN \", \"Ã˜VRE STRANDGATE \", \"Ã˜YAVEGEN \", \"Ã˜YEVOLLVEIEN \", \"Ã˜YGARDEN \", \"Ã˜YGARDSBAKKEN \", \"Ã˜YJORDSVEIEN \", \"Ã˜YRAGATA \", \"Ã˜YVIND LAMBES VEI \"]\n",
      "  warnings.warn(w)\n"
     ]
    }
   ],
   "source": [
    "predictions = aml.predict(df_test)"
   ]
  },
  {
   "cell_type": "code",
   "execution_count": 67,
   "metadata": {},
   "outputs": [],
   "source": [
    "predictions_pd = h2o.as_list(predictions)\n",
    "predictions_list = predictions_pd[\"predict\"].tolist()\n",
    "predictions_list = np.expm1(predictions_list)"
   ]
  },
  {
   "cell_type": "code",
   "execution_count": 68,
   "metadata": {},
   "outputs": [],
   "source": [
    "stores_test = pd.read_csv(\"../data/stores_test.csv\")\n",
    "stores_test_id = stores_test['store_id'].values"
   ]
  },
  {
   "cell_type": "code",
   "execution_count": 69,
   "metadata": {},
   "outputs": [
    {
     "name": "stdout",
     "output_type": "stream",
     "text": [
      "8577\n"
     ]
    }
   ],
   "source": [
    "predictions_df = pd.DataFrame()\n",
    "\n",
    "predictions_df['id'] = stores_test_id\n",
    "print(len(predictions_list))\n",
    "predictions_df['predicted'] = predictions_list\n",
    "predictions_df.to_csv(\"../predictions/h2o_automl3.csv\", index=False)"
   ]
  },
  {
   "cell_type": "code",
   "execution_count": null,
   "metadata": {},
   "outputs": [],
   "source": []
  }
 ],
 "metadata": {
  "kernelspec": {
   "display_name": "Python 3.11.0 ('venv': venv)",
   "language": "python",
   "name": "python3"
  },
  "language_info": {
   "codemirror_mode": {
    "name": "ipython",
    "version": 3
   },
   "file_extension": ".py",
   "mimetype": "text/x-python",
   "name": "python",
   "nbconvert_exporter": "python",
   "pygments_lexer": "ipython3",
   "version": "3.11.0"
  },
  "orig_nbformat": 4,
  "vscode": {
   "interpreter": {
    "hash": "eb700c1da1188bcb75b3e6a953b8699d4f37804c093d4861958dcd5e933ada4d"
   }
  }
 },
 "nbformat": 4,
 "nbformat_minor": 2
}
