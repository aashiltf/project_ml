{
 "cells": [
  {
   "cell_type": "code",
   "execution_count": 136,
   "metadata": {},
   "outputs": [],
   "source": [
    "import numpy as np\n",
    "import pandas as pd\n",
    "\n",
    "import lightgbm\n",
    "import matplotlib.pylab as plt\n",
    "import os\n",
    "\n",
    "from sklearn.model_selection import train_test_split\n",
    "import sklearn"
   ]
  },
  {
   "cell_type": "markdown",
   "metadata": {},
   "source": [
    "Inserting all features from test into one dataframe"
   ]
  },
  {
   "cell_type": "code",
   "execution_count": 137,
   "metadata": {},
   "outputs": [
    {
     "name": "stdout",
     "output_type": "stream",
     "text": [
      "       average_income_per_grunnkrets  distance_store_busstop  \\\n",
      "0                           561700.0              585.354489   \n",
      "1                           555720.0              138.798366   \n",
      "2                           495900.0               41.099519   \n",
      "3                           521240.0               56.693017   \n",
      "4                           585360.0              229.077959   \n",
      "...                              ...                     ...   \n",
      "12854                       505640.0              150.004125   \n",
      "12855                       396640.0              322.573926   \n",
      "12856                       549120.0              174.851316   \n",
      "12857                       498660.0              121.372663   \n",
      "12858                       579780.0              189.983143   \n",
      "\n",
      "       distance_to_competitor  has_mall_or_not  plaace_h_1  plaace_h_2  \\\n",
      "0                    0.000000                1           1           1   \n",
      "1                   34.547236                0           1           1   \n",
      "2                    0.000000                1           1           1   \n",
      "3                    0.000000                1           1           1   \n",
      "4                    0.000000                1           1           1   \n",
      "...                       ...              ...         ...         ...   \n",
      "12854               27.846659                0           2           8   \n",
      "12855                0.000000                1           2           8   \n",
      "12856               42.202804                1           2           8   \n",
      "12857                0.000000                1           2           8   \n",
      "12858             2542.498404                0           2           8   \n",
      "\n",
      "       plaace_h_3  plaace_h_4  features  area_grunnkrets  feature  street_name  \n",
      "0               1           0         0         0.155779      0.0            0  \n",
      "1               1           0         0         0.264278      0.0            1  \n",
      "2               1           0         0         0.160152      0.0            2  \n",
      "3               1           0         0         0.095029      0.0            3  \n",
      "4               1           0         0         0.251070      0.0            1  \n",
      "...           ...         ...       ...              ...      ...          ...  \n",
      "12854          11           2        90         0.291337      0.0         2108  \n",
      "12855          11           2        90         0.137188      0.0            1  \n",
      "12856          11           2        90         0.123431      0.0          219  \n",
      "12857          11           2        90         0.034857      0.0           59  \n",
      "12858          11           2        90         0.204915      0.0         4333  \n",
      "\n",
      "[12859 rows x 12 columns]\n"
     ]
    }
   ],
   "source": [
    "folder_train = '../features_train_in_use'\n",
    "\n",
    "features_train = pd.read_csv(os.path.join(folder_train, os.listdir(folder_train)[0]))\n",
    "for i in range(1,len(os.listdir(folder_train))):\n",
    "    f = os.path.join(folder_train,os.listdir(folder_train)[i])\n",
    "    if os.path.isfile(f):\n",
    "        features_train = pd.concat([features_train, pd.read_csv(f)], axis=1)\n",
    "print(features_train)\n",
    "        \n",
    "        "
   ]
  },
  {
   "cell_type": "markdown",
   "metadata": {},
   "source": [
    "Repeat for test features"
   ]
  },
  {
   "cell_type": "code",
   "execution_count": 138,
   "metadata": {},
   "outputs": [
    {
     "name": "stdout",
     "output_type": "stream",
     "text": [
      "      average_income_per_grunnkrets  distance_store_busstop  \\\n",
      "0                          551600.0               25.630061   \n",
      "1                          531240.0              111.736189   \n",
      "2                          523300.0              404.825119   \n",
      "3                          591380.0              317.141300   \n",
      "4                          594020.0              101.273354   \n",
      "...                             ...                     ...   \n",
      "8572                       560700.0              364.034347   \n",
      "8573                       593340.0              228.923169   \n",
      "8574                       629100.0              136.232163   \n",
      "8575                       590100.0              129.203732   \n",
      "8576                       529980.0              212.494198   \n",
      "\n",
      "      distance_to_competitor  has_mall_or_not  plaace_h_1  plaace_h_2  \\\n",
      "0                  70.085760                0           1           1   \n",
      "1                 177.710439                0           1           1   \n",
      "2                   0.000000                1           1           1   \n",
      "3                 740.150349                0           1           1   \n",
      "4                 472.323401                0           1           1   \n",
      "...                      ...              ...         ...         ...   \n",
      "8572             3313.883303                0           2           8   \n",
      "8573              302.293655                0           2           8   \n",
      "8574               85.988411                0           2           8   \n",
      "8575                0.000000                0           2           8   \n",
      "8576            18175.501583                0           2           8   \n",
      "\n",
      "      plaace_h_3  plaace_h_4  features  area_grunnkrets  feature  street_name  \n",
      "0              1           0         0         0.057027      0.0            0  \n",
      "1              1           0         0         0.165993      0.0            1  \n",
      "2              1           0         0         0.236628      0.0            2  \n",
      "3              1           0         0         0.983436      0.0            3  \n",
      "4              1           0         0         0.449502      0.0            4  \n",
      "...          ...         ...       ...              ...      ...          ...  \n",
      "8572          11           2        85         1.708924      0.0         3367  \n",
      "8573          11           2        85         0.310575      0.0         3368  \n",
      "8574          11           2        85         1.627789      0.0         3369  \n",
      "8575          11           2        85         1.103012      0.0         2058  \n",
      "8576          11           2        85         1.677433      0.0           11  \n",
      "\n",
      "[8577 rows x 12 columns]\n"
     ]
    }
   ],
   "source": [
    "folder_test = '../features_test_in_use'\n",
    "\n",
    "features_test = pd.read_csv(os.path.join(folder_test, os.listdir(folder_test)[0]))\n",
    "for i in range(1,len(os.listdir(folder_test))):\n",
    "    f = os.path.join(folder_test,os.listdir(folder_test)[i])\n",
    "    if os.path.isfile(f):\n",
    "        features_test = pd.concat([features_test, pd.read_csv(f)], axis=1)\n",
    "print(features_test)\n",
    "    "
   ]
  },
  {
   "cell_type": "markdown",
   "metadata": {},
   "source": [
    "Target train data:"
   ]
  },
  {
   "cell_type": "code",
   "execution_count": 139,
   "metadata": {},
   "outputs": [],
   "source": [
    "target_train = pd.read_csv(\"../data/stores_train.csv\")\n",
    "target_train = target_train['revenue'].values\n",
    "\n",
    "#log transform\n",
    "target_train = np.log1p(target_train)"
   ]
  },
  {
   "cell_type": "markdown",
   "metadata": {},
   "source": [
    "Light GBM model:"
   ]
  },
  {
   "cell_type": "code",
   "execution_count": 140,
   "metadata": {},
   "outputs": [],
   "source": [
    "lgbm_model = lightgbm.LGBMRegressor(\n",
    "    num_leaves=4,\n",
    "    max_depth=5, \n",
    "    random_state=42, \n",
    "    silent=True, \n",
    "    metric='mse',\n",
    "    n_jobs=4, \n",
    "    n_estimators=1000,\n",
    "    colsample_bytree=0.95,\n",
    "    subsample=0.9,\n",
    "    learning_rate=0.05\n",
    ")"
   ]
  },
  {
   "cell_type": "code",
   "execution_count": 141,
   "metadata": {},
   "outputs": [
    {
     "name": "stdout",
     "output_type": "stream",
     "text": [
      "12859\n",
      "[2.94433371 3.21197205 2.83901998 ... 3.6693143  1.53514531 1.20237152]\n",
      "<class 'numpy.ndarray'>\n",
      "12859\n"
     ]
    }
   ],
   "source": [
    "#print(features_train)\n",
    "#print(type(features_train))\n",
    "print(len(features_train))\n",
    "print(target_train)\n",
    "print(type(target_train))\n",
    "target_train = target_train\n",
    "print(len(target_train))"
   ]
  },
  {
   "cell_type": "code",
   "execution_count": 142,
   "metadata": {},
   "outputs": [
    {
     "name": "stderr",
     "output_type": "stream",
     "text": [
      "c:\\Python310\\lib\\site-packages\\lightgbm\\sklearn.py:598: UserWarning: 'silent' argument is deprecated and will be removed in a future release of LightGBM. Pass 'verbose' parameter via keyword arguments instead.\n",
      "  _log_warning(\"'silent' argument is deprecated and will be removed in a future release of LightGBM. \"\n"
     ]
    }
   ],
   "source": [
    "lgbm_model.fit(features_train, target_train)\n",
    "lgbm_predictions = lgbm_model.predict(features_test)\n",
    "\n",
    "#Undo log transform\n",
    "lgbm_predictions = np.expm1(lgbm_predictions)"
   ]
  },
  {
   "cell_type": "code",
   "execution_count": 143,
   "metadata": {},
   "outputs": [
    {
     "name": "stdout",
     "output_type": "stream",
     "text": [
      "[6.50352858 5.53072994 6.57307854 ... 3.43605294 3.20013402 1.82200499]\n"
     ]
    }
   ],
   "source": [
    "print(lgbm_predictions)"
   ]
  },
  {
   "cell_type": "code",
   "execution_count": 144,
   "metadata": {},
   "outputs": [],
   "source": [
    "stores_test = pd.read_csv(\"../data/stores_test.csv\")\n",
    "stores_test_id = stores_test['store_id'].values"
   ]
  },
  {
   "cell_type": "code",
   "execution_count": 145,
   "metadata": {},
   "outputs": [
    {
     "name": "stdout",
     "output_type": "stream",
     "text": [
      "                              id  predicted\n",
      "0     914206820-914239427-717245   6.503529\n",
      "1     916789157-916823770-824309   5.530730\n",
      "2       913341082-977479363-2948   6.573079\n",
      "3      889682582-889697172-28720   4.096673\n",
      "4     997991699-998006945-417222   4.940493\n",
      "...                          ...        ...\n",
      "8572  917323003-917383529-844309   1.360800\n",
      "8573  917353379-917411824-845904   3.089863\n",
      "8574  917072302-917089248-833647   3.436053\n",
      "8575  916960557-916993161-829908   3.200134\n",
      "8576   987280891-972040746-45320   1.822005\n",
      "\n",
      "[8577 rows x 2 columns]\n"
     ]
    }
   ],
   "source": [
    "predictions = pd.DataFrame()\n",
    "\n",
    "predictions['id'] = stores_test_id\n",
    "predictions['predicted'] = lgbm_predictions\n",
    "predictions.to_csv(\"../predictions/lightGBM14.csv\", index=False)\n",
    "print(predictions)\n"
   ]
  },
  {
   "cell_type": "code",
   "execution_count": 146,
   "metadata": {},
   "outputs": [
    {
     "name": "stderr",
     "output_type": "stream",
     "text": [
      "c:\\Python310\\lib\\site-packages\\lightgbm\\sklearn.py:598: UserWarning: 'silent' argument is deprecated and will be removed in a future release of LightGBM. Pass 'verbose' parameter via keyword arguments instead.\n",
      "  _log_warning(\"'silent' argument is deprecated and will be removed in a future release of LightGBM. \"\n"
     ]
    },
    {
     "name": "stdout",
     "output_type": "stream",
     "text": [
      "A couple of RMSLE scores computed over the train set\n",
      "Perfect prediction: 0.0000\n",
      "Score: 0.3412\n",
      "Score:  0.3412001726773088\n"
     ]
    }
   ],
   "source": [
    "def rmsle(y_true, y_pred):\n",
    "    \"\"\"\n",
    "    Computes the Root Mean Squared Logarithmic Error \n",
    "    \n",
    "    Args:\n",
    "        y_true (np.array): n-dimensional vector of ground-truth values \n",
    "        y_pred (np.array): n-dimensional vecotr of predicted values \n",
    "    \n",
    "    Returns:\n",
    "        A scalar float with the rmsle value \n",
    "    \n",
    "    Note: You can alternatively use sklearn and just do: \n",
    "        `sklearn.metrics.mean_squared_log_error(y_true, y_pred) ** 0.5`\n",
    "    \"\"\"\n",
    "    assert (y_true >= 0).all(), 'Received negative y_true values'\n",
    "    assert (y_pred >= 0).all(), 'Received negative y_pred values'\n",
    "    assert y_true.shape == y_pred.shape, 'y_true and y_pred have different shapes'\n",
    "    y_true_log1p = np.log1p(y_true)  # log(1 + y_true)\n",
    "    y_pred_log1p = np.log1p(y_pred)  # log(1 + y_pred)\n",
    "    return np.sqrt(np.mean(np.square(y_pred_log1p - y_true_log1p)))\n",
    "\n",
    "\n",
    "X_train, X_test, y_train, y_test = train_test_split(features_train, target_train, test_size=0.2, random_state=42)\n",
    "\n",
    "lgbm_model2 = lightgbm.LGBMRegressor(\n",
    "    num_leaves=4,\n",
    "    max_depth=5, \n",
    "    random_state=42, \n",
    "    silent=True, \n",
    "    metric='mse',\n",
    "    n_jobs=4, \n",
    "    n_estimators=1000,\n",
    "    colsample_bytree=0.95,\n",
    "    subsample=0.9,\n",
    "    learning_rate=0.05\n",
    ")\n",
    "\n",
    "lgbm_model2.fit(X_train, y_train)\n",
    "y_pred = lgbm_model2.predict(X_test)\n",
    "# Calculate rmsle for a few example predictions \n",
    "y_true = y_test\n",
    "n = len(features_train)\n",
    "print('A couple of RMSLE scores computed over the train set')\n",
    "print(f'Perfect prediction: {rmsle(y_true, y_true):.4f}')\n",
    "print(f'Score: {rmsle(y_true, y_pred):.4f}')\n",
    "\n",
    "print(\"Score: \",sklearn.metrics.mean_squared_log_error(y_true, y_pred) ** 0.5)"
   ]
  },
  {
   "cell_type": "code",
   "execution_count": null,
   "metadata": {},
   "outputs": [],
   "source": [
    "\n"
   ]
  }
 ],
 "metadata": {
  "kernelspec": {
   "display_name": "Python 3.10.2 64-bit",
   "language": "python",
   "name": "python3"
  },
  "language_info": {
   "codemirror_mode": {
    "name": "ipython",
    "version": 3
   },
   "file_extension": ".py",
   "mimetype": "text/x-python",
   "name": "python",
   "nbconvert_exporter": "python",
   "pygments_lexer": "ipython3",
   "version": "3.10.2"
  },
  "orig_nbformat": 4,
  "vscode": {
   "interpreter": {
    "hash": "369f2c481f4da34e4445cda3fffd2e751bd1c4d706f27375911949ba6bb62e1c"
   }
  }
 },
 "nbformat": 4,
 "nbformat_minor": 2
}
