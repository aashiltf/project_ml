{
 "cells": [
  {
   "cell_type": "code",
   "execution_count": 48,
   "metadata": {},
   "outputs": [],
   "source": [
    "import numpy as np\n",
    "import pandas as pd\n",
    "\n",
    "import lightgbm\n",
    "import matplotlib.pylab as plt\n",
    "import os\n",
    "\n",
    "from sklearn.model_selection import train_test_split\n",
    "import sklearn"
   ]
  },
  {
   "cell_type": "markdown",
   "metadata": {},
   "source": [
    "Inserting all features from test into one dataframe"
   ]
  },
  {
   "cell_type": "code",
   "execution_count": 49,
   "metadata": {},
   "outputs": [
    {
     "name": "stdout",
     "output_type": "stream",
     "text": [
      "       average_income_per_grunnkrets  distance_store_busstop  \\\n",
      "0                           561700.0              585.354489   \n",
      "1                           555720.0              138.798366   \n",
      "2                           495900.0               41.099519   \n",
      "3                           521240.0               56.693017   \n",
      "4                           585360.0              229.077959   \n",
      "...                              ...                     ...   \n",
      "12854                       505640.0              150.004125   \n",
      "12855                       396640.0              322.573926   \n",
      "12856                       549120.0              174.851316   \n",
      "12857                       498660.0              121.372663   \n",
      "12858                       579780.0              189.983143   \n",
      "\n",
      "       distance_to_competitor  plaace_hierarchy_id  sales_channel_name  \\\n",
      "0                    0.000000                 1110                   0   \n",
      "1                   34.547236                 1110                   0   \n",
      "2                    0.000000                 1110                   0   \n",
      "3                    0.000000                 1110                   0   \n",
      "4                    0.000000                 1110                   0   \n",
      "...                       ...                  ...                 ...   \n",
      "12854               27.846659                28112                  90   \n",
      "12855                0.000000                28112                  90   \n",
      "12856               42.202804                28112                  90   \n",
      "12857                0.000000                28112                  90   \n",
      "12858             2542.498404                28112                  90   \n",
      "\n",
      "       area_grunnkrets  \n",
      "0             0.155779  \n",
      "1             0.264278  \n",
      "2             0.160152  \n",
      "3             0.095029  \n",
      "4             0.251070  \n",
      "...                ...  \n",
      "12854         0.291337  \n",
      "12855         0.137188  \n",
      "12856         0.123431  \n",
      "12857         0.034857  \n",
      "12858         0.204915  \n",
      "\n",
      "[12859 rows x 6 columns]\n"
     ]
    }
   ],
   "source": [
    "folder_train = '../features_train_in_use'\n",
    "\n",
    "features_train = pd.read_csv(os.path.join(folder_train, os.listdir(folder_train)[0]))\n",
    "for i in range(1,len(os.listdir(folder_train))):\n",
    "    f = os.path.join(folder_train,os.listdir(folder_train)[i])\n",
    "    if os.path.isfile(f):\n",
    "        features_train = pd.concat([features_train, pd.read_csv(f)], axis=1)\n",
    "print(features_train)\n",
    "        \n",
    "        "
   ]
  },
  {
   "cell_type": "markdown",
   "metadata": {},
   "source": [
    "Repeat for test features"
   ]
  },
  {
   "cell_type": "code",
   "execution_count": 50,
   "metadata": {},
   "outputs": [
    {
     "name": "stdout",
     "output_type": "stream",
     "text": [
      "      average_income_per_grunnkrets  distance_store_busstop  \\\n",
      "0                          551600.0               25.630061   \n",
      "1                          531240.0              111.736189   \n",
      "2                          523300.0              404.825119   \n",
      "3                          591380.0              317.141300   \n",
      "4                          594020.0              101.273354   \n",
      "...                             ...                     ...   \n",
      "8572                       560700.0              364.034347   \n",
      "8573                       593340.0              228.923169   \n",
      "8574                       629100.0              136.232163   \n",
      "8575                       590100.0              129.203732   \n",
      "8576                       529980.0              212.494198   \n",
      "\n",
      "      distance_to_competitor  plaace_hierarchy_id  sales_channel_name  \\\n",
      "0                  70.085760                 1110                   0   \n",
      "1                 177.710439                 1110                   0   \n",
      "2                   0.000000                 1110                   0   \n",
      "3                 740.150349                 1110                   0   \n",
      "4                 472.323401                 1110                   0   \n",
      "...                      ...                  ...                 ...   \n",
      "8572             3313.883303                28112                  85   \n",
      "8573              302.293655                28112                  85   \n",
      "8574               85.988411                28112                  85   \n",
      "8575                0.000000                28112                  85   \n",
      "8576            18175.501583                28112                  85   \n",
      "\n",
      "      area_grunnkrets  \n",
      "0            0.057027  \n",
      "1            0.165993  \n",
      "2            0.236628  \n",
      "3            0.983436  \n",
      "4            0.449502  \n",
      "...               ...  \n",
      "8572         1.708924  \n",
      "8573         0.310575  \n",
      "8574         1.627789  \n",
      "8575         1.103012  \n",
      "8576         1.677433  \n",
      "\n",
      "[8577 rows x 6 columns]\n"
     ]
    }
   ],
   "source": [
    "folder_test = '../features_test_in_use'\n",
    "\n",
    "features_test = pd.read_csv(os.path.join(folder_test, os.listdir(folder_test)[0]))\n",
    "for i in range(1,len(os.listdir(folder_test))):\n",
    "    f = os.path.join(folder_test,os.listdir(folder_test)[i])\n",
    "    if os.path.isfile(f):\n",
    "        features_test = pd.concat([features_test, pd.read_csv(f)], axis=1)\n",
    "print(features_test)\n",
    "    "
   ]
  },
  {
   "cell_type": "markdown",
   "metadata": {},
   "source": [
    "Target train data:"
   ]
  },
  {
   "cell_type": "code",
   "execution_count": 51,
   "metadata": {},
   "outputs": [],
   "source": [
    "target_train = pd.read_csv(\"../data/stores_train.csv\")\n",
    "target_train = target_train['revenue'].values\n",
    "\n",
    "#log transform\n",
    "target_train = np.log1p(target_train)"
   ]
  },
  {
   "cell_type": "markdown",
   "metadata": {},
   "source": [
    "Light GBM model:"
   ]
  },
  {
   "cell_type": "code",
   "execution_count": 52,
   "metadata": {},
   "outputs": [],
   "source": [
    "lgbm_model = lightgbm.LGBMRegressor(\n",
    "    num_leaves=4,\n",
    "    max_depth=5, \n",
    "    random_state=42, \n",
    "    silent=True, \n",
    "    metric='mse',\n",
    "    n_jobs=4, \n",
    "    n_estimators=1000,\n",
    "    colsample_bytree=0.95,\n",
    "    subsample=0.9,\n",
    "    learning_rate=0.05\n",
    ")"
   ]
  },
  {
   "cell_type": "code",
   "execution_count": 53,
   "metadata": {},
   "outputs": [
    {
     "name": "stdout",
     "output_type": "stream",
     "text": [
      "12859\n",
      "[2.94433371 3.21197205 2.83901998 ... 3.6693143  1.53514531 1.20237152]\n",
      "<class 'numpy.ndarray'>\n",
      "12859\n"
     ]
    }
   ],
   "source": [
    "#print(features_train)\n",
    "#print(type(features_train))\n",
    "print(len(features_train))\n",
    "print(target_train)\n",
    "print(type(target_train))\n",
    "target_train = target_train\n",
    "print(len(target_train))"
   ]
  },
  {
   "cell_type": "code",
   "execution_count": 54,
   "metadata": {},
   "outputs": [
    {
     "name": "stderr",
     "output_type": "stream",
     "text": [
      "c:\\Users\\47457\\AppData\\Local\\Programs\\Python\\Python38\\lib\\site-packages\\lightgbm\\sklearn.py:598: UserWarning: 'silent' argument is deprecated and will be removed in a future release of LightGBM. Pass 'verbose' parameter via keyword arguments instead.\n",
      "  _log_warning(\"'silent' argument is deprecated and will be removed in a future release of LightGBM. \"\n"
     ]
    }
   ],
   "source": [
    "lgbm_model.fit(features_train, target_train)\n",
    "lgbm_predictions = lgbm_model.predict(features_test)\n",
    "\n",
    "#Undo log transform\n",
    "lgbm_predictions = np.expm1(lgbm_predictions)"
   ]
  },
  {
   "cell_type": "code",
   "execution_count": 55,
   "metadata": {},
   "outputs": [
    {
     "name": "stdout",
     "output_type": "stream",
     "text": [
      "[8.05847187 6.25293482 5.61486793 ... 2.55079492 2.61450285 1.34032934]\n"
     ]
    }
   ],
   "source": [
    "print(lgbm_predictions)"
   ]
  },
  {
   "cell_type": "code",
   "execution_count": 56,
   "metadata": {},
   "outputs": [],
   "source": [
    "stores_test = pd.read_csv(\"../data/stores_test.csv\")\n",
    "stores_test_id = stores_test['store_id'].values"
   ]
  },
  {
   "cell_type": "code",
   "execution_count": 57,
   "metadata": {},
   "outputs": [
    {
     "name": "stdout",
     "output_type": "stream",
     "text": [
      "                              id  predicted\n",
      "0     914206820-914239427-717245   8.058472\n",
      "1     916789157-916823770-824309   6.252935\n",
      "2       913341082-977479363-2948   5.614868\n",
      "3      889682582-889697172-28720   3.651070\n",
      "4     997991699-998006945-417222   4.941913\n",
      "...                          ...        ...\n",
      "8572  917323003-917383529-844309   1.013721\n",
      "8573  917353379-917411824-845904   2.968954\n",
      "8574  917072302-917089248-833647   2.550795\n",
      "8575  916960557-916993161-829908   2.614503\n",
      "8576   987280891-972040746-45320   1.340329\n",
      "\n",
      "[8577 rows x 2 columns]\n"
     ]
    }
   ],
   "source": [
    "predictions = pd.DataFrame()\n",
    "\n",
    "predictions['id'] = stores_test_id\n",
    "predictions['predicted'] = lgbm_predictions\n",
    "predictions.to_csv(\"../predictions/lightGBM3.csv\", index=False)\n",
    "print(predictions)\n"
   ]
  },
  {
   "cell_type": "code",
   "execution_count": 59,
   "metadata": {},
   "outputs": [
    {
     "name": "stderr",
     "output_type": "stream",
     "text": [
      "c:\\Users\\47457\\AppData\\Local\\Programs\\Python\\Python38\\lib\\site-packages\\lightgbm\\sklearn.py:598: UserWarning: 'silent' argument is deprecated and will be removed in a future release of LightGBM. Pass 'verbose' parameter via keyword arguments instead.\n",
      "  _log_warning(\"'silent' argument is deprecated and will be removed in a future release of LightGBM. \"\n"
     ]
    },
    {
     "name": "stdout",
     "output_type": "stream",
     "text": [
      "A couple of RMSLE scores computed over the train set\n",
      "Perfect prediction: 0.0000\n",
      "All zeros prediciton: 0.3437\n",
      "All ones prediction: 0.3437\n",
      "Score:  0.343684721997982\n"
     ]
    }
   ],
   "source": [
    "def rmsle(y_true, y_pred):\n",
    "    \"\"\"\n",
    "    Computes the Root Mean Squared Logarithmic Error \n",
    "    \n",
    "    Args:\n",
    "        y_true (np.array): n-dimensional vector of ground-truth values \n",
    "        y_pred (np.array): n-dimensional vecotr of predicted values \n",
    "    \n",
    "    Returns:\n",
    "        A scalar float with the rmsle value \n",
    "    \n",
    "    Note: You can alternatively use sklearn and just do: \n",
    "        `sklearn.metrics.mean_squared_log_error(y_true, y_pred) ** 0.5`\n",
    "    \"\"\"\n",
    "    assert (y_true >= 0).all(), 'Received negative y_true values'\n",
    "    assert (y_pred >= 0).all(), 'Received negative y_pred values'\n",
    "    assert y_true.shape == y_pred.shape, 'y_true and y_pred have different shapes'\n",
    "    y_true_log1p = np.log1p(y_true)  # log(1 + y_true)\n",
    "    y_pred_log1p = np.log1p(y_pred)  # log(1 + y_pred)\n",
    "    return np.sqrt(np.mean(np.square(y_pred_log1p - y_true_log1p)))\n",
    "\n",
    "\n",
    "X_train, X_test, y_train, y_test = train_test_split(features_train, target_train, test_size=0.2, random_state=42)\n",
    "\n",
    "lgbm_model2 = lightgbm.LGBMRegressor(\n",
    "    num_leaves=4,\n",
    "    max_depth=5, \n",
    "    random_state=42, \n",
    "    silent=True, \n",
    "    metric='mse',\n",
    "    n_jobs=4, \n",
    "    n_estimators=1000,\n",
    "    colsample_bytree=0.95,\n",
    "    subsample=0.9,\n",
    "    learning_rate=0.05\n",
    ")\n",
    "\n",
    "lgbm_model2.fit(X_train, y_train)\n",
    "y_pred = lgbm_model2.predict(X_test)\n",
    "# Calculate rmsle for a few example predictions \n",
    "y_true = y_test\n",
    "n = len(features_train)\n",
    "print('A couple of RMSLE scores computed over the train set')\n",
    "print(f'Perfect prediction: {rmsle(y_true, y_true):.4f}')\n",
    "print(f'All zeros prediciton: {rmsle(y_true, y_pred):.4f}')\n",
    "print(f'All ones prediction: {rmsle(y_true, y_pred):.4f}')\n",
    "\n",
    "print(\"Score: \",sklearn.metrics.mean_squared_log_error(y_true, y_pred) ** 0.5)"
   ]
  },
  {
   "cell_type": "code",
   "execution_count": null,
   "metadata": {},
   "outputs": [],
   "source": []
  }
 ],
 "metadata": {
  "kernelspec": {
   "display_name": "Python 3.8.7 64-bit",
   "language": "python",
   "name": "python3"
  },
  "language_info": {
   "codemirror_mode": {
    "name": "ipython",
    "version": 3
   },
   "file_extension": ".py",
   "mimetype": "text/x-python",
   "name": "python",
   "nbconvert_exporter": "python",
   "pygments_lexer": "ipython3",
   "version": "3.8.7"
  },
  "orig_nbformat": 4,
  "vscode": {
   "interpreter": {
    "hash": "fba15a8fe0409f50195582ac27b8e95e358fcbd51d8410e6775d4560b732321d"
   }
  }
 },
 "nbformat": 4,
 "nbformat_minor": 2
}
