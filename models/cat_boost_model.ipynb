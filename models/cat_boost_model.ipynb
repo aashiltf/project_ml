{
 "cells": [
  {
   "cell_type": "markdown",
   "metadata": {},
   "source": [
    "# CatBoost"
   ]
  },
  {
   "cell_type": "code",
   "execution_count": 14,
   "metadata": {},
   "outputs": [],
   "source": [
    "from catboost import CatBoostRegressor\n",
    "import pandas as pd\n",
    "import os\n",
    "import numpy as np\n",
    "from sklearn.model_selection import train_test_split\n",
    "from catboost import CatBoostRegressor, Pool"
   ]
  },
  {
   "cell_type": "code",
   "execution_count": 15,
   "metadata": {},
   "outputs": [
    {
     "name": "stdout",
     "output_type": "stream",
     "text": [
      "       average_income_per_grunnkrets  numberOfBusstop categorical_chain_name  \\\n",
      "0                           561700.0             10.0              MCDONALDS   \n",
      "1                           555720.0             30.0              MCDONALDS   \n",
      "2                           495900.0             14.0            BURGER KING   \n",
      "3                           521240.0             11.0            BURGER KING   \n",
      "4                           585360.0             29.0            BURGER KING   \n",
      "...                              ...              ...                    ...   \n",
      "12854                       505640.0             27.0                    NaN   \n",
      "12855                       396640.0             12.0       GULATING GRUPPEN   \n",
      "12856                       549120.0             13.0       GULATING GRUPPEN   \n",
      "12857                       498660.0             35.0                    NaN   \n",
      "12858                       579780.0             10.0                    NaN   \n",
      "\n",
      "      categorical_mall_name categorical_plaace categorical_sales_channel_name  \\\n",
      "0         Magasinet Drammen            1.1.1.0          Hamburger restaurants   \n",
      "1                       NaN            1.1.1.0          Hamburger restaurants   \n",
      "2            Kuben Hønefoss            1.1.1.0          Hamburger restaurants   \n",
      "3         Glasshuspassasjen            1.1.1.0          Hamburger restaurants   \n",
      "4              Tillertorget            1.1.1.0          Hamburger restaurants   \n",
      "...                     ...                ...                            ...   \n",
      "12854                   NaN           2.8.11.2             Beer and soda shop   \n",
      "12855             CC Gjøvik           2.8.11.2             Beer and soda shop   \n",
      "12856   Strømmen Storsenter           2.8.11.2             Beer and soda shop   \n",
      "12857           Bystasjonen           2.8.11.2             Beer and soda shop   \n",
      "12858                   NaN           2.8.11.2             Beer and soda shop   \n",
      "\n",
      "      categorical_street  distance_store_busstop  distance_to_competitor  \\\n",
      "0        BRAGERNES TORG               585.354489                0.000000   \n",
      "1                    NaN              138.798366               34.547236   \n",
      "2       KONG RINGS GATE                41.099519                0.000000   \n",
      "3              STORGATA                56.693017                0.000000   \n",
      "4                    NaN              229.077959                0.000000   \n",
      "...                  ...                     ...                     ...   \n",
      "12854          THUEGATA               150.004125               27.846659   \n",
      "12855                NaN              322.573926                0.000000   \n",
      "12856      STØPERIVEIEN               174.851316               42.202804   \n",
      "12857          VÅGSGATA               121.372663                0.000000   \n",
      "12858       PLANETVEGEN               189.983143             2542.498404   \n",
      "\n",
      "       has_mall_or_not  number_adults_grunnkrets  children_number  \\\n",
      "0                    1                 73.000000         18.00000   \n",
      "1                    0                303.448247        133.19031   \n",
      "2                    1                141.000000         55.00000   \n",
      "3                    1                225.000000         43.00000   \n",
      "4                    1                303.448247        133.19031   \n",
      "...                ...                       ...              ...   \n",
      "12854                0                484.000000        180.00000   \n",
      "12855                1                206.000000         43.00000   \n",
      "12856                1                424.000000        137.00000   \n",
      "12857                1                127.000000          2.00000   \n",
      "12858                0                456.000000        205.00000   \n",
      "\n",
      "       couple_number  features  person_number  singles_number  \\\n",
      "0               26.0       0.0     141.000000            86.0   \n",
      "1                0.0       5.0     749.627012             5.0   \n",
      "2               84.0       0.0     336.000000           181.0   \n",
      "3              126.0       0.0     474.000000           288.0   \n",
      "4                0.0       2.0     749.627012             3.0   \n",
      "...              ...       ...            ...             ...   \n",
      "12854          438.0       0.0    1476.000000           711.0   \n",
      "12855          150.0       0.0     491.000000           291.0   \n",
      "12856          332.0       0.0    1117.000000           520.0   \n",
      "12857           68.0       0.0     194.000000            90.0   \n",
      "12858          282.0       0.0    1127.000000           440.0   \n",
      "\n",
      "       person_concentration  area_grunnkrets  feature  \n",
      "0                905.128333         0.155779      0.0  \n",
      "1               2836.508748         0.264278      0.0  \n",
      "2               2098.003488         0.160152      0.0  \n",
      "3               4987.952436         0.095029      0.0  \n",
      "4               2985.726552         0.251070      0.0  \n",
      "...                     ...              ...      ...  \n",
      "12854           5066.303140         0.291337      0.0  \n",
      "12855           3579.041549         0.137188      0.0  \n",
      "12856           9049.611742         0.123431      0.0  \n",
      "12857           5565.618206         0.034857      0.0  \n",
      "12858           5499.841845         0.204915      0.0  \n",
      "\n",
      "[12859 rows x 19 columns]\n"
     ]
    }
   ],
   "source": [
    "# Inserting features from TRAIN into one dataset\n",
    "\n",
    "folder_train = '../features_train_in_use'\n",
    "\n",
    "features_train = pd.read_csv(os.path.join(folder_train, os.listdir(folder_train)[0]))\n",
    "for i in range(1,len(os.listdir(folder_train))):\n",
    "    f = os.path.join(folder_train,os.listdir(folder_train)[i])\n",
    "    if os.path.isfile(f):\n",
    "        features_train = pd.concat([features_train, pd.read_csv(f)], axis=1)\n",
    "print(features_train)"
   ]
  },
  {
   "cell_type": "code",
   "execution_count": 16,
   "metadata": {},
   "outputs": [
    {
     "name": "stdout",
     "output_type": "stream",
     "text": [
      "      average_income_per_grunnkrets  numberOfBusstop categorical_chain_name  \\\n",
      "0                          551600.0             21.0                    NaN   \n",
      "1                          531240.0             11.0            BURGER KING   \n",
      "2                          523300.0             11.0            BURGER KING   \n",
      "3                          591380.0             22.0            BURGER KING   \n",
      "4                          594020.0             21.0       VULKAN BURGERBAR   \n",
      "...                             ...              ...                    ...   \n",
      "8572                       560700.0              9.0       GULATING GRUPPEN   \n",
      "8573                       593340.0             28.0                    NaN   \n",
      "8574                       629100.0              6.0       GULATING GRUPPEN   \n",
      "8575                       590100.0              8.0                    NaN   \n",
      "8576                       529980.0              4.0                    NaN   \n",
      "\n",
      "     categorical_mall_name categorical_plaace categorical_sales_channel_name  \\\n",
      "0                      NaN            1.1.1.0          Hamburger restaurants   \n",
      "1                      NaN            1.1.1.0          Hamburger restaurants   \n",
      "2           Stovner Senter            1.1.1.0          Hamburger restaurants   \n",
      "3                      NaN            1.1.1.0          Hamburger restaurants   \n",
      "4                      NaN            1.1.1.0          Hamburger restaurants   \n",
      "...                    ...                ...                            ...   \n",
      "8572                   NaN           2.8.11.2             Beer and soda shop   \n",
      "8573                   NaN           2.8.11.2             Beer and soda shop   \n",
      "8574                   NaN           2.8.11.2             Beer and soda shop   \n",
      "8575                   NaN           2.8.11.2             Beer and soda shop   \n",
      "8576                   NaN           2.8.11.2             Beer and soda shop   \n",
      "\n",
      "        categorical_street  distance_store_busstop  distance_to_competitor  \\\n",
      "0             STRØMSVEIEN                25.630061               70.085760   \n",
      "1                   MYREN               111.736189              177.710439   \n",
      "2          STOVNER SENTER               404.825119                0.000000   \n",
      "3             TUNGASLETTA               317.141300              740.150349   \n",
      "4     AUD SCHØNEMANNS VEI               101.273354              472.323401   \n",
      "...                    ...                     ...                     ...   \n",
      "8572           BRÅTAVEGEN               364.034347             3313.883303   \n",
      "8573             SANDVIGÅ               228.923169              302.293655   \n",
      "8574         GARDERBAKKEN               136.232163               85.988411   \n",
      "8575        RAVNANGERVEGEN              129.203732                0.000000   \n",
      "8576                   NaN              212.494198            18175.501583   \n",
      "\n",
      "      has_mall_or_not  number_adults_grunnkrets  children_number  \\\n",
      "0                   0                493.000000       224.000000   \n",
      "1                   0                297.220554       129.976692   \n",
      "2                   1               1035.000000       566.000000   \n",
      "3                   0                 63.000000        41.000000   \n",
      "4                   0               2445.000000      1176.000000   \n",
      "...               ...                       ...              ...   \n",
      "8572                0                159.000000        84.000000   \n",
      "8573                0                479.000000        61.000000   \n",
      "8574                0                459.000000       224.000000   \n",
      "8575                0                345.000000       216.000000   \n",
      "8576                0                447.000000       285.000000   \n",
      "\n",
      "      couple_number  features  person_number  singles_number  \\\n",
      "0             176.0       0.0     970.000000           391.0   \n",
      "1               0.0       0.0     734.051575             3.0   \n",
      "2             354.0       0.0    2348.000000          1137.0   \n",
      "3              30.0       0.0     150.000000            36.0   \n",
      "4             878.0       0.0    4576.000000          1466.0   \n",
      "...             ...       ...            ...             ...   \n",
      "8572          120.0       0.0     428.000000            97.0   \n",
      "8573          330.0       0.0     905.000000           405.0   \n",
      "8574          322.0       0.0    1287.000000           435.0   \n",
      "8575          178.0       0.0     914.000000           202.0   \n",
      "8576          270.0       0.0    1278.000000           440.0   \n",
      "\n",
      "      person_concentration  area_grunnkrets  feature  \n",
      "0             17009.352877         0.057027      0.0  \n",
      "1              4422.184270         0.165993      0.0  \n",
      "2              9922.759804         0.236628      0.0  \n",
      "3               152.526395         0.983436      0.0  \n",
      "4             10180.147327         0.449502      0.0  \n",
      "...                    ...              ...      ...  \n",
      "8572            250.449972         1.708924      0.0  \n",
      "8573           2913.949536         0.310575      0.0  \n",
      "8574            790.643228         1.627789      0.0  \n",
      "8575            828.640299         1.103012      0.0  \n",
      "8576            761.878594         1.677433      0.0  \n",
      "\n",
      "[8577 rows x 19 columns]\n"
     ]
    }
   ],
   "source": [
    "# Inserting features from TEST into one dataset\n",
    "\n",
    "folder_test = '../features_test_in_use'\n",
    "\n",
    "features_test = pd.read_csv(os.path.join(folder_test, os.listdir(folder_test)[0]))\n",
    "for i in range(1,len(os.listdir(folder_test))):\n",
    "    f = os.path.join(folder_test,os.listdir(folder_test)[i])\n",
    "    if os.path.isfile(f):\n",
    "        features_test = pd.concat([features_test, pd.read_csv(f)], axis=1)\n",
    "print(features_test)"
   ]
  },
  {
   "cell_type": "code",
   "execution_count": 17,
   "metadata": {},
   "outputs": [],
   "source": [
    "# Target TRAIN data\n",
    "\n",
    "target_train = pd.read_csv(\"../data/stores_train.csv\")\n",
    "target_train = target_train['revenue'].values\n",
    "\n",
    "target_train = np.log1p(target_train)"
   ]
  },
  {
   "cell_type": "code",
   "execution_count": 18,
   "metadata": {},
   "outputs": [],
   "source": [
    "catboost_model = CatBoostRegressor(\n",
    "    n_estimators=2000,\n",
    "    learning_rate=0.05,\n",
    "    thread_count=-1,\n",
    "    max_depth=6,\n",
    "    silent=True,\n",
    "    loss_function='RMSE',\n",
    "    random_seed=42,\n",
    "    bagging_temperature=0.3,\n",
    "    od_type=\"Iter\"\n",
    ")"
   ]
  },
  {
   "cell_type": "code",
   "execution_count": 19,
   "metadata": {},
   "outputs": [],
   "source": [
    "for column in features_train.columns:\n",
    "    values=features_train[column].values\n",
    "    for i in range(len(values)):\n",
    "        if type(values[i])==float:\n",
    "            values[i]=\"nan\""
   ]
  },
  {
   "cell_type": "code",
   "execution_count": 20,
   "metadata": {},
   "outputs": [],
   "source": [
    "for column in features_test.columns:\n",
    "    values=features_test[column].values\n",
    "    for i in range(len(values)):\n",
    "        if type(values[i])==float:\n",
    "            values[i]=\"nan\""
   ]
  },
  {
   "cell_type": "code",
   "execution_count": 21,
   "metadata": {},
   "outputs": [
    {
     "name": "stderr",
     "output_type": "stream",
     "text": [
      "c:\\Python310\\lib\\site-packages\\catboost\\core.py:1419: FutureWarning: iteritems is deprecated and will be removed in a future version. Use .items instead.\n",
      "  self._init_pool(data, label, cat_features, text_features, embedding_features, embedding_features_data, pairs, weight,\n"
     ]
    }
   ],
   "source": [
    "# TRAIN\n",
    "\n",
    "categorical_features_train = []\n",
    "\n",
    "for col in features_train.columns:\n",
    "    if col.startswith(\"categorical\"):\n",
    "        categorical_features_train.append(col)\n",
    "\n",
    "Pool_train= Pool(features_train,target_train,cat_features=categorical_features_train)"
   ]
  },
  {
   "cell_type": "code",
   "execution_count": 22,
   "metadata": {},
   "outputs": [],
   "source": [
    "# TEST\n",
    "\n",
    "categorical_features_test = []\n",
    "\n",
    "for col in features_test.columns:\n",
    "    if col.startswith(\"categorical\"):\n",
    "        categorical_features_test.append(col)\n",
    "\n",
    "Pool_test= Pool(features_test, cat_features=categorical_features_test)"
   ]
  },
  {
   "cell_type": "code",
   "execution_count": 23,
   "metadata": {},
   "outputs": [],
   "source": [
    "# Fit and predict\n",
    "\n",
    "catboost_model.fit(Pool_train)\n",
    "\n",
    "catboost_predictions = catboost_model.predict(Pool_test)\n",
    "catboost_predictions = np.expm1(catboost_predictions)\n",
    "\n",
    "\n"
   ]
  },
  {
   "cell_type": "code",
   "execution_count": 24,
   "metadata": {},
   "outputs": [
    {
     "name": "stdout",
     "output_type": "stream",
     "text": [
      "[4.42105707 9.79808928 2.74481924 ... 3.7469135  3.7331962  1.97785286]\n"
     ]
    }
   ],
   "source": [
    "print(catboost_predictions)"
   ]
  },
  {
   "cell_type": "code",
   "execution_count": 25,
   "metadata": {},
   "outputs": [
    {
     "name": "stdout",
     "output_type": "stream",
     "text": [
      "                              id  predicted\n",
      "0     914206820-914239427-717245   4.421057\n",
      "1     916789157-916823770-824309   9.798089\n",
      "2       913341082-977479363-2948   2.744819\n",
      "3      889682582-889697172-28720  11.072728\n",
      "4     997991699-998006945-417222  14.007197\n",
      "...                          ...        ...\n",
      "8572  917323003-917383529-844309   3.119592\n",
      "8573  917353379-917411824-845904   3.258263\n",
      "8574  917072302-917089248-833647   3.746914\n",
      "8575  916960557-916993161-829908   3.733196\n",
      "8576   987280891-972040746-45320   1.977853\n",
      "\n",
      "[8577 rows x 2 columns]\n"
     ]
    }
   ],
   "source": [
    "# Get storeid as first column\n",
    "\n",
    "stores_test = pd.read_csv(\"../data/stores_test.csv\")\n",
    "stores_test_id = stores_test['store_id'].values\n",
    "\n",
    "# insert predictions as second column\n",
    "\n",
    "predictions = pd.DataFrame()\n",
    "\n",
    "predictions['id'] = stores_test_id\n",
    "predictions['predicted'] = catboost_predictions\n",
    "predictions.to_csv(\"../predictions/catboost5.csv\", index=False)\n",
    "print(predictions)"
   ]
  },
  {
   "cell_type": "code",
   "execution_count": 26,
   "metadata": {},
   "outputs": [
    {
     "name": "stderr",
     "output_type": "stream",
     "text": [
      "c:\\Python310\\lib\\site-packages\\catboost\\core.py:1419: FutureWarning: iteritems is deprecated and will be removed in a future version. Use .items instead.\n",
      "  self._init_pool(data, label, cat_features, text_features, embedding_features, embedding_features_data, pairs, weight,\n"
     ]
    },
    {
     "ename": "CatBoostError",
     "evalue": "Bad value for num_feature[non_default_doc_idx=2,feature_idx=2]=\"B-YOUNG\": Cannot convert 'b'B-YOUNG'' to float",
     "output_type": "error",
     "traceback": [
      "\u001b[1;31m---------------------------------------------------------------------------\u001b[0m",
      "\u001b[1;31mTypeError\u001b[0m                                 Traceback (most recent call last)",
      "File \u001b[1;32m_catboost.pyx:2287\u001b[0m, in \u001b[0;36m_catboost.get_float_feature\u001b[1;34m()\u001b[0m\n",
      "File \u001b[1;32m_catboost.pyx:1140\u001b[0m, in \u001b[0;36m_catboost._FloatOrNan\u001b[1;34m()\u001b[0m\n",
      "File \u001b[1;32m_catboost.pyx:952\u001b[0m, in \u001b[0;36m_catboost._FloatOrNanFromString\u001b[1;34m()\u001b[0m\n",
      "\u001b[1;31mTypeError\u001b[0m: Cannot convert 'b'B-YOUNG'' to float",
      "\nDuring handling of the above exception, another exception occurred:\n",
      "\u001b[1;31mCatBoostError\u001b[0m                             Traceback (most recent call last)",
      "Cell \u001b[1;32mIn [26], line 37\u001b[0m\n\u001b[0;32m     23\u001b[0m X_train, X_test, y_train, y_test \u001b[39m=\u001b[39m train_test_split(features_train, target_train, test_size\u001b[39m=\u001b[39m\u001b[39m0.2\u001b[39m, random_state\u001b[39m=\u001b[39m\u001b[39m42\u001b[39m)\n\u001b[0;32m     25\u001b[0m catboost_model2 \u001b[39m=\u001b[39m CatBoostRegressor(\n\u001b[0;32m     26\u001b[0m     n_estimators\u001b[39m=\u001b[39m\u001b[39m2000\u001b[39m,\n\u001b[0;32m     27\u001b[0m     learning_rate\u001b[39m=\u001b[39m\u001b[39m0.05\u001b[39m,\n\u001b[1;32m   (...)\u001b[0m\n\u001b[0;32m     34\u001b[0m     od_type\u001b[39m=\u001b[39m\u001b[39m\"\u001b[39m\u001b[39mIter\u001b[39m\u001b[39m\"\u001b[39m\n\u001b[0;32m     35\u001b[0m )\n\u001b[1;32m---> 37\u001b[0m catboost_model2\u001b[39m.\u001b[39;49mfit(X_train, y_train)\n\u001b[0;32m     38\u001b[0m y_pred \u001b[39m=\u001b[39m catboost_model2\u001b[39m.\u001b[39mpredict(X_test)\n\u001b[0;32m     41\u001b[0m \u001b[39m# Calculate rmsle for a few example predictions \u001b[39;00m\n",
      "File \u001b[1;32mc:\\Python310\\lib\\site-packages\\catboost\\core.py:5730\u001b[0m, in \u001b[0;36mCatBoostRegressor.fit\u001b[1;34m(self, X, y, cat_features, text_features, embedding_features, sample_weight, baseline, use_best_model, eval_set, verbose, logging_level, plot, plot_file, column_description, verbose_eval, metric_period, silent, early_stopping_rounds, save_snapshot, snapshot_file, snapshot_interval, init_model, callbacks, log_cout, log_cerr)\u001b[0m\n\u001b[0;32m   5727\u001b[0m \u001b[39mif\u001b[39;00m \u001b[39m'\u001b[39m\u001b[39mloss_function\u001b[39m\u001b[39m'\u001b[39m \u001b[39min\u001b[39;00m params:\n\u001b[0;32m   5728\u001b[0m     CatBoostRegressor\u001b[39m.\u001b[39m_check_is_compatible_loss(params[\u001b[39m'\u001b[39m\u001b[39mloss_function\u001b[39m\u001b[39m'\u001b[39m])\n\u001b[1;32m-> 5730\u001b[0m \u001b[39mreturn\u001b[39;00m \u001b[39mself\u001b[39;49m\u001b[39m.\u001b[39;49m_fit(X, y, cat_features, text_features, embedding_features, \u001b[39mNone\u001b[39;49;00m, sample_weight, \u001b[39mNone\u001b[39;49;00m, \u001b[39mNone\u001b[39;49;00m, \u001b[39mNone\u001b[39;49;00m, \u001b[39mNone\u001b[39;49;00m, baseline,\n\u001b[0;32m   5731\u001b[0m                  use_best_model, eval_set, verbose, logging_level, plot, plot_file, column_description,\n\u001b[0;32m   5732\u001b[0m                  verbose_eval, metric_period, silent, early_stopping_rounds,\n\u001b[0;32m   5733\u001b[0m                  save_snapshot, snapshot_file, snapshot_interval, init_model, callbacks, log_cout, log_cerr)\n",
      "File \u001b[1;32mc:\\Python310\\lib\\site-packages\\catboost\\core.py:2339\u001b[0m, in \u001b[0;36mCatBoost._fit\u001b[1;34m(self, X, y, cat_features, text_features, embedding_features, pairs, sample_weight, group_id, group_weight, subgroup_id, pairs_weight, baseline, use_best_model, eval_set, verbose, logging_level, plot, plot_file, column_description, verbose_eval, metric_period, silent, early_stopping_rounds, save_snapshot, snapshot_file, snapshot_interval, init_model, callbacks, log_cout, log_cerr)\u001b[0m\n\u001b[0;32m   2336\u001b[0m \u001b[39mif\u001b[39;00m y \u001b[39mis\u001b[39;00m \u001b[39mNone\u001b[39;00m \u001b[39mand\u001b[39;00m \u001b[39mnot\u001b[39;00m \u001b[39misinstance\u001b[39m(X, PATH_TYPES \u001b[39m+\u001b[39m (Pool,)):\n\u001b[0;32m   2337\u001b[0m     \u001b[39mraise\u001b[39;00m CatBoostError(\u001b[39m\"\u001b[39m\u001b[39my may be None only when X is an instance of catboost.Pool or string\u001b[39m\u001b[39m\"\u001b[39m)\n\u001b[1;32m-> 2339\u001b[0m train_params \u001b[39m=\u001b[39m \u001b[39mself\u001b[39;49m\u001b[39m.\u001b[39;49m_prepare_train_params(\n\u001b[0;32m   2340\u001b[0m     X\u001b[39m=\u001b[39;49mX, y\u001b[39m=\u001b[39;49my, cat_features\u001b[39m=\u001b[39;49mcat_features, text_features\u001b[39m=\u001b[39;49mtext_features, embedding_features\u001b[39m=\u001b[39;49membedding_features,\n\u001b[0;32m   2341\u001b[0m     pairs\u001b[39m=\u001b[39;49mpairs, sample_weight\u001b[39m=\u001b[39;49msample_weight, group_id\u001b[39m=\u001b[39;49mgroup_id, group_weight\u001b[39m=\u001b[39;49mgroup_weight,\n\u001b[0;32m   2342\u001b[0m     subgroup_id\u001b[39m=\u001b[39;49msubgroup_id, pairs_weight\u001b[39m=\u001b[39;49mpairs_weight, baseline\u001b[39m=\u001b[39;49mbaseline, use_best_model\u001b[39m=\u001b[39;49muse_best_model,\n\u001b[0;32m   2343\u001b[0m     eval_set\u001b[39m=\u001b[39;49meval_set, verbose\u001b[39m=\u001b[39;49mverbose, logging_level\u001b[39m=\u001b[39;49mlogging_level, plot\u001b[39m=\u001b[39;49mplot, plot_file\u001b[39m=\u001b[39;49mplot_file,\n\u001b[0;32m   2344\u001b[0m     column_description\u001b[39m=\u001b[39;49mcolumn_description, verbose_eval\u001b[39m=\u001b[39;49mverbose_eval, metric_period\u001b[39m=\u001b[39;49mmetric_period,\n\u001b[0;32m   2345\u001b[0m     silent\u001b[39m=\u001b[39;49msilent, early_stopping_rounds\u001b[39m=\u001b[39;49mearly_stopping_rounds, save_snapshot\u001b[39m=\u001b[39;49msave_snapshot,\n\u001b[0;32m   2346\u001b[0m     snapshot_file\u001b[39m=\u001b[39;49msnapshot_file, snapshot_interval\u001b[39m=\u001b[39;49msnapshot_interval, init_model\u001b[39m=\u001b[39;49minit_model,\n\u001b[0;32m   2347\u001b[0m     callbacks\u001b[39m=\u001b[39;49mcallbacks\n\u001b[0;32m   2348\u001b[0m )\n\u001b[0;32m   2349\u001b[0m params \u001b[39m=\u001b[39m train_params[\u001b[39m\"\u001b[39m\u001b[39mparams\u001b[39m\u001b[39m\"\u001b[39m]\n\u001b[0;32m   2350\u001b[0m train_pool \u001b[39m=\u001b[39m train_params[\u001b[39m\"\u001b[39m\u001b[39mtrain_pool\u001b[39m\u001b[39m\"\u001b[39m]\n",
      "File \u001b[1;32mc:\\Python310\\lib\\site-packages\\catboost\\core.py:2220\u001b[0m, in \u001b[0;36mCatBoost._prepare_train_params\u001b[1;34m(self, X, y, cat_features, text_features, embedding_features, pairs, sample_weight, group_id, group_weight, subgroup_id, pairs_weight, baseline, use_best_model, eval_set, verbose, logging_level, plot, plot_file, column_description, verbose_eval, metric_period, silent, early_stopping_rounds, save_snapshot, snapshot_file, snapshot_interval, init_model, callbacks)\u001b[0m\n\u001b[0;32m   2217\u001b[0m text_features \u001b[39m=\u001b[39m _process_feature_indices(text_features, X, params, \u001b[39m'\u001b[39m\u001b[39mtext_features\u001b[39m\u001b[39m'\u001b[39m)\n\u001b[0;32m   2218\u001b[0m embedding_features \u001b[39m=\u001b[39m _process_feature_indices(embedding_features, X, params, \u001b[39m'\u001b[39m\u001b[39membedding_features\u001b[39m\u001b[39m'\u001b[39m)\n\u001b[1;32m-> 2220\u001b[0m train_pool \u001b[39m=\u001b[39m _build_train_pool(X, y, cat_features, text_features, embedding_features, pairs,\n\u001b[0;32m   2221\u001b[0m                                sample_weight, group_id, group_weight, subgroup_id, pairs_weight,\n\u001b[0;32m   2222\u001b[0m                                baseline, column_description)\n\u001b[0;32m   2223\u001b[0m \u001b[39mif\u001b[39;00m train_pool\u001b[39m.\u001b[39mis_empty_:\n\u001b[0;32m   2224\u001b[0m     \u001b[39mraise\u001b[39;00m CatBoostError(\u001b[39m\"\u001b[39m\u001b[39mX is empty.\u001b[39m\u001b[39m\"\u001b[39m)\n",
      "File \u001b[1;32mc:\\Python310\\lib\\site-packages\\catboost\\core.py:1438\u001b[0m, in \u001b[0;36m_build_train_pool\u001b[1;34m(X, y, cat_features, text_features, embedding_features, pairs, sample_weight, group_id, group_weight, subgroup_id, pairs_weight, baseline, column_description)\u001b[0m\n\u001b[0;32m   1436\u001b[0m     \u001b[39mif\u001b[39;00m y \u001b[39mis\u001b[39;00m \u001b[39mNone\u001b[39;00m:\n\u001b[0;32m   1437\u001b[0m         \u001b[39mraise\u001b[39;00m CatBoostError(\u001b[39m\"\u001b[39m\u001b[39my has not initialized in fit(): X is not catboost.Pool object, y must be not None in fit().\u001b[39m\u001b[39m\"\u001b[39m)\n\u001b[1;32m-> 1438\u001b[0m     train_pool \u001b[39m=\u001b[39m Pool(X, y, cat_features\u001b[39m=\u001b[39;49mcat_features, text_features\u001b[39m=\u001b[39;49mtext_features, embedding_features\u001b[39m=\u001b[39;49membedding_features, pairs\u001b[39m=\u001b[39;49mpairs, weight\u001b[39m=\u001b[39;49msample_weight, group_id\u001b[39m=\u001b[39;49mgroup_id,\n\u001b[0;32m   1439\u001b[0m                       group_weight\u001b[39m=\u001b[39;49mgroup_weight, subgroup_id\u001b[39m=\u001b[39;49msubgroup_id, pairs_weight\u001b[39m=\u001b[39;49mpairs_weight, baseline\u001b[39m=\u001b[39;49mbaseline)\n\u001b[0;32m   1440\u001b[0m \u001b[39mreturn\u001b[39;00m train_pool\n",
      "File \u001b[1;32mc:\\Python310\\lib\\site-packages\\catboost\\core.py:792\u001b[0m, in \u001b[0;36mPool.__init__\u001b[1;34m(self, data, label, cat_features, text_features, embedding_features, embedding_features_data, column_description, pairs, delimiter, has_header, ignore_csv_quoting, weight, group_id, group_weight, subgroup_id, pairs_weight, baseline, timestamp, feature_names, feature_tags, thread_count, log_cout, log_cerr)\u001b[0m\n\u001b[0;32m    786\u001b[0m         \u001b[39mif\u001b[39;00m \u001b[39misinstance\u001b[39m(feature_names, PATH_TYPES):\n\u001b[0;32m    787\u001b[0m             \u001b[39mraise\u001b[39;00m CatBoostError(\n\u001b[0;32m    788\u001b[0m                 \u001b[39m\"\u001b[39m\u001b[39mfeature_names must be None or have non-string type when the pool is created from \u001b[39m\u001b[39m\"\u001b[39m\n\u001b[0;32m    789\u001b[0m                 \u001b[39m\"\u001b[39m\u001b[39mpython objects.\u001b[39m\u001b[39m\"\u001b[39m\n\u001b[0;32m    790\u001b[0m             )\n\u001b[1;32m--> 792\u001b[0m         \u001b[39mself\u001b[39;49m\u001b[39m.\u001b[39;49m_init(data, label, cat_features, text_features, embedding_features, embedding_features_data, pairs, weight,\n\u001b[0;32m    793\u001b[0m                    group_id, group_weight, subgroup_id, pairs_weight, baseline, timestamp, feature_names, feature_tags, thread_count)\n\u001b[0;32m    794\u001b[0m \u001b[39msuper\u001b[39m(Pool, \u001b[39mself\u001b[39m)\u001b[39m.\u001b[39m\u001b[39m__init__\u001b[39m()\n",
      "File \u001b[1;32mc:\\Python310\\lib\\site-packages\\catboost\\core.py:1419\u001b[0m, in \u001b[0;36mPool._init\u001b[1;34m(self, data, label, cat_features, text_features, embedding_features, embedding_features_data, pairs, weight, group_id, group_weight, subgroup_id, pairs_weight, baseline, timestamp, feature_names, feature_tags, thread_count)\u001b[0m\n\u001b[0;32m   1417\u001b[0m \u001b[39mif\u001b[39;00m feature_tags \u001b[39mis\u001b[39;00m \u001b[39mnot\u001b[39;00m \u001b[39mNone\u001b[39;00m:\n\u001b[0;32m   1418\u001b[0m     feature_tags \u001b[39m=\u001b[39m \u001b[39mself\u001b[39m\u001b[39m.\u001b[39m_check_transform_tags(feature_tags, feature_names)\n\u001b[1;32m-> 1419\u001b[0m \u001b[39mself\u001b[39;49m\u001b[39m.\u001b[39;49m_init_pool(data, label, cat_features, text_features, embedding_features, embedding_features_data, pairs, weight,\n\u001b[0;32m   1420\u001b[0m                 group_id, group_weight, subgroup_id, pairs_weight, baseline, timestamp, feature_names, feature_tags, thread_count)\n",
      "File \u001b[1;32m_catboost.pyx:3953\u001b[0m, in \u001b[0;36m_catboost._PoolBase._init_pool\u001b[1;34m()\u001b[0m\n",
      "File \u001b[1;32m_catboost.pyx:4003\u001b[0m, in \u001b[0;36m_catboost._PoolBase._init_pool\u001b[1;34m()\u001b[0m\n",
      "File \u001b[1;32m_catboost.pyx:3819\u001b[0m, in \u001b[0;36m_catboost._PoolBase._init_features_order_layout_pool\u001b[1;34m()\u001b[0m\n",
      "File \u001b[1;32m_catboost.pyx:2787\u001b[0m, in \u001b[0;36m_catboost._set_features_order_data_pd_data_frame\u001b[1;34m()\u001b[0m\n",
      "File \u001b[1;32m_catboost.pyx:2328\u001b[0m, in \u001b[0;36m_catboost.create_num_factor_data\u001b[1;34m()\u001b[0m\n",
      "File \u001b[1;32m_catboost.pyx:2289\u001b[0m, in \u001b[0;36m_catboost.get_float_feature\u001b[1;34m()\u001b[0m\n",
      "\u001b[1;31mCatBoostError\u001b[0m: Bad value for num_feature[non_default_doc_idx=2,feature_idx=2]=\"B-YOUNG\": Cannot convert 'b'B-YOUNG'' to float"
     ]
    }
   ],
   "source": [
    "def rmsle(y_true, y_pred):\n",
    "    \"\"\"\n",
    "    Computes the Root Mean Squared Logarithmic Error \n",
    "    \n",
    "    Args:\n",
    "        y_true (np.array): n-dimensional vector of ground-truth values \n",
    "        y_pred (np.array): n-dimensional vecotr of predicted values \n",
    "    \n",
    "    Returns:\n",
    "        A scalar float with the rmsle value \n",
    "    \n",
    "    Note: You can alternatively use sklearn and just do: \n",
    "        sklearn.metrics.mean_squared_log_error(y_true, y_pred) ** 0.5\n",
    "    \"\"\"\n",
    "    assert (y_true >= 0).all(), 'Received negative y_true values'\n",
    "    assert (y_pred >= 0).all(), 'Received negative y_pred values'\n",
    "    assert y_true.shape == y_pred.shape, 'y_true and y_pred have different shapes'\n",
    "    y_true_log1p = np.log1p(y_true)  # log(1 + y_true)\n",
    "    y_pred_log1p = np.log1p(y_pred)  # log(1 + y_pred)\n",
    "    return np.sqrt(np.mean(np.square(y_pred_log1p - y_true_log1p)))\n",
    "\n",
    "\n",
    "X_train, X_test, y_train, y_test = train_test_split(features_train, target_train, test_size=0.2, random_state=42)\n",
    "\n",
    "catboost_model2 = CatBoostRegressor(\n",
    "    n_estimators=2000,\n",
    "    learning_rate=0.05,\n",
    "    thread_count=-1,\n",
    "    max_depth=6,\n",
    "    silent=True,\n",
    "    loss_function='RMSE',\n",
    "    random_seed=42,\n",
    "    bagging_temperature=0.3,\n",
    "    od_type=\"Iter\"\n",
    ")\n",
    "\n",
    "catboost_model2.fit(X_train, y_train)\n",
    "y_pred = catboost_model2.predict(X_test)\n",
    "\n",
    "\n",
    "# Calculate rmsle for a few example predictions \n",
    "y_true = y_test\n",
    "n = len(features_train)\n",
    "print('A couple of RMSLE scores computed over the train set')\n",
    "print(f'Perfect prediction: {rmsle(y_true, y_true):.4f}')\n",
    "print(f'All zeros prediciton: {rmsle(y_true, y_pred):.4f}')\n",
    "print(f'All ones prediction: {rmsle(y_true, y_pred):.4f}')"
   ]
  }
 ],
 "metadata": {
  "kernelspec": {
   "display_name": "Python 3.10.2 64-bit",
   "language": "python",
   "name": "python3"
  },
  "language_info": {
   "codemirror_mode": {
    "name": "ipython",
    "version": 3
   },
   "file_extension": ".py",
   "mimetype": "text/x-python",
   "name": "python",
   "nbconvert_exporter": "python",
   "pygments_lexer": "ipython3",
   "version": "3.10.2"
  },
  "orig_nbformat": 4,
  "vscode": {
   "interpreter": {
    "hash": "369f2c481f4da34e4445cda3fffd2e751bd1c4d706f27375911949ba6bb62e1c"
   }
  }
 },
 "nbformat": 4,
 "nbformat_minor": 2
}
