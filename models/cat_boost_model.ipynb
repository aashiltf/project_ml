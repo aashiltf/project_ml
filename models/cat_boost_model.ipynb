{
 "cells": [
  {
   "cell_type": "markdown",
   "metadata": {},
   "source": [
    "# CatBoost"
   ]
  },
  {
   "cell_type": "code",
   "execution_count": 161,
   "metadata": {},
   "outputs": [],
   "source": [
    "from catboost import CatBoostRegressor\n",
    "import pandas as pd\n",
    "import os\n",
    "import numpy as np\n",
    "from sklearn.model_selection import train_test_split\n",
    "from catboost import CatBoostRegressor, Pool\n",
    "import math\n",
    "import sklearn"
   ]
  },
  {
   "cell_type": "code",
   "execution_count": 162,
   "metadata": {},
   "outputs": [
    {
     "name": "stdout",
     "output_type": "stream",
     "text": [
      "       average_income_per_grunnkrets  numberOfBusstop categorical_chain_name  \\\n",
      "0                           561700.0             10.0              MCDONALDS   \n",
      "1                           555720.0             30.0              MCDONALDS   \n",
      "2                           495900.0             14.0            BURGER KING   \n",
      "3                           521240.0             11.0            BURGER KING   \n",
      "4                           585360.0             29.0            BURGER KING   \n",
      "...                              ...              ...                    ...   \n",
      "12854                       505640.0             27.0                    NaN   \n",
      "12855                       396640.0             12.0       GULATING GRUPPEN   \n",
      "12856                       549120.0             13.0       GULATING GRUPPEN   \n",
      "12857                       498660.0             35.0                    NaN   \n",
      "12858                       579780.0             10.0                    NaN   \n",
      "\n",
      "      categorical_mall_name categorical_plaace categorical_sales_channel_name  \\\n",
      "0         Magasinet Drammen            1.1.1.0          Hamburger restaurants   \n",
      "1                       NaN            1.1.1.0          Hamburger restaurants   \n",
      "2            Kuben Hønefoss            1.1.1.0          Hamburger restaurants   \n",
      "3         Glasshuspassasjen            1.1.1.0          Hamburger restaurants   \n",
      "4              Tillertorget            1.1.1.0          Hamburger restaurants   \n",
      "...                     ...                ...                            ...   \n",
      "12854                   NaN           2.8.11.2             Beer and soda shop   \n",
      "12855             CC Gjøvik           2.8.11.2             Beer and soda shop   \n",
      "12856   Strømmen Storsenter           2.8.11.2             Beer and soda shop   \n",
      "12857           Bystasjonen           2.8.11.2             Beer and soda shop   \n",
      "12858                   NaN           2.8.11.2             Beer and soda shop   \n",
      "\n",
      "      categorical_street  distance_store_busstop  distance_to_competitor  \\\n",
      "0        BRAGERNES TORG               585.354489                0.000000   \n",
      "1                    NaN              138.798366               34.547236   \n",
      "2       KONG RINGS GATE                41.099519                0.000000   \n",
      "3              STORGATA                56.693017                0.000000   \n",
      "4                    NaN              229.077959                0.000000   \n",
      "...                  ...                     ...                     ...   \n",
      "12854          THUEGATA               150.004125               27.846659   \n",
      "12855                NaN              322.573926                0.000000   \n",
      "12856      STØPERIVEIEN               174.851316               42.202804   \n",
      "12857          VÅGSGATA               121.372663                0.000000   \n",
      "12858       PLANETVEGEN               189.983143             2542.498404   \n",
      "\n",
      "       has_mall_or_not  number_adults_grunnkrets  children_number  \\\n",
      "0                    1                 73.000000         18.00000   \n",
      "1                    0                303.448247        133.19031   \n",
      "2                    1                141.000000         55.00000   \n",
      "3                    1                225.000000         43.00000   \n",
      "4                    1                303.448247        133.19031   \n",
      "...                ...                       ...              ...   \n",
      "12854                0                484.000000        180.00000   \n",
      "12855                1                206.000000         43.00000   \n",
      "12856                1                424.000000        137.00000   \n",
      "12857                1                127.000000          2.00000   \n",
      "12858                0                456.000000        205.00000   \n",
      "\n",
      "       couple_number  features  person_number  singles_number  \\\n",
      "0               26.0       0.0     141.000000            86.0   \n",
      "1                0.0       5.0     749.627012             5.0   \n",
      "2               84.0       0.0     336.000000           181.0   \n",
      "3              126.0       0.0     474.000000           288.0   \n",
      "4                0.0       2.0     749.627012             3.0   \n",
      "...              ...       ...            ...             ...   \n",
      "12854          438.0       0.0    1476.000000           711.0   \n",
      "12855          150.0       0.0     491.000000           291.0   \n",
      "12856          332.0       0.0    1117.000000           520.0   \n",
      "12857           68.0       0.0     194.000000            90.0   \n",
      "12858          282.0       0.0    1127.000000           440.0   \n",
      "\n",
      "       person_concentration  area_grunnkrets  feature  \n",
      "0                905.128333         0.155779      0.0  \n",
      "1               2836.508748         0.264278      0.0  \n",
      "2               2098.003488         0.160152      0.0  \n",
      "3               4987.952436         0.095029      0.0  \n",
      "4               2985.726552         0.251070      0.0  \n",
      "...                     ...              ...      ...  \n",
      "12854           5066.303140         0.291337      0.0  \n",
      "12855           3579.041549         0.137188      0.0  \n",
      "12856           9049.611742         0.123431      0.0  \n",
      "12857           5565.618206         0.034857      0.0  \n",
      "12858           5499.841845         0.204915      0.0  \n",
      "\n",
      "[12859 rows x 19 columns]\n"
     ]
    }
   ],
   "source": [
    "# Inserting features from TRAIN into one dataset\n",
    "\n",
    "folder_train = '../features_train_in_use'\n",
    "\n",
    "features_train = pd.read_csv(os.path.join(folder_train, os.listdir(folder_train)[0]))\n",
    "for i in range(1,len(os.listdir(folder_train))):\n",
    "    f = os.path.join(folder_train,os.listdir(folder_train)[i])\n",
    "    if os.path.isfile(f):\n",
    "        features_train = pd.concat([features_train, pd.read_csv(f)], axis=1)\n",
    "print(features_train)"
   ]
  },
  {
   "cell_type": "code",
   "execution_count": 163,
   "metadata": {},
   "outputs": [
    {
     "name": "stdout",
     "output_type": "stream",
     "text": [
      "      average_income_per_grunnkrets  numberOfBusstop categorical_chain_name  \\\n",
      "0                          551600.0             21.0                    NaN   \n",
      "1                          531240.0             11.0            BURGER KING   \n",
      "2                          523300.0             11.0            BURGER KING   \n",
      "3                          591380.0             22.0            BURGER KING   \n",
      "4                          594020.0             21.0       VULKAN BURGERBAR   \n",
      "...                             ...              ...                    ...   \n",
      "8572                       560700.0              9.0       GULATING GRUPPEN   \n",
      "8573                       593340.0             28.0                    NaN   \n",
      "8574                       629100.0              6.0       GULATING GRUPPEN   \n",
      "8575                       590100.0              8.0                    NaN   \n",
      "8576                       529980.0              4.0                    NaN   \n",
      "\n",
      "     categorical_mall_name categorical_plaace categorical_sales_channel_name  \\\n",
      "0                      NaN            1.1.1.0          Hamburger restaurants   \n",
      "1                      NaN            1.1.1.0          Hamburger restaurants   \n",
      "2           Stovner Senter            1.1.1.0          Hamburger restaurants   \n",
      "3                      NaN            1.1.1.0          Hamburger restaurants   \n",
      "4                      NaN            1.1.1.0          Hamburger restaurants   \n",
      "...                    ...                ...                            ...   \n",
      "8572                   NaN           2.8.11.2             Beer and soda shop   \n",
      "8573                   NaN           2.8.11.2             Beer and soda shop   \n",
      "8574                   NaN           2.8.11.2             Beer and soda shop   \n",
      "8575                   NaN           2.8.11.2             Beer and soda shop   \n",
      "8576                   NaN           2.8.11.2             Beer and soda shop   \n",
      "\n",
      "        categorical_street  distance_store_busstop  distance_to_competitor  \\\n",
      "0             STRØMSVEIEN                25.630061               70.085760   \n",
      "1                   MYREN               111.736189              177.710439   \n",
      "2          STOVNER SENTER               404.825119                0.000000   \n",
      "3             TUNGASLETTA               317.141300              740.150349   \n",
      "4     AUD SCHØNEMANNS VEI               101.273354              472.323401   \n",
      "...                    ...                     ...                     ...   \n",
      "8572           BRÅTAVEGEN               364.034347             3313.883303   \n",
      "8573             SANDVIGÅ               228.923169              302.293655   \n",
      "8574         GARDERBAKKEN               136.232163               85.988411   \n",
      "8575        RAVNANGERVEGEN              129.203732                0.000000   \n",
      "8576                   NaN              212.494198            18175.501583   \n",
      "\n",
      "      has_mall_or_not  number_adults_grunnkrets  children_number  \\\n",
      "0                   0                493.000000       224.000000   \n",
      "1                   0                297.220554       129.976692   \n",
      "2                   1               1035.000000       566.000000   \n",
      "3                   0                 63.000000        41.000000   \n",
      "4                   0               2445.000000      1176.000000   \n",
      "...               ...                       ...              ...   \n",
      "8572                0                159.000000        84.000000   \n",
      "8573                0                479.000000        61.000000   \n",
      "8574                0                459.000000       224.000000   \n",
      "8575                0                345.000000       216.000000   \n",
      "8576                0                447.000000       285.000000   \n",
      "\n",
      "      couple_number  features  person_number  singles_number  \\\n",
      "0             176.0       0.0     970.000000           391.0   \n",
      "1               0.0       0.0     734.051575             3.0   \n",
      "2             354.0       0.0    2348.000000          1137.0   \n",
      "3              30.0       0.0     150.000000            36.0   \n",
      "4             878.0       0.0    4576.000000          1466.0   \n",
      "...             ...       ...            ...             ...   \n",
      "8572          120.0       0.0     428.000000            97.0   \n",
      "8573          330.0       0.0     905.000000           405.0   \n",
      "8574          322.0       0.0    1287.000000           435.0   \n",
      "8575          178.0       0.0     914.000000           202.0   \n",
      "8576          270.0       0.0    1278.000000           440.0   \n",
      "\n",
      "      person_concentration  area_grunnkrets  feature  \n",
      "0             17009.352877         0.057027      0.0  \n",
      "1              4422.184270         0.165993      0.0  \n",
      "2              9922.759804         0.236628      0.0  \n",
      "3               152.526395         0.983436      0.0  \n",
      "4             10180.147327         0.449502      0.0  \n",
      "...                    ...              ...      ...  \n",
      "8572            250.449972         1.708924      0.0  \n",
      "8573           2913.949536         0.310575      0.0  \n",
      "8574            790.643228         1.627789      0.0  \n",
      "8575            828.640299         1.103012      0.0  \n",
      "8576            761.878594         1.677433      0.0  \n",
      "\n",
      "[8577 rows x 19 columns]\n"
     ]
    }
   ],
   "source": [
    "# Inserting features from TEST into one dataset\n",
    "\n",
    "folder_test = '../features_test_in_use'\n",
    "\n",
    "features_test = pd.read_csv(os.path.join(folder_test, os.listdir(folder_test)[0]))\n",
    "for i in range(1,len(os.listdir(folder_test))):\n",
    "    f = os.path.join(folder_test,os.listdir(folder_test)[i])\n",
    "    if os.path.isfile(f):\n",
    "        features_test = pd.concat([features_test, pd.read_csv(f)], axis=1)\n",
    "print(features_test)"
   ]
  },
  {
   "cell_type": "code",
   "execution_count": 164,
   "metadata": {},
   "outputs": [],
   "source": [
    "# Target TRAIN data\n",
    "\n",
    "target_train = pd.read_csv(\"../data/stores_train.csv\")\n",
    "target_train = target_train['revenue'].values\n",
    "\n",
    "target_train = np.log1p(target_train)"
   ]
  },
  {
   "cell_type": "code",
   "execution_count": 165,
   "metadata": {},
   "outputs": [],
   "source": [
    "catboost_model = CatBoostRegressor(\n",
    "    n_estimators=2000,\n",
    "    learning_rate=0.05,\n",
    "    thread_count=-1,\n",
    "    max_depth=6,\n",
    "    silent=True,\n",
    "    loss_function='RMSE',\n",
    "    random_seed=42,\n",
    "    bagging_temperature=0.3,\n",
    "    od_type=\"Iter\"\n",
    ")\n"
   ]
  },
  {
   "cell_type": "code",
   "execution_count": 166,
   "metadata": {},
   "outputs": [],
   "source": [
    "for column in features_train.columns:\n",
    "    values=features_train[column].values\n",
    "    for i in range(len(values)):\n",
    "        if type(values[i]) == float:\n",
    "            if math.isnan(values[i]):\n",
    "                values[i]=\"nan\"\n",
    "                "
   ]
  },
  {
   "cell_type": "code",
   "execution_count": 167,
   "metadata": {},
   "outputs": [],
   "source": [
    "for column in features_test.columns:\n",
    "    values=features_test[column].values\n",
    "    for i in range(len(values)):\n",
    "        if type(values[i]) == float:\n",
    "            if math.isnan(values[i]):\n",
    "                values[i]=\"nan\""
   ]
  },
  {
   "cell_type": "code",
   "execution_count": 168,
   "metadata": {},
   "outputs": [
    {
     "name": "stdout",
     "output_type": "stream",
     "text": [
      "categorical_chain_name\n",
      "categorical_mall_name\n",
      "categorical_plaace\n",
      "categorical_sales_channel_name\n",
      "categorical_street\n"
     ]
    },
    {
     "name": "stderr",
     "output_type": "stream",
     "text": [
      "c:\\Python310\\lib\\site-packages\\catboost\\core.py:1419: FutureWarning: iteritems is deprecated and will be removed in a future version. Use .items instead.\n",
      "  self._init_pool(data, label, cat_features, text_features, embedding_features, embedding_features_data, pairs, weight,\n"
     ]
    }
   ],
   "source": [
    "# TRAIN\n",
    "\n",
    "categorical_features_train = []\n",
    "\n",
    "for col in features_train.columns:\n",
    "    if col.startswith(\"categorical\"):\n",
    "        categorical_features_train.append(col)\n",
    "        print(col)\n",
    "\n",
    "Pool_train= Pool(features_train,target_train,cat_features=categorical_features_train)"
   ]
  },
  {
   "cell_type": "code",
   "execution_count": 169,
   "metadata": {},
   "outputs": [],
   "source": [
    "# TEST\n",
    "\n",
    "categorical_features_test = []\n",
    "\n",
    "for col in features_test.columns:\n",
    "    if col.startswith(\"categorical\"):\n",
    "        categorical_features_test.append(col)\n",
    "\n",
    "Pool_test= Pool(features_test, cat_features=categorical_features_test)"
   ]
  },
  {
   "cell_type": "code",
   "execution_count": 170,
   "metadata": {},
   "outputs": [],
   "source": [
    "# Fit and predict\n",
    "\n",
    "catboost_model.fit(Pool_train)\n",
    "\n",
    "catboost_predictions = catboost_model.predict(Pool_test)\n",
    "catboost_predictions = np.expm1(catboost_predictions)\n",
    "\n",
    "\n"
   ]
  },
  {
   "cell_type": "code",
   "execution_count": 171,
   "metadata": {},
   "outputs": [
    {
     "name": "stdout",
     "output_type": "stream",
     "text": [
      "[4.92877203 8.30917029 3.7951891  ... 4.90527831 3.3623622  2.54951897]\n"
     ]
    }
   ],
   "source": [
    "print(catboost_predictions)"
   ]
  },
  {
   "cell_type": "code",
   "execution_count": 172,
   "metadata": {},
   "outputs": [
    {
     "name": "stdout",
     "output_type": "stream",
     "text": [
      "                              id  predicted\n",
      "0     914206820-914239427-717245   4.928772\n",
      "1     916789157-916823770-824309   8.309170\n",
      "2       913341082-977479363-2948   3.795189\n",
      "3      889682582-889697172-28720   7.534987\n",
      "4     997991699-998006945-417222  12.620689\n",
      "...                          ...        ...\n",
      "8572  917323003-917383529-844309   4.369883\n",
      "8573  917353379-917411824-845904   3.682447\n",
      "8574  917072302-917089248-833647   4.905278\n",
      "8575  916960557-916993161-829908   3.362362\n",
      "8576   987280891-972040746-45320   2.549519\n",
      "\n",
      "[8577 rows x 2 columns]\n"
     ]
    }
   ],
   "source": [
    "# Get storeid as first column\n",
    "\n",
    "stores_test = pd.read_csv(\"../data/stores_test.csv\")\n",
    "stores_test_id = stores_test['store_id'].values\n",
    "\n",
    "# insert predictions as second column\n",
    "\n",
    "predictions = pd.DataFrame()\n",
    "\n",
    "predictions['id'] = stores_test_id\n",
    "predictions['predicted'] = catboost_predictions\n",
    "predictions.to_csv(\"../predictions/catboost6.csv\", index=False)\n",
    "print(predictions)"
   ]
  },
  {
   "cell_type": "code",
   "execution_count": 173,
   "metadata": {},
   "outputs": [
    {
     "name": "stdout",
     "output_type": "stream",
     "text": [
      "categorical_chain_name\n",
      "categorical_mall_name\n",
      "categorical_plaace\n",
      "categorical_sales_channel_name\n",
      "categorical_street\n"
     ]
    },
    {
     "name": "stderr",
     "output_type": "stream",
     "text": [
      "c:\\Python310\\lib\\site-packages\\catboost\\core.py:1419: FutureWarning: iteritems is deprecated and will be removed in a future version. Use .items instead.\n",
      "  self._init_pool(data, label, cat_features, text_features, embedding_features, embedding_features_data, pairs, weight,\n"
     ]
    },
    {
     "name": "stdout",
     "output_type": "stream",
     "text": [
      "Score:  0.3176936628936399\n"
     ]
    }
   ],
   "source": [
    "X_train, X_test, y_train, y_test = train_test_split(features_train, target_train, test_size=0.2, random_state=42)\n",
    "\n",
    "catboost_model2 = CatBoostRegressor(\n",
    "    n_estimators=2000,\n",
    "    learning_rate=0.05,\n",
    "    thread_count=-1,\n",
    "    max_depth=6,\n",
    "    silent=True,\n",
    "    loss_function='RMSE',\n",
    "    random_seed=42,\n",
    "    bagging_temperature=0.3,\n",
    "    od_type=\"Iter\"\n",
    ")\n",
    "\n",
    "#log transform\n",
    "y_train = np.log1p(y_train)\n",
    "\n",
    "# TRAIN\n",
    "\n",
    "categorical_features_train = []\n",
    "\n",
    "for col in X_train.columns:\n",
    "    if col.startswith(\"categorical\"):\n",
    "        categorical_features_train.append(col)\n",
    "        print(col)\n",
    "\n",
    "Pool_train= Pool(X_train,y_train,cat_features=categorical_features_train)\n",
    "\n",
    "# TEST\n",
    "\n",
    "categorical_features_test = []\n",
    "\n",
    "for col in X_test:\n",
    "    if col.startswith(\"categorical\"):\n",
    "        categorical_features_test.append(col)\n",
    "\n",
    "Pool_test= Pool(X_test, cat_features=categorical_features_test)\n",
    "\n",
    "\n",
    "catboost_model2.fit(Pool_train)\n",
    "y_pred = catboost_model2.predict(Pool_test)\n",
    "\n",
    "y_pred = np.expm1(y_pred)\n",
    "\n",
    "print(\"Score: \",sklearn.metrics.mean_squared_log_error(y_test, y_pred) ** 0.5)"
   ]
  },
  {
   "cell_type": "code",
   "execution_count": 174,
   "metadata": {},
   "outputs": [
    {
     "data": {
      "text/plain": [
       "0.3187978256079073"
      ]
     },
     "execution_count": 174,
     "metadata": {},
     "output_type": "execute_result"
    }
   ],
   "source": [
    "0.3187978256079073"
   ]
  }
 ],
 "metadata": {
  "kernelspec": {
   "display_name": "Python 3.10.8 64-bit (microsoft store)",
   "language": "python",
   "name": "python3"
  },
  "language_info": {
   "codemirror_mode": {
    "name": "ipython",
    "version": 3
   },
   "file_extension": ".py",
   "mimetype": "text/x-python",
   "name": "python",
   "nbconvert_exporter": "python",
   "pygments_lexer": "ipython3",
   "version": "3.10.8"
  },
  "orig_nbformat": 4,
  "vscode": {
   "interpreter": {
    "hash": "e1565a8eea6db7a2140e3774cc13fc7c8aa65f0baa6265ce2615853aa604b9f4"
   }
  }
 },
 "nbformat": 4,
 "nbformat_minor": 2
}
