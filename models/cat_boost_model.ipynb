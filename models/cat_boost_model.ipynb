{
 "cells": [
  {
   "cell_type": "markdown",
   "metadata": {},
   "source": [
    "# CatBoost"
   ]
  },
  {
   "cell_type": "code",
   "execution_count": 91,
   "metadata": {},
   "outputs": [],
   "source": [
    "from catboost import CatBoostRegressor\n",
    "import pandas as pd\n",
    "import os\n",
    "import numpy as np\n",
    "from sklearn.model_selection import train_test_split"
   ]
  },
  {
   "cell_type": "code",
   "execution_count": 92,
   "metadata": {},
   "outputs": [
    {
     "name": "stdout",
     "output_type": "stream",
     "text": [
      "       numberOfBusstop  distance_to_competitor\n",
      "0                 10.0                0.000000\n",
      "1                 30.0               34.547236\n",
      "2                 14.0                0.000000\n",
      "3                 11.0                0.000000\n",
      "4                 29.0                0.000000\n",
      "...                ...                     ...\n",
      "12854             27.0               27.846659\n",
      "12855             12.0                0.000000\n",
      "12856             13.0               42.202804\n",
      "12857             35.0                0.000000\n",
      "12858             10.0             2542.498404\n",
      "\n",
      "[12859 rows x 2 columns]\n"
     ]
    }
   ],
   "source": [
    "# Inserting features from TRAIN into one dataset\n",
    "\n",
    "folder_train = '../features_train_csv'\n",
    "\n",
    "features_train = pd.read_csv(os.path.join(folder_train, os.listdir(folder_train)[0]))\n",
    "for i in range(1,len(os.listdir(folder_train))):\n",
    "    f = os.path.join(folder_train,os.listdir(folder_train)[i])\n",
    "    if os.path.isfile(f):\n",
    "        features_train = pd.concat([features_train, pd.read_csv(f)], axis=1)\n",
    "print(features_train)"
   ]
  },
  {
   "cell_type": "code",
   "execution_count": 93,
   "metadata": {},
   "outputs": [
    {
     "name": "stdout",
     "output_type": "stream",
     "text": [
      "      numberOfBusstop  distance_to_competitor\n",
      "0                21.0               70.085760\n",
      "1                11.0              177.710439\n",
      "2                11.0                0.000000\n",
      "3                22.0              740.150349\n",
      "4                21.0              472.323401\n",
      "...               ...                     ...\n",
      "8572              9.0             3313.883303\n",
      "8573             28.0              302.293655\n",
      "8574              6.0               85.988411\n",
      "8575              8.0                0.000000\n",
      "8576              4.0            18175.501583\n",
      "\n",
      "[8577 rows x 2 columns]\n"
     ]
    }
   ],
   "source": [
    "# Inserting features from TEST into one dataset\n",
    "\n",
    "folder_test = '../features_test_csv'\n",
    "\n",
    "features_test = pd.read_csv(os.path.join(folder_test, os.listdir(folder_test)[0]))\n",
    "for i in range(1,len(os.listdir(folder_test))):\n",
    "    f = os.path.join(folder_test,os.listdir(folder_test)[i])\n",
    "    if os.path.isfile(f):\n",
    "        features_test = pd.concat([features_test, pd.read_csv(f)], axis=1)\n",
    "print(features_test)"
   ]
  },
  {
   "cell_type": "code",
   "execution_count": 94,
   "metadata": {},
   "outputs": [],
   "source": [
    "# Target TRAIN data\n",
    "\n",
    "target_train = pd.read_csv(\"../data/stores_train.csv\")\n",
    "target_train = target_train['revenue'].values"
   ]
  },
  {
   "cell_type": "code",
   "execution_count": 95,
   "metadata": {},
   "outputs": [],
   "source": [
    "catboost_model = CatBoostRegressor(\n",
    "    n_estimators=2000,\n",
    "    learning_rate=0.05,\n",
    "    thread_count=-1,\n",
    "    max_depth=6,\n",
    "    silent=True,\n",
    "    loss_function='RMSE',\n",
    "    random_seed=42,\n",
    "    bagging_temperature=0.3,\n",
    "    od_type=\"Iter\"\n",
    ")"
   ]
  },
  {
   "cell_type": "code",
   "execution_count": 96,
   "metadata": {},
   "outputs": [],
   "source": [
    "# Fit and predict\n",
    "\n",
    "catboost_model.fit(features_train, target_train)\n",
    "\n",
    "catboost_predictions = catboost_model.predict(features_test)\n",
    "\n",
    "\n"
   ]
  },
  {
   "cell_type": "code",
   "execution_count": 97,
   "metadata": {},
   "outputs": [
    {
     "name": "stdout",
     "output_type": "stream",
     "text": [
      "[ 8.89389056 11.32500729  7.72549815 ...  5.51985939  7.12639976\n",
      "  5.53186858]\n"
     ]
    }
   ],
   "source": [
    "print(catboost_predictions)"
   ]
  },
  {
   "cell_type": "code",
   "execution_count": 98,
   "metadata": {},
   "outputs": [
    {
     "name": "stdout",
     "output_type": "stream",
     "text": [
      "                              id  predicted\n",
      "0     914206820-914239427-717245   8.893891\n",
      "1     916789157-916823770-824309  11.325007\n",
      "2       913341082-977479363-2948   7.725498\n",
      "3      889682582-889697172-28720   9.377205\n",
      "4     997991699-998006945-417222  12.442158\n",
      "...                          ...        ...\n",
      "8572  917323003-917383529-844309   9.490758\n",
      "8573  917353379-917411824-845904   8.385034\n",
      "8574  917072302-917089248-833647   5.519859\n",
      "8575  916960557-916993161-829908   7.126400\n",
      "8576   987280891-972040746-45320   5.531869\n",
      "\n",
      "[8577 rows x 2 columns]\n"
     ]
    }
   ],
   "source": [
    "# Get storeid as first column\n",
    "\n",
    "stores_test = pd.read_csv(\"../data/stores_test.csv\")\n",
    "stores_test_id = stores_test['store_id'].values\n",
    "\n",
    "# insert predictions as second column\n",
    "\n",
    "predictions = pd.DataFrame()\n",
    "\n",
    "predictions['id'] = stores_test_id\n",
    "predictions['predicted'] = catboost_predictions\n",
    "predictions.to_csv(\"../predictions/catboost1.csv\", index=False)\n",
    "print(predictions)"
   ]
  },
  {
   "cell_type": "code",
   "execution_count": 99,
   "metadata": {},
   "outputs": [
    {
     "name": "stdout",
     "output_type": "stream",
     "text": [
      "A couple of RMSLE scores computed over the train set\n",
      "Perfect prediction: 0.0000\n",
      "All zeros prediciton: 1.2088\n",
      "All ones prediction: 1.2088\n"
     ]
    }
   ],
   "source": [
    "def rmsle(y_true, y_pred):\n",
    "    \"\"\"\n",
    "    Computes the Root Mean Squared Logarithmic Error \n",
    "    \n",
    "    Args:\n",
    "        y_true (np.array): n-dimensional vector of ground-truth values \n",
    "        y_pred (np.array): n-dimensional vecotr of predicted values \n",
    "    \n",
    "    Returns:\n",
    "        A scalar float with the rmsle value \n",
    "    \n",
    "    Note: You can alternatively use sklearn and just do: \n",
    "        sklearn.metrics.mean_squared_log_error(y_true, y_pred) ** 0.5\n",
    "    \"\"\"\n",
    "    assert (y_true >= 0).all(), 'Received negative y_true values'\n",
    "    assert (y_pred >= 0).all(), 'Received negative y_pred values'\n",
    "    assert y_true.shape == y_pred.shape, 'y_true and y_pred have different shapes'\n",
    "    y_true_log1p = np.log1p(y_true)  # log(1 + y_true)\n",
    "    y_pred_log1p = np.log1p(y_pred)  # log(1 + y_pred)\n",
    "    return np.sqrt(np.mean(np.square(y_pred_log1p - y_true_log1p)))\n",
    "\n",
    "\n",
    "X_train, X_test, y_train, y_test = train_test_split(features_train, target_train, test_size=0.2, random_state=42)\n",
    "\n",
    "catboost_model2 = CatBoostRegressor(\n",
    "    n_estimators=2000,\n",
    "    learning_rate=0.05,\n",
    "    thread_count=-1,\n",
    "    max_depth=6,\n",
    "    silent=True,\n",
    "    loss_function='RMSE',\n",
    "    random_seed=42,\n",
    "    bagging_temperature=0.3,\n",
    "    od_type=\"Iter\"\n",
    ")\n",
    "\n",
    "catboost_model2.fit(X_train, y_train)\n",
    "y_pred = catboost_model2.predict(X_test)\n",
    "\n",
    "\n",
    "# Calculate rmsle for a few example predictions \n",
    "y_true = y_test\n",
    "n = len(features_train)\n",
    "print('A couple of RMSLE scores computed over the train set')\n",
    "print(f'Perfect prediction: {rmsle(y_true, y_true):.4f}')\n",
    "print(f'All zeros prediciton: {rmsle(y_true, y_pred):.4f}')\n",
    "print(f'All ones prediction: {rmsle(y_true, y_pred):.4f}')"
   ]
  }
 ],
 "metadata": {
  "kernelspec": {
   "display_name": "Python 3.10.8 64-bit (microsoft store)",
   "language": "python",
   "name": "python3"
  },
  "language_info": {
   "codemirror_mode": {
    "name": "ipython",
    "version": 3
   },
   "file_extension": ".py",
   "mimetype": "text/x-python",
   "name": "python",
   "nbconvert_exporter": "python",
   "pygments_lexer": "ipython3",
   "version": "3.10.8"
  },
  "orig_nbformat": 4,
  "vscode": {
   "interpreter": {
    "hash": "e1565a8eea6db7a2140e3774cc13fc7c8aa65f0baa6265ce2615853aa604b9f4"
   }
  }
 },
 "nbformat": 4,
 "nbformat_minor": 2
}
