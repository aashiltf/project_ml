{
 "cells": [
  {
   "cell_type": "code",
   "execution_count": 9,
   "metadata": {},
   "outputs": [],
   "source": [
    "import pandas as pd\n",
    "from sklearn.ensemble import AdaBoostRegressor\n",
    "import os\n"
   ]
  },
  {
   "cell_type": "code",
   "execution_count": 10,
   "metadata": {},
   "outputs": [
    {
     "name": "stdout",
     "output_type": "stream",
     "text": [
      "       distance_to_competitor  number_adults_grunnkrets  features  \\\n",
      "0                    0.000000                 73.000000       0.0   \n",
      "1                   34.547236                303.448247       5.0   \n",
      "2                    0.000000                141.000000       0.0   \n",
      "3                    0.000000                225.000000       0.0   \n",
      "4                    0.000000                303.448247       2.0   \n",
      "...                       ...                       ...       ...   \n",
      "12854               27.846659                484.000000       0.0   \n",
      "12855                0.000000                206.000000       0.0   \n",
      "12856               42.202804                424.000000       0.0   \n",
      "12857                0.000000                127.000000       0.0   \n",
      "12858             2542.498404                456.000000       0.0   \n",
      "\n",
      "       distance_store_busstop  average_income_per_grunnkrets  has_mall_or_not  \n",
      "0                  585.354489                       561700.0                1  \n",
      "1                  138.798366                       555720.0                0  \n",
      "2                   41.099519                       495900.0                1  \n",
      "3                   56.693017                       521240.0                1  \n",
      "4                  229.077959                       585360.0                1  \n",
      "...                       ...                            ...              ...  \n",
      "12854              150.004125                       505640.0                0  \n",
      "12855              322.573926                       396640.0                1  \n",
      "12856              174.851316                       549120.0                1  \n",
      "12857              121.372663                       498660.0                1  \n",
      "12858              189.983143                       579780.0                0  \n",
      "\n",
      "[12859 rows x 6 columns]\n"
     ]
    }
   ],
   "source": [
    "# Inserting features from TRAIN into one dataset\n",
    "\n",
    "folder_train = '../features_train_csv'\n",
    "\n",
    "features_train = pd.read_csv(os.path.join(folder_train, os.listdir(folder_train)[0]))\n",
    "for i in range(1,len(os.listdir(folder_train))):\n",
    "    f = os.path.join(folder_train,os.listdir(folder_train)[i])\n",
    "    if os.path.isfile(f):\n",
    "        features_train = pd.concat([features_train, pd.read_csv(f)], axis=1)\n",
    "print(features_train)"
   ]
  },
  {
   "cell_type": "code",
   "execution_count": 11,
   "metadata": {},
   "outputs": [
    {
     "name": "stdout",
     "output_type": "stream",
     "text": [
      "      distance_to_competitor  number_adults_grunnkrets  features  \\\n",
      "0                  70.085760                493.000000       0.0   \n",
      "1                 177.710439                297.220554       0.0   \n",
      "2                   0.000000               1035.000000       0.0   \n",
      "3                 740.150349                 63.000000       0.0   \n",
      "4                 472.323401               2445.000000       0.0   \n",
      "...                      ...                       ...       ...   \n",
      "8572             3313.883303                159.000000       0.0   \n",
      "8573              302.293655                479.000000       0.0   \n",
      "8574               85.988411                459.000000       0.0   \n",
      "8575                0.000000                345.000000       0.0   \n",
      "8576            18175.501583                447.000000       0.0   \n",
      "\n",
      "      distance_store_busstop  average_income_per_grunnkrets  has_mall_or_not  \n",
      "0                  25.630061                       551600.0                0  \n",
      "1                 111.736189                       531240.0                0  \n",
      "2                 404.825119                       523300.0                1  \n",
      "3                 317.141300                       591380.0                0  \n",
      "4                 101.273354                       594020.0                0  \n",
      "...                      ...                            ...              ...  \n",
      "8572              364.034347                       560700.0                0  \n",
      "8573              228.923169                       593340.0                0  \n",
      "8574              136.232163                       629100.0                0  \n",
      "8575              129.203732                       590100.0                0  \n",
      "8576              212.494198                       529980.0                0  \n",
      "\n",
      "[8577 rows x 6 columns]\n"
     ]
    }
   ],
   "source": [
    "\n",
    "# Inserting features from TEST into one dataset\n",
    "\n",
    "folder_test = '../features_test_csv'\n",
    "\n",
    "features_test = pd.read_csv(os.path.join(folder_test, os.listdir(folder_test)[0]))\n",
    "for i in range(1,len(os.listdir(folder_test))):\n",
    "    f = os.path.join(folder_test,os.listdir(folder_test)[i])\n",
    "    if os.path.isfile(f):\n",
    "        features_test = pd.concat([features_test, pd.read_csv(f)], axis=1)\n",
    "print(features_test)\n"
   ]
  },
  {
   "cell_type": "code",
   "execution_count": 12,
   "metadata": {},
   "outputs": [],
   "source": [
    "# Target TRAIN data\n",
    "\n",
    "target_train = pd.read_csv(\"../data/stores_train.csv\")\n",
    "target_train = target_train['revenue'].values"
   ]
  },
  {
   "cell_type": "code",
   "execution_count": 13,
   "metadata": {},
   "outputs": [],
   "source": [
    "# ADA boost Regressor model\n",
    "\n",
    "ada_model = AdaBoostRegressor(n_estimators=1500,\n",
    "    learning_rate=0.005,\n",
    "    loss='square',\n",
    "    random_state=42)\n"
   ]
  },
  {
   "cell_type": "code",
   "execution_count": 14,
   "metadata": {},
   "outputs": [],
   "source": [
    "# Fit and predict\n",
    "\n",
    "ada_model.fit(features_train, target_train)\n",
    "\n",
    "ada_predictions = ada_model.predict(features_test)\n"
   ]
  },
  {
   "cell_type": "code",
   "execution_count": 15,
   "metadata": {},
   "outputs": [
    {
     "name": "stdout",
     "output_type": "stream",
     "text": [
      "[17.85381614 34.31459874 18.1634536  ... 17.85381614 37.82603395\n",
      " 19.38674873]\n"
     ]
    }
   ],
   "source": [
    "print(ada_predictions)"
   ]
  },
  {
   "cell_type": "code",
   "execution_count": 16,
   "metadata": {},
   "outputs": [
    {
     "name": "stdout",
     "output_type": "stream",
     "text": [
      "                              id  predicted\n",
      "0     914206820-914239427-717245  17.853816\n",
      "1     916789157-916823770-824309  34.314599\n",
      "2       913341082-977479363-2948  18.163454\n",
      "3      889682582-889697172-28720  37.470879\n",
      "4     997991699-998006945-417222  37.470879\n",
      "...                          ...        ...\n",
      "8572  917323003-917383529-844309  21.662743\n",
      "8573  917353379-917411824-845904  37.826034\n",
      "8574  917072302-917089248-833647  17.853816\n",
      "8575  916960557-916993161-829908  37.826034\n",
      "8576   987280891-972040746-45320  19.386749\n",
      "\n",
      "[8577 rows x 2 columns]\n"
     ]
    }
   ],
   "source": [
    "# Get storeid as first column\n",
    "\n",
    "stores_test = pd.read_csv(\"../data/stores_test.csv\")\n",
    "stores_test_id = stores_test['store_id'].values\n",
    "\n",
    "# insert predictions as second column\n",
    "\n",
    "predictions = pd.DataFrame()\n",
    "\n",
    "predictions['id'] = stores_test_id\n",
    "predictions['predicted'] = ada_predictions\n",
    "predictions.to_csv(\"../predictions/ada_boost.csv\", index=False)\n",
    "print(predictions)\n"
   ]
  }
 ],
 "metadata": {
  "kernelspec": {
   "display_name": "Python 3.9.12 ('base')",
   "language": "python",
   "name": "python3"
  },
  "language_info": {
   "codemirror_mode": {
    "name": "ipython",
    "version": 3
   },
   "file_extension": ".py",
   "mimetype": "text/x-python",
   "name": "python",
   "nbconvert_exporter": "python",
   "pygments_lexer": "ipython3",
   "version": "3.9.12"
  },
  "orig_nbformat": 4,
  "vscode": {
   "interpreter": {
    "hash": "281572cd8d6883a7cda4205b64f8038c59dc04350eaa1e78568b5c627d5ce3d1"
   }
  }
 },
 "nbformat": 4,
 "nbformat_minor": 2
}
