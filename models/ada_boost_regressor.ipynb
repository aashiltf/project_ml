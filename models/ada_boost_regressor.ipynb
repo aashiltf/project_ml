{
 "cells": [
  {
   "cell_type": "code",
   "execution_count": 3,
   "metadata": {},
   "outputs": [],
   "source": [
    "import pandas as pd\n",
    "from sklearn.ensemble import AdaBoostRegressor\n",
    "import os\n"
   ]
  },
  {
   "cell_type": "code",
   "execution_count": 4,
   "metadata": {},
   "outputs": [
    {
     "name": "stdout",
     "output_type": "stream",
     "text": [
      "       number_adults_grunnkrets  average_income_per_grunnkrets  \\\n",
      "0                     73.000000                       561700.0   \n",
      "1                    303.448247                       555720.0   \n",
      "2                    141.000000                       495900.0   \n",
      "3                    225.000000                       521240.0   \n",
      "4                    303.448247                       585360.0   \n",
      "...                         ...                            ...   \n",
      "12854                484.000000                       505640.0   \n",
      "12855                206.000000                       396640.0   \n",
      "12856                424.000000                       549120.0   \n",
      "12857                127.000000                       498660.0   \n",
      "12858                456.000000                       579780.0   \n",
      "\n",
      "       has_mall_or_not  \n",
      "0                    1  \n",
      "1                    0  \n",
      "2                    1  \n",
      "3                    1  \n",
      "4                    1  \n",
      "...                ...  \n",
      "12854                0  \n",
      "12855                1  \n",
      "12856                1  \n",
      "12857                1  \n",
      "12858                0  \n",
      "\n",
      "[12859 rows x 3 columns]\n"
     ]
    }
   ],
   "source": [
    "# Inserting features from TRAIN into one dataset\n",
    "\n",
    "folder_train = '../features_train_csv'\n",
    "\n",
    "features_train = pd.read_csv(os.path.join(folder_train, os.listdir(folder_train)[0]))\n",
    "for i in range(1,len(os.listdir(folder_train))):\n",
    "    f = os.path.join(folder_train,os.listdir(folder_train)[i])\n",
    "    if os.path.isfile(f):\n",
    "        features_train = pd.concat([features_train, pd.read_csv(f)], axis=1)\n",
    "print(features_train)"
   ]
  },
  {
   "cell_type": "code",
   "execution_count": 6,
   "metadata": {},
   "outputs": [
    {
     "name": "stdout",
     "output_type": "stream",
     "text": [
      "      number_adults_grunnkrets  average_income_per_grunnkrets  has_mall_or_not\n",
      "0                   493.000000                       551600.0                0\n",
      "1                   297.220554                       531240.0                0\n",
      "2                  1035.000000                       523300.0                1\n",
      "3                    63.000000                       591380.0                0\n",
      "4                  2445.000000                       594020.0                0\n",
      "...                        ...                            ...              ...\n",
      "8572                159.000000                       560700.0                0\n",
      "8573                479.000000                       593340.0                0\n",
      "8574                459.000000                       629100.0                0\n",
      "8575                345.000000                       590100.0                0\n",
      "8576                447.000000                       529980.0                0\n",
      "\n",
      "[8577 rows x 3 columns]\n"
     ]
    }
   ],
   "source": [
    "\n",
    "# Inserting features from TEST into one dataset\n",
    "\n",
    "folder_test = '../features_test_csv'\n",
    "\n",
    "features_test = pd.read_csv(os.path.join(folder_test, os.listdir(folder_test)[0]))\n",
    "for i in range(1,len(os.listdir(folder_test))):\n",
    "    f = os.path.join(folder_test,os.listdir(folder_test)[i])\n",
    "    if os.path.isfile(f):\n",
    "        features_test = pd.concat([features_test, pd.read_csv(f)], axis=1)\n",
    "print(features_test)\n"
   ]
  },
  {
   "cell_type": "code",
   "execution_count": 7,
   "metadata": {},
   "outputs": [],
   "source": [
    "# Target TRAIN data\n",
    "\n",
    "target_train = pd.read_csv(\"../data/stores_train.csv\")\n",
    "target_train = target_train['revenue'].values"
   ]
  },
  {
   "cell_type": "code",
   "execution_count": 8,
   "metadata": {},
   "outputs": [],
   "source": [
    "# ADA boost Regressor model\n",
    "\n",
    "ada_model = AdaBoostRegressor(random_state=0, n_estimators=100)\n"
   ]
  },
  {
   "cell_type": "code",
   "execution_count": 10,
   "metadata": {},
   "outputs": [],
   "source": [
    "# Fit and predict\n",
    "\n",
    "ada_model.fit(features_train, target_train)\n",
    "\n",
    "ada_predictions = ada_model.predict(features_test)\n"
   ]
  },
  {
   "cell_type": "code",
   "execution_count": 11,
   "metadata": {},
   "outputs": [
    {
     "name": "stdout",
     "output_type": "stream",
     "text": [
      "[37.14180384 27.84536526 21.70757031 ... 15.78704861 18.94812966\n",
      " 18.17795486]\n"
     ]
    }
   ],
   "source": [
    "print(ada_predictions)"
   ]
  },
  {
   "cell_type": "code",
   "execution_count": null,
   "metadata": {},
   "outputs": [],
   "source": [
    "# Get storeid as first column\n",
    "\n",
    "stores_test = pd.read_csv(\"data/stores_test.csv\")\n",
    "stores_test_id = stores_test['store_id'].values\n",
    "\n",
    "# insert predictions as second column\n",
    "\n",
    "predictions = pd.DataFrame()\n",
    "\n",
    "predictions['id'] = stores_test_id\n",
    "predictions['predicted'] = ada_predictions\n",
    "predictions.to_csv(\"../predictions/ada_boost.csv\", index=False)\n",
    "print(predictions)\n"
   ]
  }
 ],
 "metadata": {
  "kernelspec": {
   "display_name": "Python 3.9.12 ('base')",
   "language": "python",
   "name": "python3"
  },
  "language_info": {
   "codemirror_mode": {
    "name": "ipython",
    "version": 3
   },
   "file_extension": ".py",
   "mimetype": "text/x-python",
   "name": "python",
   "nbconvert_exporter": "python",
   "pygments_lexer": "ipython3",
   "version": "3.9.12"
  },
  "orig_nbformat": 4,
  "vscode": {
   "interpreter": {
    "hash": "281572cd8d6883a7cda4205b64f8038c59dc04350eaa1e78568b5c627d5ce3d1"
   }
  }
 },
 "nbformat": 4,
 "nbformat_minor": 2
}
