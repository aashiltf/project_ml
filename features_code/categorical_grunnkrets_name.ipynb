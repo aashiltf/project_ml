{
 "cells": [
  {
   "cell_type": "code",
   "execution_count": 1,
   "metadata": {},
   "outputs": [],
   "source": [
    "import pandas as pd"
   ]
  },
  {
   "cell_type": "code",
   "execution_count": 2,
   "metadata": {},
   "outputs": [],
   "source": [
    "grunnkrets_df = pd.read_csv(\"../data/grunnkrets_norway_stripped.csv\")\n",
    "stores_train_df = pd.read_csv(\"../data/stores_train.csv\")\n",
    "stores_test_df = pd.read_csv(\"../data/stores_test.csv\")"
   ]
  },
  {
   "cell_type": "code",
   "execution_count": 3,
   "metadata": {},
   "outputs": [],
   "source": [
    "grunnkrets_train_df = pd.merge(stores_train_df, grunnkrets_df, on=\"grunnkrets_id\", how=\"left\")\n",
    "grunnkrets_train_df = grunnkrets_train_df.drop_duplicates(subset=['store_id'])"
   ]
  },
  {
   "cell_type": "code",
   "execution_count": 4,
   "metadata": {},
   "outputs": [],
   "source": [
    "grunnkrets_test_df = pd.merge(stores_test_df, grunnkrets_df, on=\"grunnkrets_id\", how=\"left\")\n",
    "grunnkrets_test_df = grunnkrets_test_df.drop_duplicates(subset=['store_id'])"
   ]
  },
  {
   "cell_type": "code",
   "execution_count": 5,
   "metadata": {},
   "outputs": [],
   "source": [
    "features_train = pd.DataFrame()\n",
    "\n",
    "features_train[\"categorical_grunnkrets_name\"] = grunnkrets_train_df[\"grunnkrets_name\"].values\n",
    "features_train.to_csv(\"../features_train_csv/categorical_grunnkrets_name.csv\", index=False)"
   ]
  },
  {
   "cell_type": "code",
   "execution_count": 6,
   "metadata": {},
   "outputs": [],
   "source": [
    "features_test = pd.DataFrame()\n",
    "\n",
    "features_test[\"categorical_grunnkrets_name\"] = grunnkrets_test_df[\"grunnkrets_name\"].values\n",
    "features_test.to_csv(\"../features_test_csv/categorical_grunnkrets_name.csv\", index=False)"
   ]
  }
 ],
 "metadata": {
  "kernelspec": {
   "display_name": "Python 3.10.8 64-bit (microsoft store)",
   "language": "python",
   "name": "python3"
  },
  "language_info": {
   "codemirror_mode": {
    "name": "ipython",
    "version": 3
   },
   "file_extension": ".py",
   "mimetype": "text/x-python",
   "name": "python",
   "nbconvert_exporter": "python",
   "pygments_lexer": "ipython3",
   "version": "3.10.8"
  },
  "orig_nbformat": 4,
  "vscode": {
   "interpreter": {
    "hash": "e1565a8eea6db7a2140e3774cc13fc7c8aa65f0baa6265ce2615853aa604b9f4"
   }
  }
 },
 "nbformat": 4,
 "nbformat_minor": 2
}
