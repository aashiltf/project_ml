{
 "cells": [
  {
   "cell_type": "markdown",
   "metadata": {},
   "source": [
    "Concentration of People : little area with lot of people are generate more revenue than Less populated area"
   ]
  },
  {
   "cell_type": "code",
   "execution_count": 91,
   "metadata": {},
   "outputs": [],
   "source": [
    "import pandas as pd\n",
    "import numpy as np\n",
    "import matplotlib.pyplot as plt\n",
    "\n",
    "from numba import jit, njit"
   ]
  },
  {
   "cell_type": "code",
   "execution_count": 92,
   "metadata": {},
   "outputs": [],
   "source": [
    "stores_train = pd.read_csv('../data/stores_train.csv')\n",
    "grunnkrets_age_distribution = pd.read_csv('../data/grunnkrets_age_distribution.csv')\n",
    "\n",
    "area_df = pd.read_csv(\"../data/grunnkrets_norway_stripped.csv\")\n",
    "\n",
    "grunnkrets_age_distribution_test = pd.read_csv('../data/grunnkrets_age_distribution.csv')\n",
    "stores_test = pd.read_csv(\"../data/stores_test.csv\")"
   ]
  },
  {
   "cell_type": "code",
   "execution_count": 93,
   "metadata": {},
   "outputs": [],
   "source": [
    "persons_Store_Merge = pd.merge(stores_train, grunnkrets_age_distribution, on=\"grunnkrets_id\", how=\"left\")\n",
    "persons_Store_Merge = persons_Store_Merge.drop_duplicates(subset=['store_id'])\n",
    "\n",
    "\n",
    "persons_store_merge_test = pd.merge(stores_test, grunnkrets_age_distribution_test, on=\"grunnkrets_id\", how=\"left\")\n",
    "persons_store_merge_test = persons_store_merge_test.drop_duplicates(subset=['store_id'])\n",
    "\n",
    "\n",
    "\n",
    "area_train_df = pd.merge(stores_train, area_df, on=\"grunnkrets_id\", how=\"left\")\n",
    "area_train_df = area_train_df.drop_duplicates(subset=['store_id'])\n",
    "\n",
    "\n",
    "area_test_df = pd.merge(stores_test, area_df, on=\"grunnkrets_id\", how=\"left\")\n",
    "area_test_df = area_test_df.drop_duplicates(subset=[\"store_id\"])"
   ]
  },
  {
   "cell_type": "code",
   "execution_count": 94,
   "metadata": {},
   "outputs": [
    {
     "name": "stdout",
     "output_type": "stream",
     "text": [
      "12859\n"
     ]
    }
   ],
   "source": [
    "total_number_persons = []\n",
    "for index, row in persons_Store_Merge.iterrows():\n",
    "    total=0\n",
    "    for i in range(0,91):\n",
    "        age= f\"age_{i}\"\n",
    "        total= total+ row[age]\n",
    "    total_number_persons.append(total)\n",
    "\n",
    "total_persons = 0\n",
    "counter_train = 0\n",
    "for value in total_number_persons:\n",
    "    if not np.isnan(value):\n",
    "        counter_train += 1\n",
    "        total_persons += value\n",
    "ave_persons_train = total_persons/counter_train\n",
    "\n",
    "for i in range(len(total_number_persons)):\n",
    "    if np.isnan(total_number_persons[i]):\n",
    "        total_number_persons[i] = ave_persons_train\n",
    "\n",
    "print(len(total_number_persons))\n",
    "\n",
    "\n"
   ]
  },
  {
   "cell_type": "code",
   "execution_count": 95,
   "metadata": {},
   "outputs": [],
   "source": [
    "#Average area value: \n",
    "area_train_values = area_train_df[\"area_km2\"].values\n",
    "total_train_value = 0\n",
    "counter_train = 0\n",
    "for value in area_train_values:\n",
    "    if not np.isnan(value):\n",
    "        counter_train += 1\n",
    "        total_train_value += value\n",
    "ave_area_train = total_train_value/counter_train\n",
    "\n",
    "#Replace all empty values with average:\n",
    "for i in range(len(area_train_values)):\n",
    "    if np.isnan(area_train_values[i]):\n",
    "        area_train_values[i] = ave_area_train"
   ]
  },
  {
   "cell_type": "markdown",
   "metadata": {},
   "source": [
    "TRAIN Concentration"
   ]
  },
  {
   "cell_type": "code",
   "execution_count": 96,
   "metadata": {},
   "outputs": [],
   "source": [
    "Concentrations_train=[]\n",
    "for i in range(len(total_number_persons)):\n",
    "    concentration=total_number_persons[i]/area_train_values[i]\n",
    "    Concentrations_train.append(concentration)\n"
   ]
  },
  {
   "cell_type": "code",
   "execution_count": 97,
   "metadata": {},
   "outputs": [],
   "source": [
    "total_number_persons_test = []\n",
    "for index, row in persons_store_merge_test.iterrows():\n",
    "    total=0\n",
    "    for i in range(0,91):\n",
    "        age= f\"age_{i}\"\n",
    "        total= total+ row[age]\n",
    "    total_number_persons_test.append(total)\n",
    "\n",
    "\n",
    "total_persons_test = 0\n",
    "counter_test = 0\n",
    "for value in total_number_persons_test:\n",
    "    if not np.isnan(value):\n",
    "        counter_test += 1\n",
    "        total_persons_test += value\n",
    "ave_persons_test = total_persons_test/counter_test\n",
    "\n",
    "for i in range(len(total_number_persons_test)):\n",
    "    if np.isnan(total_number_persons_test[i]):\n",
    "        total_number_persons_test[i] = ave_persons_test"
   ]
  },
  {
   "cell_type": "code",
   "execution_count": 98,
   "metadata": {},
   "outputs": [],
   "source": [
    "area_test_values = area_test_df[\"area_km2\"].values\n",
    "total_test_value = 0\n",
    "counter = 0\n",
    "for value in area_test_values:\n",
    "    if not np.isnan(value):\n",
    "        counter += 1\n",
    "        total_test_value += value\n",
    "ave_area_test = total_test_value/counter"
   ]
  },
  {
   "cell_type": "code",
   "execution_count": 99,
   "metadata": {},
   "outputs": [],
   "source": [
    "for i in range(len(area_test_values)):\n",
    "    if np.isnan(area_test_values[i]):\n",
    "        area_test_values[i] = ave_area_test"
   ]
  },
  {
   "cell_type": "markdown",
   "metadata": {},
   "source": [
    "TEST Concentration"
   ]
  },
  {
   "cell_type": "code",
   "execution_count": 100,
   "metadata": {},
   "outputs": [],
   "source": [
    "Concentrations_test=[]\n",
    "for i in range(len(total_number_persons_test)):\n",
    "    concentration=total_number_persons_test[i]/(area_test_values[i])\n",
    "    Concentrations_test.append(concentration)\n",
    "\n",
    "\n"
   ]
  },
  {
   "cell_type": "code",
   "execution_count": 101,
   "metadata": {},
   "outputs": [],
   "source": [
    "Concentrations_train_df=pd.DataFrame()\n",
    "Concentrations_train_df[\"person_concentration\"] = np.asarray(Concentrations_train)\n",
    "Concentrations_train_df.to_csv(\"../features_train_csv/person_concentration.csv\", index=False)"
   ]
  },
  {
   "cell_type": "code",
   "execution_count": 102,
   "metadata": {},
   "outputs": [],
   "source": [
    "Concentrations_test_df=pd.DataFrame()\n",
    "Concentrations_test_df[\"person_concentration\"] = np.asarray(Concentrations_test)\n",
    "Concentrations_test_df.to_csv(\"../features_test_csv/person_concentration.csv\", index=False)\n"
   ]
  }
 ],
 "metadata": {
  "kernelspec": {
   "display_name": "Python 3.10.8 64-bit (microsoft store)",
   "language": "python",
   "name": "python3"
  },
  "language_info": {
   "codemirror_mode": {
    "name": "ipython",
    "version": 3
   },
   "file_extension": ".py",
   "mimetype": "text/x-python",
   "name": "python",
   "nbconvert_exporter": "python",
   "pygments_lexer": "ipython3",
   "version": "3.10.8"
  },
  "orig_nbformat": 4,
  "vscode": {
   "interpreter": {
    "hash": "e1565a8eea6db7a2140e3774cc13fc7c8aa65f0baa6265ce2615853aa604b9f4"
   }
  }
 },
 "nbformat": 4,
 "nbformat_minor": 2
}
