{
 "cells": [
  {
   "cell_type": "code",
   "execution_count": 5,
   "metadata": {},
   "outputs": [],
   "source": [
    "import pandas as pd"
   ]
  },
  {
   "cell_type": "code",
   "execution_count": 6,
   "metadata": {},
   "outputs": [],
   "source": [
    "stores_train_df = pd.read_csv(\"../data/stores_train.csv\")\n",
    "stores_test_df = pd.read_csv(\"../data/stores_test.csv\")\n",
    "\n",
    "channel_name_train = stores_train_df[\"sales_channel_name\"].values\n",
    "channel_name_test = stores_test_df[\"sales_channel_name\"].values"
   ]
  },
  {
   "cell_type": "code",
   "execution_count": 18,
   "metadata": {},
   "outputs": [],
   "source": [
    "def transform_to_number(channel_name):\n",
    "    features = []\n",
    "    dic = create_dic(channel_name)\n",
    "    \n",
    "    for i in range(len(channel_name)):\n",
    "        features.append(dic[channel_name[i]])\n",
    "    return features\n",
    "\n",
    "def create_dic(channel_name):\n",
    "    sales_channel_names = list(dict.fromkeys(channel_name))\n",
    "    dic = dict.fromkeys(sales_channel_names, 0)\n",
    "    for i in range(len(sales_channel_names)):\n",
    "        dic[sales_channel_names[i]] = i\n",
    "    return dic"
   ]
  },
  {
   "cell_type": "code",
   "execution_count": 21,
   "metadata": {},
   "outputs": [
    {
     "name": "stdout",
     "output_type": "stream",
     "text": [
      "12859\n"
     ]
    }
   ],
   "source": [
    "features_train = transform_to_number(channel_name_train)\n",
    "#print(features_train)\n",
    "#print(len(features_train))"
   ]
  },
  {
   "cell_type": "code",
   "execution_count": 22,
   "metadata": {},
   "outputs": [],
   "source": [
    "features_test = transform_to_number(channel_name_test)"
   ]
  },
  {
   "cell_type": "code",
   "execution_count": 23,
   "metadata": {},
   "outputs": [],
   "source": [
    "features_train_df = pd.DataFrame()\n",
    "\n",
    "features_train_df[\"features\"] = features_train\n",
    "features_train_df.to_csv(\"../features_train_csv/sales_channel_name.csv\", index=False)"
   ]
  },
  {
   "cell_type": "code",
   "execution_count": null,
   "metadata": {},
   "outputs": [],
   "source": [
    "features_test_df = pd.DataFrame()\n",
    "\n",
    "features_test_df[\"features\"] = features_test\n",
    "features_test_df.to_csv(\"../features_test_csv/sales_channel_name.csv\", index = False)"
   ]
  }
 ],
 "metadata": {
  "kernelspec": {
   "display_name": "Python 3.8.7 64-bit",
   "language": "python",
   "name": "python3"
  },
  "language_info": {
   "codemirror_mode": {
    "name": "ipython",
    "version": 3
   },
   "file_extension": ".py",
   "mimetype": "text/x-python",
   "name": "python",
   "nbconvert_exporter": "python",
   "pygments_lexer": "ipython3",
   "version": "3.8.7"
  },
  "orig_nbformat": 4,
  "vscode": {
   "interpreter": {
    "hash": "fba15a8fe0409f50195582ac27b8e95e358fcbd51d8410e6775d4560b732321d"
   }
  }
 },
 "nbformat": 4,
 "nbformat_minor": 2
}
