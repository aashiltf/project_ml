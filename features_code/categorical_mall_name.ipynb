{
 "cells": [
  {
   "cell_type": "code",
   "execution_count": 1,
   "metadata": {},
   "outputs": [],
   "source": [
    "import pandas as pd"
   ]
  },
  {
   "cell_type": "code",
   "execution_count": 2,
   "metadata": {},
   "outputs": [],
   "source": [
    "stores_train_df = pd.read_csv(\"../data/stores_train.csv\")\n",
    "stores_test_df = pd.read_csv(\"../data/stores_test.csv\")"
   ]
  },
  {
   "cell_type": "code",
   "execution_count": 3,
   "metadata": {},
   "outputs": [],
   "source": [
    "features_train = pd.DataFrame()\n",
    "\n",
    "features_train[\"categorical_mall_name\"] = stores_train_df[\"mall_name\"].values\n",
    "features_train.to_csv(\"../features_train_csv/categorical_mall_name.csv\", index=False)"
   ]
  },
  {
   "cell_type": "code",
   "execution_count": 4,
   "metadata": {},
   "outputs": [],
   "source": [
    "features_test = pd.DataFrame()\n",
    "\n",
    "features_test[\"categorical_mall_name\"] = stores_test_df[\"mall_name\"].values\n",
    "features_test.to_csv(\"../features_test_csv/categorical_mall_name.csv\", index=False)"
   ]
  },
  {
   "cell_type": "code",
   "execution_count": null,
   "metadata": {},
   "outputs": [],
   "source": []
  }
 ],
 "metadata": {
  "kernelspec": {
   "display_name": "Python 3.8.7 64-bit",
   "language": "python",
   "name": "python3"
  },
  "language_info": {
   "codemirror_mode": {
    "name": "ipython",
    "version": 3
   },
   "file_extension": ".py",
   "mimetype": "text/x-python",
   "name": "python",
   "nbconvert_exporter": "python",
   "pygments_lexer": "ipython3",
   "version": "3.8.7"
  },
  "orig_nbformat": 4,
  "vscode": {
   "interpreter": {
    "hash": "fba15a8fe0409f50195582ac27b8e95e358fcbd51d8410e6775d4560b732321d"
   }
  }
 },
 "nbformat": 4,
 "nbformat_minor": 2
}
