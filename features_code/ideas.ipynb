{
 "cells": [
  {
   "cell_type": "markdown",
   "metadata": {},
   "source": [
    "#Hypothesis\n",
    "\n",
    "features:\n",
    "\n",
    "Nearby competitors : Store without competetor nearby have more revenue\n",
    "Number of various Store Type : Store in \"Commercial area\" have more revenue. (Commercial area nearby stores type are various)\n",
    "Concentration of People : little area with lot of people are generate more revenue than Less populated area\n",
    "Type of Store : Type of store influence the revenue\n",
    "Type of Nearby busstop : There is 3 types of busstops (importance-Level: Missingdata Central or standard) and Store With a central busstops have more revenue\n",
    "Number of Children:\n",
    "Number of Singlers:\n",
    "Number of Couple without children:\n",
    "Number of Family:\n",
    "Mall status: A store in a Mall generate more revenue\n",
    "Municipality/District : the location of the store influences revenue\n",
    "Shared street by Store: crowded streets give more revenue\n",
    "Area Size: \n",
    "\n",
    "\n",
    "\n",
    "\n",
    "\n",
    "\n"
   ]
  }
 ],
 "metadata": {
  "kernelspec": {
   "display_name": "Python 3.10.8 64-bit (microsoft store)",
   "language": "python",
   "name": "python3"
  },
  "language_info": {
   "name": "python",
   "version": "3.10.8"
  },
  "orig_nbformat": 4,
  "vscode": {
   "interpreter": {
    "hash": "e1565a8eea6db7a2140e3774cc13fc7c8aa65f0baa6265ce2615853aa604b9f4"
   }
  }
 },
 "nbformat": 4,
 "nbformat_minor": 2
}
