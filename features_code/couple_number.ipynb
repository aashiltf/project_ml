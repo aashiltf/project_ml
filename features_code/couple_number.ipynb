{
 "cells": [
  {
   "cell_type": "markdown",
   "metadata": {},
   "source": [
    "Number of Couple without Child:"
   ]
  },
  {
   "cell_type": "code",
   "execution_count": 113,
   "metadata": {},
   "outputs": [],
   "source": [
    "import pandas as pd\n",
    "import numpy as np\n",
    "import matplotlib.pyplot as plt\n",
    "\n",
    "from numba import jit, njit"
   ]
  },
  {
   "cell_type": "code",
   "execution_count": 114,
   "metadata": {},
   "outputs": [],
   "source": [
    "stores_train = pd.read_csv('../data/stores_train.csv')\n",
    "grunnkrets_person_distribution = pd.read_csv('../data/grunnkrets_households_num_persons.csv')\n"
   ]
  },
  {
   "cell_type": "code",
   "execution_count": 115,
   "metadata": {},
   "outputs": [],
   "source": [
    "CouplesStoreMerge = pd.merge(stores_train, grunnkrets_person_distribution, on=\"grunnkrets_id\", how=\"left\")\n",
    "CouplesStoreMerge = CouplesStoreMerge.drop_duplicates(subset=['store_id'])\n"
   ]
  },
  {
   "cell_type": "code",
   "execution_count": 116,
   "metadata": {},
   "outputs": [
    {
     "name": "stdout",
     "output_type": "stream",
     "text": [
      "12859\n"
     ]
    }
   ],
   "source": [
    "print(len(CouplesStoreMerge))\n"
   ]
  },
  {
   "cell_type": "code",
   "execution_count": 117,
   "metadata": {},
   "outputs": [],
   "source": [
    "numberofcouple=CouplesStoreMerge['couple_without_children'].values\n",
    "\n",
    "total_couple = 0\n",
    "counter_train = 0\n",
    "\n",
    "for value in numberofcouple:\n",
    "    if not np.isnan(value):\n",
    "        counter_train += 1\n",
    "        total_couple += value\n",
    "ave_couple_train = total_couple/counter_train\n",
    "\n",
    "for i in range(len(numberofcouple)):\n",
    "    if np.isnan(numberofcouple[i]):\n",
    "        numberofcouple[i] = ave_couple_train\n",
    "\n",
    "\n",
    "\n",
    "\n",
    "numberofcouples = pd.DataFrame()\n",
    "numberofcouples['couple_number'] = np.asarray(numberofcouple)\n",
    "numberofcouples.to_csv(\"../features_train_csv/number_couple_train.csv\", index=False)"
   ]
  },
  {
   "cell_type": "code",
   "execution_count": 118,
   "metadata": {},
   "outputs": [],
   "source": [
    "stores_test = pd.read_csv('../data/stores_test.csv')\n",
    "grunnkrets_person_distribution_test = pd.read_csv('../data/grunnkrets_households_num_persons.csv')"
   ]
  },
  {
   "cell_type": "code",
   "execution_count": 119,
   "metadata": {},
   "outputs": [
    {
     "name": "stdout",
     "output_type": "stream",
     "text": [
      "8577\n"
     ]
    }
   ],
   "source": [
    "CouplesStoreMergetest = pd.merge(stores_test, grunnkrets_person_distribution_test, on=\"grunnkrets_id\", how=\"left\")\n",
    "CouplesStoreMergetest = CouplesStoreMergetest.drop_duplicates(subset=['store_id'])\n",
    "print(len(CouplesStoreMergetest))\n"
   ]
  },
  {
   "cell_type": "code",
   "execution_count": 120,
   "metadata": {},
   "outputs": [],
   "source": [
    "numberofcouple_test=CouplesStoreMergetest['couple_without_children'].values\n",
    "total_couple_test = 0\n",
    "counter_test = 0\n",
    "for value in numberofcouple_test:\n",
    "    if not np.isnan(value):\n",
    "        counter_test += 1\n",
    "        total_couple_test += value\n",
    "ave_couple_test = total_couple_test/counter_test\n",
    "\n",
    "for i in range(len(numberofcouple_test)):\n",
    "    if np.isnan(numberofcouple_test[i]):\n",
    "        numberofcouple_test[i] = ave_couple_test\n",
    "\n",
    "numberofcouplestest = pd.DataFrame()\n",
    "numberofcouplestest[\"couple_number\"] = np.asarray(numberofcouple_test)\n",
    "numberofcouplestest.to_csv(\"../features_test_csv/number_couples_test.csv\", index=False)"
   ]
  }
 ],
 "metadata": {
  "kernelspec": {
   "display_name": "Python 3.10.8 64-bit (microsoft store)",
   "language": "python",
   "name": "python3"
  },
  "language_info": {
   "codemirror_mode": {
    "name": "ipython",
    "version": 3
   },
   "file_extension": ".py",
   "mimetype": "text/x-python",
   "name": "python",
   "nbconvert_exporter": "python",
   "pygments_lexer": "ipython3",
   "version": "3.10.8"
  },
  "orig_nbformat": 4,
  "vscode": {
   "interpreter": {
    "hash": "e1565a8eea6db7a2140e3774cc13fc7c8aa65f0baa6265ce2615853aa604b9f4"
   }
  }
 },
 "nbformat": 4,
 "nbformat_minor": 2
}
