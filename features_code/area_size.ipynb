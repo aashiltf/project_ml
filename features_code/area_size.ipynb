{
 "cells": [
  {
   "cell_type": "markdown",
   "metadata": {},
   "source": [
    "# Hypothesis:\n",
    "\n",
    "The area of the grunnkrets affects the revenue to stores in that grunnkrets.\n",
    "\n",
    "# Mission:\n",
    "\n",
    "To make feature from area."
   ]
  },
  {
   "cell_type": "code",
   "execution_count": 130,
   "metadata": {},
   "outputs": [],
   "source": [
    "import pandas as pd\n",
    "import numpy as np"
   ]
  },
  {
   "cell_type": "code",
   "execution_count": 131,
   "metadata": {},
   "outputs": [],
   "source": [
    "area_df = pd.read_csv(\"../data/grunnkrets_norway_stripped.csv\")\n",
    "\n",
    "stores_train = pd.read_csv(\"../data/stores_train.csv\")\n",
    "stores_test = pd.read_csv(\"../data/stores_test.csv\")"
   ]
  },
  {
   "cell_type": "code",
   "execution_count": 132,
   "metadata": {},
   "outputs": [],
   "source": [
    "area_train_df = pd.merge(stores_train, area_df, on=\"grunnkrets_id\", how=\"left\")\n",
    "area_train_df = area_train_df.drop_duplicates(subset=['store_id'])"
   ]
  },
  {
   "cell_type": "code",
   "execution_count": 133,
   "metadata": {},
   "outputs": [],
   "source": [
    "#Average area value: \n",
    "area_train_values = area_train_df[\"area_km2\"].values\n",
    "total_train_value = 0\n",
    "counter_train = 0\n",
    "for value in area_train_values:\n",
    "    if not np.isnan(value):\n",
    "        counter_train += 1\n",
    "        total_train_value += value\n",
    "ave_area_train = total_train_value/counter_train"
   ]
  },
  {
   "cell_type": "code",
   "execution_count": 134,
   "metadata": {},
   "outputs": [],
   "source": [
    "#Replace all empty values with average:\n",
    "for i in range(len(area_train_values)):\n",
    "    if np.isnan(area_train_values[i]):\n",
    "        area_train_values[i] = ave_area_train"
   ]
  },
  {
   "cell_type": "code",
   "execution_count": 135,
   "metadata": {},
   "outputs": [],
   "source": [
    "feature_train = pd.DataFrame()\n",
    "feature_train['area_grunnkrets'] = np.asarray(area_train_values)\n",
    "\n",
    "feature_train.to_csv('../features_train_csv/store_area.csv', index = False)"
   ]
  },
  {
   "cell_type": "markdown",
   "metadata": {},
   "source": [
    "And for test:"
   ]
  },
  {
   "cell_type": "code",
   "execution_count": 136,
   "metadata": {},
   "outputs": [],
   "source": [
    "area_test_df = pd.merge(stores_test, area_df, on=\"grunnkrets_id\", how=\"left\")\n",
    "area_test_df = area_test_df.drop_duplicates(subset=[\"store_id\"])"
   ]
  },
  {
   "cell_type": "code",
   "execution_count": 137,
   "metadata": {},
   "outputs": [],
   "source": [
    "area_test_values = area_test_df[\"area_km2\"].values\n",
    "total_test_value = 0\n",
    "counter = 0\n",
    "for value in area_test_values:\n",
    "    if not np.isnan(value):\n",
    "        counter += 1\n",
    "        total_test_value += value\n",
    "ave_area_test = total_test_value/counter"
   ]
  },
  {
   "cell_type": "code",
   "execution_count": 138,
   "metadata": {},
   "outputs": [],
   "source": [
    "for i in range(len(area_test_values)):\n",
    "    if np.isnan(area_test_values[i]):\n",
    "        area_test_values[i] = ave_area_test"
   ]
  },
  {
   "cell_type": "code",
   "execution_count": 139,
   "metadata": {},
   "outputs": [],
   "source": [
    "feature_test = pd.DataFrame()\n",
    "feature_test[\"area_grunnkrets\"] = np.asarray(area_test_values)\n",
    "\n",
    "feature_test.to_csv('../features_test_csv/store_area.csv', index=False)"
   ]
  },
  {
   "cell_type": "code",
   "execution_count": null,
   "metadata": {},
   "outputs": [],
   "source": []
  }
 ],
 "metadata": {
  "kernelspec": {
   "display_name": "Python 3.10.2 64-bit",
   "language": "python",
   "name": "python3"
  },
  "language_info": {
   "codemirror_mode": {
    "name": "ipython",
    "version": 3
   },
   "file_extension": ".py",
   "mimetype": "text/x-python",
   "name": "python",
   "nbconvert_exporter": "python",
   "pygments_lexer": "ipython3",
   "version": "3.10.2"
  },
  "orig_nbformat": 4,
  "vscode": {
   "interpreter": {
    "hash": "369f2c481f4da34e4445cda3fffd2e751bd1c4d706f27375911949ba6bb62e1c"
   }
  }
 },
 "nbformat": 4,
 "nbformat_minor": 2
}
