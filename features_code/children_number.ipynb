{
 "cells": [
  {
   "cell_type": "markdown",
   "metadata": {},
   "source": [
    "Number of Couple without Child:"
   ]
  },
  {
   "cell_type": "code",
   "execution_count": 50,
   "metadata": {},
   "outputs": [],
   "source": [
    "import pandas as pd\n",
    "import numpy as np\n",
    "import matplotlib.pyplot as plt\n",
    "\n",
    "from numba import jit, njit"
   ]
  },
  {
   "cell_type": "code",
   "execution_count": 51,
   "metadata": {},
   "outputs": [],
   "source": [
    "\n",
    "\n",
    "stores_train = pd.read_csv('../data/stores_train.csv')\n",
    "grunnkrets_age_distribution = pd.read_csv('../data/grunnkrets_age_distribution.csv')\n"
   ]
  },
  {
   "cell_type": "code",
   "execution_count": 52,
   "metadata": {},
   "outputs": [
    {
     "name": "stdout",
     "output_type": "stream",
     "text": [
      "12859\n"
     ]
    }
   ],
   "source": [
    "children_Store_Merge = pd.merge(stores_train, grunnkrets_age_distribution, on=\"grunnkrets_id\", how=\"left\")\n",
    "children_Store_Merge = children_Store_Merge.drop_duplicates(subset=['store_id'])\n",
    "print(len(children_Store_Merge))"
   ]
  },
  {
   "cell_type": "code",
   "execution_count": 53,
   "metadata": {},
   "outputs": [],
   "source": [
    "total_number_children = []\n",
    "for index, row in children_Store_Merge.iterrows():\n",
    "    total=0\n",
    "    for i in range(0,18):\n",
    "        age= f\"age_{i}\"\n",
    "        total= total+ row[age]\n",
    "    total_number_children.append(total)\n",
    "\n",
    "total_children = 0\n",
    "counter_train = 0\n",
    "for value in total_number_children:\n",
    "    if not np.isnan(value):\n",
    "        counter_train += 1\n",
    "        total_children += value\n",
    "ave_children_train = total_children/counter_train\n",
    "\n",
    "for i in range(len(total_number_children)):\n",
    "    if np.isnan(total_number_children[i]):\n",
    "        total_number_children[i] = ave_children_train\n",
    "\n",
    "\n",
    "number_of_children = pd.DataFrame()\n",
    "number_of_children['children_number'] = np.asarray(total_number_children)\n",
    "number_of_children.to_csv(\"../features_train_csv/number_children_train.csv\", index=False)"
   ]
  },
  {
   "cell_type": "code",
   "execution_count": 54,
   "metadata": {},
   "outputs": [],
   "source": [
    "stores_test = pd.read_csv('../data/stores_test.csv')\n",
    "grunnkrets_age_distribution_test = pd.read_csv('../data/grunnkrets_age_distribution.csv')"
   ]
  },
  {
   "cell_type": "code",
   "execution_count": 55,
   "metadata": {},
   "outputs": [
    {
     "name": "stdout",
     "output_type": "stream",
     "text": [
      "8577\n"
     ]
    }
   ],
   "source": [
    "children_store_merge_test = pd.merge(stores_test, grunnkrets_age_distribution_test, on=\"grunnkrets_id\", how=\"left\")\n",
    "children_store_merge_test = children_store_merge_test.drop_duplicates(subset=['store_id'])\n",
    "print(len(children_store_merge_test))\n",
    "\n"
   ]
  },
  {
   "cell_type": "code",
   "execution_count": 56,
   "metadata": {},
   "outputs": [],
   "source": [
    "total_number_children_test = []\n",
    "for index, row in children_store_merge_test.iterrows():\n",
    "    total=0\n",
    "    for i in range(0,18):\n",
    "        age= f\"age_{i}\"\n",
    "        total= total+ row[age]\n",
    "    total_number_children_test.append(total)\n",
    "\n",
    "\n",
    "total_children_test = 0\n",
    "counter_test = 0\n",
    "for value in total_number_children_test:\n",
    "    if not np.isnan(value):\n",
    "        counter_test += 1\n",
    "        total_children_test += value\n",
    "ave_children_test = total_children_test/counter_test\n",
    "\n",
    "for i in range(len(total_number_children_test)):\n",
    "    if np.isnan(total_number_children_test[i]):\n",
    "        total_number_children_test[i] = ave_children_test\n",
    "\n",
    "number_of_children_test = pd.DataFrame()\n",
    "number_of_children_test[\"children_number\"] = np.asarray(total_number_children_test)\n",
    "number_of_children_test.to_csv(\"../features_test_csv/number_children_test.csv\", index=False)"
   ]
  }
 ],
 "metadata": {
  "kernelspec": {
   "display_name": "Python 3.10.8 64-bit (microsoft store)",
   "language": "python",
   "name": "python3"
  },
  "language_info": {
   "codemirror_mode": {
    "name": "ipython",
    "version": 3
   },
   "file_extension": ".py",
   "mimetype": "text/x-python",
   "name": "python",
   "nbconvert_exporter": "python",
   "pygments_lexer": "ipython3",
   "version": "3.10.8"
  },
  "orig_nbformat": 4,
  "vscode": {
   "interpreter": {
    "hash": "e1565a8eea6db7a2140e3774cc13fc7c8aa65f0baa6265ce2615853aa604b9f4"
   }
  }
 },
 "nbformat": 4,
 "nbformat_minor": 2
}
