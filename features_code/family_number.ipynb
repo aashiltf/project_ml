{
 "cells": [
  {
   "cell_type": "markdown",
   "metadata": {},
   "source": [
    "Number of families:"
   ]
  },
  {
   "cell_type": "code",
   "execution_count": 11,
   "metadata": {},
   "outputs": [],
   "source": [
    "import pandas as pd\n",
    "import numpy as np"
   ]
  },
  {
   "cell_type": "code",
   "execution_count": 12,
   "metadata": {},
   "outputs": [],
   "source": [
    "stores_train = pd.read_csv('../data/stores_train.csv')\n",
    "stores_test = pd.read_csv('../data/stores_test.csv')\n",
    "grunnkrets_person_distribution = pd.read_csv('../data/grunnkrets_households_num_persons.csv')\n"
   ]
  },
  {
   "cell_type": "code",
   "execution_count": 13,
   "metadata": {},
   "outputs": [],
   "source": [
    "familiesStoreMerge = pd.merge(stores_train, grunnkrets_person_distribution, on=\"grunnkrets_id\", how=\"left\")\n",
    "familiesStoreMerge = familiesStoreMerge.drop_duplicates(subset=['store_id'])\n",
    "\n",
    "\n",
    "familiesStoreMerge_test = pd.merge(stores_test, grunnkrets_person_distribution, on=\"grunnkrets_id\", how=\"left\")\n",
    "familiesStoreMerge_test = familiesStoreMerge.drop_duplicates(subset=['store_id'])"
   ]
  },
  {
   "cell_type": "code",
   "execution_count": 14,
   "metadata": {},
   "outputs": [
    {
     "name": "stdout",
     "output_type": "stream",
     "text": [
      "12859\n"
     ]
    }
   ],
   "source": [
    "print(len(familiesStoreMerge))\n"
   ]
  },
  {
   "cell_type": "code",
   "execution_count": 15,
   "metadata": {},
   "outputs": [],
   "source": [
    "numberoffamily=familiesStoreMerge['couple_children_0_to_5_years'].values+familiesStoreMerge['couple_children_18_or_above'].values+familiesStoreMerge['couple_children_6_to_17_years'].values\n",
    "total_family = 0\n",
    "counter_train = 0\n",
    "\n",
    "for value in numberoffamily:\n",
    "    if not np.isnan(value):\n",
    "        counter_train += 1\n",
    "        total_family += value\n",
    "ave_family_train = total_family/counter_train\n",
    "\n",
    "for i in range(len(numberoffamily)):\n",
    "    if np.isnan(numberoffamily[i]):\n",
    "        numberoffamily[i] = ave_family_train\n",
    "\n",
    "\n",
    "\n",
    "\n",
    "numberoffamilies = pd.DataFrame()\n",
    "numberoffamilies['family_number'] = np.asarray(numberoffamily)\n",
    "numberoffamilies.to_csv(\"../features_train_csv/number_family_train.csv\", index=False)"
   ]
  },
  {
   "cell_type": "code",
   "execution_count": 16,
   "metadata": {},
   "outputs": [],
   "source": [
    "stores_test = pd.read_csv('../data/stores_test.csv')\n",
    "grunnkrets_person_distribution_test = pd.read_csv('../data/grunnkrets_households_num_persons.csv')"
   ]
  },
  {
   "cell_type": "code",
   "execution_count": 17,
   "metadata": {},
   "outputs": [
    {
     "name": "stdout",
     "output_type": "stream",
     "text": [
      "8577\n"
     ]
    }
   ],
   "source": [
    "familiesStoreMergetest = pd.merge(stores_test, grunnkrets_person_distribution_test, on=\"grunnkrets_id\", how=\"left\")\n",
    "familiesStoreMergetest = familiesStoreMergetest.drop_duplicates(subset=['store_id'])\n",
    "print(len(familiesStoreMergetest))\n"
   ]
  },
  {
   "cell_type": "code",
   "execution_count": 18,
   "metadata": {},
   "outputs": [],
   "source": [
    "numberoffamily_test=familiesStoreMerge_test['couple_children_0_to_5_years'].values+familiesStoreMerge_test['couple_children_18_or_above'].values+familiesStoreMerge_test['couple_children_6_to_17_years'].values\n",
    "total_family_test = 0\n",
    "counter_test = 0\n",
    "for value in numberoffamily_test:\n",
    "    if not np.isnan(value):\n",
    "        counter_test += 1\n",
    "        total_family_test += value\n",
    "ave_family_test = total_family_test/counter_test\n",
    "\n",
    "for i in range(len(numberoffamily_test)):\n",
    "    if np.isnan(numberoffamily_test[i]):\n",
    "        numberoffamily_test[i] = ave_family_test\n",
    "\n",
    "numberoffamiliestest = pd.DataFrame()\n",
    "numberoffamiliestest[\"family_number\"] = np.asarray(numberoffamily_test)\n",
    "numberoffamiliestest.to_csv(\"../features_test_csv/number_family_test.csv\", index=False)"
   ]
  }
 ],
 "metadata": {
  "kernelspec": {
   "display_name": "Python 3.10.8 64-bit (microsoft store)",
   "language": "python",
   "name": "python3"
  },
  "language_info": {
   "codemirror_mode": {
    "name": "ipython",
    "version": 3
   },
   "file_extension": ".py",
   "mimetype": "text/x-python",
   "name": "python",
   "nbconvert_exporter": "python",
   "pygments_lexer": "ipython3",
   "version": "3.10.8"
  },
  "orig_nbformat": 4,
  "vscode": {
   "interpreter": {
    "hash": "e1565a8eea6db7a2140e3774cc13fc7c8aa65f0baa6265ce2615853aa604b9f4"
   }
  }
 },
 "nbformat": 4,
 "nbformat_minor": 2
}
