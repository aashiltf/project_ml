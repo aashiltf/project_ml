{
 "cells": [
  {
   "cell_type": "code",
   "execution_count": 11,
   "metadata": {},
   "outputs": [],
   "source": [
    "import pandas as pd\n",
    "import numpy as np"
   ]
  },
  {
   "cell_type": "code",
   "execution_count": 12,
   "metadata": {},
   "outputs": [],
   "source": [
    "stores_train = pd.read_csv('../data/stores_train.csv')\n",
    "stores_test = pd.read_csv('../data/stores_test.csv')"
   ]
  },
  {
   "cell_type": "code",
   "execution_count": 13,
   "metadata": {},
   "outputs": [],
   "source": [
    "# TRAIN\n",
    "\n",
    "def getlat():\n",
    "    lat = []\n",
    "    for index, row in stores_train.iterrows():\n",
    "        lat.append(row[\"lat\"])\n",
    "    return lat\n",
    "\n",
    "getlat()\n",
    "\n",
    "instance = getlat()\n",
    "adults_grunnkrets = pd.DataFrame()\n",
    "adults_grunnkrets[\"lat\"] = np.asarray(instance)\n",
    "adults_grunnkrets.to_csv(\"../features_train_csv/lat.csv\", index=False)\n"
   ]
  },
  {
   "cell_type": "code",
   "execution_count": 14,
   "metadata": {},
   "outputs": [],
   "source": [
    "# TEST\n",
    "\n",
    "def getlat():\n",
    "    lat = []\n",
    "    for index, row in stores_test.iterrows():\n",
    "        lat.append(row[\"lat\"])\n",
    "    return lat\n",
    "\n",
    "getlat()\n",
    "\n",
    "instance = getlat()\n",
    "adults_grunnkrets = pd.DataFrame()\n",
    "adults_grunnkrets[\"lat\"] = np.asarray(instance)\n",
    "adults_grunnkrets.to_csv(\"../features_test_csv/lat.csv\", index=False)"
   ]
  },
  {
   "cell_type": "code",
   "execution_count": null,
   "metadata": {},
   "outputs": [],
   "source": []
  },
  {
   "cell_type": "code",
   "execution_count": null,
   "metadata": {},
   "outputs": [],
   "source": []
  }
 ],
 "metadata": {
  "kernelspec": {
   "display_name": "Python 3.9.7 64-bit",
   "language": "python",
   "name": "python3"
  },
  "language_info": {
   "codemirror_mode": {
    "name": "ipython",
    "version": 3
   },
   "file_extension": ".py",
   "mimetype": "text/x-python",
   "name": "python",
   "nbconvert_exporter": "python",
   "pygments_lexer": "ipython3",
   "version": "3.9.7"
  },
  "orig_nbformat": 4,
  "vscode": {
   "interpreter": {
    "hash": "aee8b7b246df8f9039afb4144a1f6fd8d2ca17a180786b69acc140d282b71a49"
   }
  }
 },
 "nbformat": 4,
 "nbformat_minor": 2
}
