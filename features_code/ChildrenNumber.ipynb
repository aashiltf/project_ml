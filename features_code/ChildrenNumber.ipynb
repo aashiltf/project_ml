{
 "cells": [
  {
   "cell_type": "markdown",
   "metadata": {},
   "source": [
    "Number of Children :"
   ]
  },
  {
   "cell_type": "code",
   "execution_count": 10,
   "metadata": {},
   "outputs": [],
   "source": [
    "import pandas as pd\n",
    "import numpy as np\n",
    "import matplotlib.pyplot as plt\n",
    "\n",
    "from numba import jit, njit"
   ]
  },
  {
   "cell_type": "code",
   "execution_count": 11,
   "metadata": {},
   "outputs": [],
   "source": [
    "stores_train = pd.read_csv('../data/stores_train.csv')\n",
    "grunnkrets_age_distribution = pd.read_csv('../data/grunnkrets_age_distribution.csv')"
   ]
  },
  {
   "cell_type": "code",
   "execution_count": 12,
   "metadata": {},
   "outputs": [],
   "source": [
    "def children_in_grunnkrets():\n",
    "    total_number_children_grunnkrets = []\n",
    "\n",
    "    for index, row in grunnkrets_age_distribution.iterrows():\n",
    "        total_num = 0\n",
    "        for i in range(0, 18):\n",
    "            param = f\"age_{i}\"\n",
    "            total_num += row[param]\n",
    "        total_number_children_grunnkrets.append(total_num)\n",
    "                \n",
    "    return total_number_children_grunnkrets\n",
    "\n",
    "children_in_grunnkrets()\n",
    "\n",
    "\n",
    "instance = children_in_grunnkrets()\n",
    "children_grunnkrets = pd.DataFrame()\n",
    "children_grunnkrets[\"grunnkrets_id\"] = grunnkrets_age_distribution[\"grunnkrets_id\"]\n",
    "children_grunnkrets[\"number_children_grunnkrets\"] = np.asarray(instance)\n",
    "children_grunnkrets.to_csv(\"../data/number_children_grunnkrets.csv\", index=False)"
   ]
  }
 ],
 "metadata": {
  "kernelspec": {
   "display_name": "Python 3.10.8 64-bit (microsoft store)",
   "language": "python",
   "name": "python3"
  },
  "language_info": {
   "codemirror_mode": {
    "name": "ipython",
    "version": 3
   },
   "file_extension": ".py",
   "mimetype": "text/x-python",
   "name": "python",
   "nbconvert_exporter": "python",
   "pygments_lexer": "ipython3",
   "version": "3.10.8"
  },
  "orig_nbformat": 4,
  "vscode": {
   "interpreter": {
    "hash": "e1565a8eea6db7a2140e3774cc13fc7c8aa65f0baa6265ce2615853aa604b9f4"
   }
  }
 },
 "nbformat": 4,
 "nbformat_minor": 2
}
