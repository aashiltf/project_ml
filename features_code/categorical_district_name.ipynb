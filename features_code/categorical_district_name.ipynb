{
 "cells": [
  {
   "cell_type": "code",
   "execution_count": 21,
   "metadata": {},
   "outputs": [],
   "source": [
    "import pandas as pd"
   ]
  },
  {
   "cell_type": "code",
   "execution_count": 22,
   "metadata": {},
   "outputs": [],
   "source": [
    "district_df = pd.read_csv(\"../data/grunnkrets_norway_stripped.csv\")\n",
    "stores_train_df = pd.read_csv(\"../data/stores_train.csv\")\n",
    "stores_test_df = pd.read_csv(\"../data/stores_test.csv\")"
   ]
  },
  {
   "cell_type": "code",
   "execution_count": 23,
   "metadata": {},
   "outputs": [],
   "source": [
    "district_train_df = pd.merge(stores_train_df, district_df, on=\"grunnkrets_id\", how=\"left\")\n",
    "district_train_df = district_train_df.drop_duplicates(subset=['store_id'])"
   ]
  },
  {
   "cell_type": "code",
   "execution_count": 24,
   "metadata": {},
   "outputs": [],
   "source": [
    "district_test_df = pd.merge(stores_test_df, district_df, on=\"grunnkrets_id\", how=\"left\")\n",
    "district_test_df = district_test_df.drop_duplicates(subset=['store_id'])"
   ]
  },
  {
   "cell_type": "code",
   "execution_count": 25,
   "metadata": {},
   "outputs": [],
   "source": [
    "features_train = pd.DataFrame()\n",
    "\n",
    "features_train[\"categorical_district_name\"] = district_train_df[\"district_name\"].values\n",
    "features_train.to_csv(\"../features_train_csv/categorical_district_name.csv\", index=False)"
   ]
  },
  {
   "cell_type": "code",
   "execution_count": 26,
   "metadata": {},
   "outputs": [],
   "source": [
    "features_test = pd.DataFrame()\n",
    "\n",
    "features_test[\"categorical_district_name\"] = district_test_df[\"district_name\"].values\n",
    "features_test.to_csv(\"../features_test_csv/categorical_district_name.csv\", index=False)"
   ]
  }
 ],
 "metadata": {
  "kernelspec": {
   "display_name": "Python 3.10.8 64-bit (microsoft store)",
   "language": "python",
   "name": "python3"
  },
  "language_info": {
   "codemirror_mode": {
    "name": "ipython",
    "version": 3
   },
   "file_extension": ".py",
   "mimetype": "text/x-python",
   "name": "python",
   "nbconvert_exporter": "python",
   "pygments_lexer": "ipython3",
   "version": "3.10.8"
  },
  "orig_nbformat": 4,
  "vscode": {
   "interpreter": {
    "hash": "e1565a8eea6db7a2140e3774cc13fc7c8aa65f0baa6265ce2615853aa604b9f4"
   }
  }
 },
 "nbformat": 4,
 "nbformat_minor": 2
}
