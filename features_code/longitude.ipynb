{
 "cells": [
  {
   "cell_type": "code",
   "execution_count": 7,
   "metadata": {},
   "outputs": [],
   "source": [
    "import pandas as pd\n",
    "import numpy as np"
   ]
  },
  {
   "cell_type": "code",
   "execution_count": 8,
   "metadata": {},
   "outputs": [],
   "source": [
    "stores_train = pd.read_csv('../data/stores_train.csv')\n",
    "stores_test = pd.read_csv('../data/stores_test.csv')"
   ]
  },
  {
   "cell_type": "code",
   "execution_count": 9,
   "metadata": {},
   "outputs": [],
   "source": [
    "# TRAIN\n",
    "\n",
    "def getlon():\n",
    "    lon = []\n",
    "    for index, row in stores_train.iterrows():\n",
    "        lon.append(row[\"lon\"])\n",
    "    return lon\n",
    "\n",
    "getlon()\n",
    "\n",
    "instance = getlon()\n",
    "adults_grunnkrets = pd.DataFrame()\n",
    "adults_grunnkrets[\"lon\"] = np.asarray(instance)\n",
    "adults_grunnkrets.to_csv(\"../features_train_csv/lon.csv\", index=False)\n"
   ]
  },
  {
   "cell_type": "code",
   "execution_count": 10,
   "metadata": {},
   "outputs": [
    {
     "ename": "ValueError",
     "evalue": "too many values to unpack (expected 2)",
     "output_type": "error",
     "traceback": [
      "\u001b[0;31m---------------------------------------------------------------------------\u001b[0m",
      "\u001b[0;31mValueError\u001b[0m                                Traceback (most recent call last)",
      "\u001b[1;32m/Users/ashildfridtun/OneDrive-NTNU/4klasse/machinelearning/project_ml/project_ml/features_code/longitude.ipynb Cell 4\u001b[0m in \u001b[0;36m<cell line: 9>\u001b[0;34m()\u001b[0m\n\u001b[1;32m      <a href='vscode-notebook-cell:/Users/ashildfridtun/OneDrive-NTNU/4klasse/machinelearning/project_ml/project_ml/features_code/longitude.ipynb#W3sZmlsZQ%3D%3D?line=5'>6</a>\u001b[0m         lon\u001b[39m.\u001b[39mappend(row[\u001b[39m\"\u001b[39m\u001b[39mlon\u001b[39m\u001b[39m\"\u001b[39m])\n\u001b[1;32m      <a href='vscode-notebook-cell:/Users/ashildfridtun/OneDrive-NTNU/4klasse/machinelearning/project_ml/project_ml/features_code/longitude.ipynb#W3sZmlsZQ%3D%3D?line=6'>7</a>\u001b[0m     \u001b[39mreturn\u001b[39;00m lon\n\u001b[0;32m----> <a href='vscode-notebook-cell:/Users/ashildfridtun/OneDrive-NTNU/4klasse/machinelearning/project_ml/project_ml/features_code/longitude.ipynb#W3sZmlsZQ%3D%3D?line=8'>9</a>\u001b[0m getlon()\n\u001b[1;32m     <a href='vscode-notebook-cell:/Users/ashildfridtun/OneDrive-NTNU/4klasse/machinelearning/project_ml/project_ml/features_code/longitude.ipynb#W3sZmlsZQ%3D%3D?line=10'>11</a>\u001b[0m instance \u001b[39m=\u001b[39m getlon()\n\u001b[1;32m     <a href='vscode-notebook-cell:/Users/ashildfridtun/OneDrive-NTNU/4klasse/machinelearning/project_ml/project_ml/features_code/longitude.ipynb#W3sZmlsZQ%3D%3D?line=11'>12</a>\u001b[0m adults_grunnkrets \u001b[39m=\u001b[39m pd\u001b[39m.\u001b[39mDataFrame()\n",
      "\u001b[1;32m/Users/ashildfridtun/OneDrive-NTNU/4klasse/machinelearning/project_ml/project_ml/features_code/longitude.ipynb Cell 4\u001b[0m in \u001b[0;36mgetlon\u001b[0;34m()\u001b[0m\n\u001b[1;32m      <a href='vscode-notebook-cell:/Users/ashildfridtun/OneDrive-NTNU/4klasse/machinelearning/project_ml/project_ml/features_code/longitude.ipynb#W3sZmlsZQ%3D%3D?line=2'>3</a>\u001b[0m \u001b[39mdef\u001b[39;00m \u001b[39mgetlon\u001b[39m():\n\u001b[1;32m      <a href='vscode-notebook-cell:/Users/ashildfridtun/OneDrive-NTNU/4klasse/machinelearning/project_ml/project_ml/features_code/longitude.ipynb#W3sZmlsZQ%3D%3D?line=3'>4</a>\u001b[0m     lon \u001b[39m=\u001b[39m []\n\u001b[0;32m----> <a href='vscode-notebook-cell:/Users/ashildfridtun/OneDrive-NTNU/4klasse/machinelearning/project_ml/project_ml/features_code/longitude.ipynb#W3sZmlsZQ%3D%3D?line=4'>5</a>\u001b[0m     \u001b[39mfor\u001b[39;00m index, row \u001b[39min\u001b[39;00m stores_test:\n\u001b[1;32m      <a href='vscode-notebook-cell:/Users/ashildfridtun/OneDrive-NTNU/4klasse/machinelearning/project_ml/project_ml/features_code/longitude.ipynb#W3sZmlsZQ%3D%3D?line=5'>6</a>\u001b[0m         lon\u001b[39m.\u001b[39mappend(row[\u001b[39m\"\u001b[39m\u001b[39mlon\u001b[39m\u001b[39m\"\u001b[39m])\n\u001b[1;32m      <a href='vscode-notebook-cell:/Users/ashildfridtun/OneDrive-NTNU/4klasse/machinelearning/project_ml/project_ml/features_code/longitude.ipynb#W3sZmlsZQ%3D%3D?line=6'>7</a>\u001b[0m     \u001b[39mreturn\u001b[39;00m lon\n",
      "\u001b[0;31mValueError\u001b[0m: too many values to unpack (expected 2)"
     ]
    }
   ],
   "source": [
    "# TEST\n",
    "\n",
    "def getlon():\n",
    "    lon = []\n",
    "    for index, row in stores_test.iterrows():\n",
    "        lon.append(row[\"lon\"])\n",
    "    return lon\n",
    "\n",
    "getlon()\n",
    "\n",
    "instance = getlon()\n",
    "adults_grunnkrets = pd.DataFrame()\n",
    "adults_grunnkrets[\"lon\"] = np.asarray(instance)\n",
    "adults_grunnkrets.to_csv(\"../features_test_csv/lon.csv\", index=False)\n"
   ]
  },
  {
   "cell_type": "code",
   "execution_count": null,
   "metadata": {},
   "outputs": [],
   "source": []
  },
  {
   "cell_type": "code",
   "execution_count": null,
   "metadata": {},
   "outputs": [],
   "source": []
  }
 ],
 "metadata": {
  "kernelspec": {
   "display_name": "Python 3.9.7 64-bit",
   "language": "python",
   "name": "python3"
  },
  "language_info": {
   "codemirror_mode": {
    "name": "ipython",
    "version": 3
   },
   "file_extension": ".py",
   "mimetype": "text/x-python",
   "name": "python",
   "nbconvert_exporter": "python",
   "pygments_lexer": "ipython3",
   "version": "3.9.7"
  },
  "orig_nbformat": 4,
  "vscode": {
   "interpreter": {
    "hash": "aee8b7b246df8f9039afb4144a1f6fd8d2ca17a180786b69acc140d282b71a49"
   }
  }
 },
 "nbformat": 4,
 "nbformat_minor": 2
}
