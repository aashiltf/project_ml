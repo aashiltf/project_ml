{
 "cells": [
  {
   "cell_type": "markdown",
   "metadata": {},
   "source": [
    "# Hypothesis:\n",
    "\n",
    "Stores closer to busstops have more revenue."
   ]
  },
  {
   "cell_type": "code",
   "execution_count": 23,
   "metadata": {},
   "outputs": [],
   "source": [
    "import pandas as pd\n",
    "import numpy as np\n",
    "import matplotlib.pyplot as plt\n",
    "import geopy.distance"
   ]
  },
  {
   "cell_type": "code",
   "execution_count": 24,
   "metadata": {},
   "outputs": [],
   "source": [
    "stores_train = pd.read_csv('../data/stores_train.csv')\n",
    "\n",
    "stores_test = pd.read_csv('../data/stores_test.csv')\n",
    "\n",
    "busstops_norway =  pd.read_csv('../data/busstops_norway.csv')"
   ]
  },
  {
   "cell_type": "code",
   "execution_count": 25,
   "metadata": {},
   "outputs": [],
   "source": [
    "stores_train_lon = stores_train[\"lon\"].values\n",
    "stores_train_lat = stores_train[\"lat\"].values\n",
    "\n",
    "stores_test_lon = stores_test[\"lon\"].values\n",
    "stores_test_lat = stores_test[\"lat\"].values\n",
    "\n",
    "busstops = busstops_norway[\"geometry\"].values\n",
    "\n",
    "busstops_lon = []\n",
    "busstops_lat = []\n",
    "for busstop in busstops:\n",
    "    busstop = busstop.split(\"(\")\n",
    "    busstop = busstop[1].split(\" \")\n",
    "    busstop[1] = busstop[1].replace(\")\", \"\")\n",
    "    busstops_lon.append(float(busstop[0]))\n",
    "    busstops_lat.append(float(busstop[1]))"
   ]
  },
  {
   "cell_type": "code",
   "execution_count": 27,
   "metadata": {},
   "outputs": [
    {
     "name": "stdout",
     "output_type": "stream",
     "text": [
      "0\n",
      "1\n",
      "2\n",
      "3\n",
      "4\n",
      "5\n",
      "6\n",
      "7\n",
      "8\n",
      "9\n"
     ]
    },
    {
     "ename": "KeyboardInterrupt",
     "evalue": "",
     "output_type": "error",
     "traceback": [
      "\u001b[1;31m---------------------------------------------------------------------------\u001b[0m",
      "\u001b[1;31mKeyboardInterrupt\u001b[0m                         Traceback (most recent call last)",
      "Cell \u001b[1;32mIn [27], line 22\u001b[0m\n\u001b[0;32m     19\u001b[0m         closest_distances\u001b[39m.\u001b[39mappend(closest_distance)          \n\u001b[0;32m     20\u001b[0m     \u001b[39mreturn\u001b[39;00m closest_distances\n\u001b[1;32m---> 22\u001b[0m distances \u001b[39m=\u001b[39m find_closest_distance([stores_train_lon, stores_train_lat])\n",
      "Cell \u001b[1;32mIn [27], line 13\u001b[0m, in \u001b[0;36mfind_closest_distance\u001b[1;34m(stores_coo)\u001b[0m\n\u001b[0;32m     11\u001b[0m \u001b[39mfor\u001b[39;00m j \u001b[39min\u001b[39;00m \u001b[39mrange\u001b[39m(\u001b[39mlen\u001b[39m(busstops_lon)):\n\u001b[0;32m     12\u001b[0m     busstop \u001b[39m=\u001b[39m [busstops_lon[j],busstops_lat[j]]\n\u001b[1;32m---> 13\u001b[0m     distance \u001b[39m=\u001b[39m distance_busstop_and_store(busstop, coo_store)\n\u001b[0;32m     14\u001b[0m     \u001b[39mif\u001b[39;00m distance \u001b[39m<\u001b[39m closest_distance:\n\u001b[0;32m     15\u001b[0m         closest_distance \u001b[39m=\u001b[39m distance\n",
      "Cell \u001b[1;32mIn [27], line 2\u001b[0m, in \u001b[0;36mdistance_busstop_and_store\u001b[1;34m(coo_busstop, coo_store)\u001b[0m\n\u001b[0;32m      1\u001b[0m \u001b[39mdef\u001b[39;00m \u001b[39mdistance_busstop_and_store\u001b[39m(coo_busstop, coo_store):\n\u001b[1;32m----> 2\u001b[0m     distance \u001b[39m=\u001b[39m geopy\u001b[39m.\u001b[39;49mdistance\u001b[39m.\u001b[39;49mgeodesic(coo_busstop, coo_store)\u001b[39m.\u001b[39mm\n\u001b[0;32m      3\u001b[0m     \u001b[39mreturn\u001b[39;00m distance\n",
      "File \u001b[1;32mc:\\Python310\\lib\\site-packages\\geopy\\distance.py:522\u001b[0m, in \u001b[0;36mgeodesic.__init__\u001b[1;34m(self, *args, **kwargs)\u001b[0m\n\u001b[0;32m    520\u001b[0m \u001b[39mself\u001b[39m\u001b[39m.\u001b[39mset_ellipsoid(kwargs\u001b[39m.\u001b[39mpop(\u001b[39m'\u001b[39m\u001b[39mellipsoid\u001b[39m\u001b[39m'\u001b[39m, \u001b[39m'\u001b[39m\u001b[39mWGS-84\u001b[39m\u001b[39m'\u001b[39m))\n\u001b[0;32m    521\u001b[0m major, minor, f \u001b[39m=\u001b[39m \u001b[39mself\u001b[39m\u001b[39m.\u001b[39mELLIPSOID\n\u001b[1;32m--> 522\u001b[0m \u001b[39msuper\u001b[39m()\u001b[39m.\u001b[39m\u001b[39m__init__\u001b[39m(\u001b[39m*\u001b[39margs, \u001b[39m*\u001b[39m\u001b[39m*\u001b[39mkwargs)\n",
      "File \u001b[1;32mc:\\Python310\\lib\\site-packages\\geopy\\distance.py:276\u001b[0m, in \u001b[0;36mDistance.__init__\u001b[1;34m(self, *args, **kwargs)\u001b[0m\n\u001b[0;32m    274\u001b[0m \u001b[39melif\u001b[39;00m \u001b[39mlen\u001b[39m(args) \u001b[39m>\u001b[39m \u001b[39m1\u001b[39m:\n\u001b[0;32m    275\u001b[0m     \u001b[39mfor\u001b[39;00m a, b \u001b[39min\u001b[39;00m util\u001b[39m.\u001b[39mpairwise(args):\n\u001b[1;32m--> 276\u001b[0m         kilometers \u001b[39m+\u001b[39m\u001b[39m=\u001b[39m \u001b[39mself\u001b[39;49m\u001b[39m.\u001b[39;49mmeasure(a, b)\n\u001b[0;32m    278\u001b[0m kilometers \u001b[39m+\u001b[39m\u001b[39m=\u001b[39m units\u001b[39m.\u001b[39mkilometers(\u001b[39m*\u001b[39m\u001b[39m*\u001b[39mkwargs)\n\u001b[0;32m    279\u001b[0m \u001b[39mself\u001b[39m\u001b[39m.\u001b[39m__kilometers \u001b[39m=\u001b[39m kilometers\n",
      "File \u001b[1;32mc:\\Python310\\lib\\site-packages\\geopy\\distance.py:548\u001b[0m, in \u001b[0;36mgeodesic.measure\u001b[1;34m(self, a, b)\u001b[0m\n\u001b[0;32m    543\u001b[0m \u001b[39mif\u001b[39;00m \u001b[39mnot\u001b[39;00m (\u001b[39misinstance\u001b[39m(\u001b[39mself\u001b[39m\u001b[39m.\u001b[39mgeod, Geodesic) \u001b[39mand\u001b[39;00m\n\u001b[0;32m    544\u001b[0m         \u001b[39mself\u001b[39m\u001b[39m.\u001b[39mgeod\u001b[39m.\u001b[39ma \u001b[39m==\u001b[39m \u001b[39mself\u001b[39m\u001b[39m.\u001b[39mELLIPSOID[\u001b[39m0\u001b[39m] \u001b[39mand\u001b[39;00m\n\u001b[0;32m    545\u001b[0m         \u001b[39mself\u001b[39m\u001b[39m.\u001b[39mgeod\u001b[39m.\u001b[39mf \u001b[39m==\u001b[39m \u001b[39mself\u001b[39m\u001b[39m.\u001b[39mELLIPSOID[\u001b[39m2\u001b[39m]):\n\u001b[0;32m    546\u001b[0m     \u001b[39mself\u001b[39m\u001b[39m.\u001b[39mgeod \u001b[39m=\u001b[39m Geodesic(\u001b[39mself\u001b[39m\u001b[39m.\u001b[39mELLIPSOID[\u001b[39m0\u001b[39m], \u001b[39mself\u001b[39m\u001b[39m.\u001b[39mELLIPSOID[\u001b[39m2\u001b[39m])\n\u001b[1;32m--> 548\u001b[0m s12 \u001b[39m=\u001b[39m \u001b[39mself\u001b[39;49m\u001b[39m.\u001b[39;49mgeod\u001b[39m.\u001b[39;49mInverse(lat1, lon1, lat2, lon2,\n\u001b[0;32m    549\u001b[0m                         Geodesic\u001b[39m.\u001b[39;49mDISTANCE)[\u001b[39m'\u001b[39m\u001b[39ms12\u001b[39m\u001b[39m'\u001b[39m]\n\u001b[0;32m    551\u001b[0m \u001b[39mreturn\u001b[39;00m s12\n",
      "File \u001b[1;32mc:\\Python310\\lib\\site-packages\\geographiclib\\geodesic.py:1036\u001b[0m, in \u001b[0;36mGeodesic.Inverse\u001b[1;34m(self, lat1, lon1, lat2, lon2, outmask)\u001b[0m\n\u001b[0;32m   1018\u001b[0m \u001b[39mdef\u001b[39;00m \u001b[39mInverse\u001b[39m(\u001b[39mself\u001b[39m, lat1, lon1, lat2, lon2,\n\u001b[0;32m   1019\u001b[0m             outmask \u001b[39m=\u001b[39m GeodesicCapability\u001b[39m.\u001b[39mSTANDARD):\n\u001b[0;32m   1020\u001b[0m   \u001b[39m\"\"\"Solve the inverse geodesic problem\u001b[39;00m\n\u001b[0;32m   1021\u001b[0m \n\u001b[0;32m   1022\u001b[0m \u001b[39m  :param lat1: latitude of the first point in degrees\u001b[39;00m\n\u001b[1;32m   (...)\u001b[0m\n\u001b[0;32m   1033\u001b[0m \n\u001b[0;32m   1034\u001b[0m \u001b[39m  \"\"\"\u001b[39;00m\n\u001b[1;32m-> 1036\u001b[0m   a12, s12, salp1,calp1, salp2,calp2, m12, M12, M21, S12 \u001b[39m=\u001b[39m \u001b[39mself\u001b[39;49m\u001b[39m.\u001b[39;49m_GenInverse(\n\u001b[0;32m   1037\u001b[0m     lat1, lon1, lat2, lon2, outmask)\n\u001b[0;32m   1038\u001b[0m   outmask \u001b[39m&\u001b[39m\u001b[39m=\u001b[39m Geodesic\u001b[39m.\u001b[39mOUT_MASK\n\u001b[0;32m   1039\u001b[0m   \u001b[39mif\u001b[39;00m outmask \u001b[39m&\u001b[39m Geodesic\u001b[39m.\u001b[39mLONG_UNROLL:\n",
      "File \u001b[1;32mc:\\Python310\\lib\\site-packages\\geographiclib\\geodesic.py:882\u001b[0m, in \u001b[0;36mGeodesic._GenInverse\u001b[1;34m(self, lat1, lon1, lat2, lon2, outmask)\u001b[0m\n\u001b[0;32m    876\u001b[0m salp1b \u001b[39m=\u001b[39m Geodesic\u001b[39m.\u001b[39mtiny_; calp1b \u001b[39m=\u001b[39m \u001b[39m-\u001b[39m\u001b[39m1.0\u001b[39m\n\u001b[0;32m    878\u001b[0m \u001b[39mwhile\u001b[39;00m numit \u001b[39m<\u001b[39m Geodesic\u001b[39m.\u001b[39mmaxit2_:\n\u001b[0;32m    879\u001b[0m   \u001b[39m# the WGS84 test set: mean = 1.47, sd = 1.25, max = 16\u001b[39;00m\n\u001b[0;32m    880\u001b[0m   \u001b[39m# WGS84 and random input: mean = 2.85, sd = 0.60\u001b[39;00m\n\u001b[0;32m    881\u001b[0m   (v, salp2, calp2, sig12, ssig1, csig1, ssig2, csig2,\n\u001b[1;32m--> 882\u001b[0m    eps, domg12, dv) \u001b[39m=\u001b[39m \u001b[39mself\u001b[39;49m\u001b[39m.\u001b[39;49m_Lambda12(\n\u001b[0;32m    883\u001b[0m      sbet1, cbet1, dn1, sbet2, cbet2, dn2,\n\u001b[0;32m    884\u001b[0m      salp1, calp1, slam12, clam12, numit \u001b[39m<\u001b[39;49m Geodesic\u001b[39m.\u001b[39;49mmaxit1_,\n\u001b[0;32m    885\u001b[0m      C1a, C2a, C3a)\n\u001b[0;32m    886\u001b[0m   \u001b[39m# Reversed test to allow escape with NaNs\u001b[39;00m\n\u001b[0;32m    887\u001b[0m   \u001b[39mif\u001b[39;00m tripb \u001b[39mor\u001b[39;00m \u001b[39mnot\u001b[39;00m (\u001b[39mabs\u001b[39m(v) \u001b[39m>\u001b[39m\u001b[39m=\u001b[39m (\u001b[39m8\u001b[39m \u001b[39mif\u001b[39;00m tripn \u001b[39melse\u001b[39;00m \u001b[39m1\u001b[39m) \u001b[39m*\u001b[39m Geodesic\u001b[39m.\u001b[39mtol0_):\n",
      "File \u001b[1;32mc:\\Python310\\lib\\site-packages\\geographiclib\\geodesic.py:693\u001b[0m, in \u001b[0;36mGeodesic._Lambda12\u001b[1;34m(self, sbet1, cbet1, dn1, sbet2, cbet2, dn2, salp1, calp1, slam120, clam120, diffp, C1a, C2a, C3a)\u001b[0m\n\u001b[0;32m    691\u001b[0m     dlam12 \u001b[39m=\u001b[39m \u001b[39m-\u001b[39m \u001b[39m2\u001b[39m \u001b[39m*\u001b[39m \u001b[39mself\u001b[39m\u001b[39m.\u001b[39m_f1 \u001b[39m*\u001b[39m dn1 \u001b[39m/\u001b[39m sbet1\n\u001b[0;32m    692\u001b[0m   \u001b[39melse\u001b[39;00m:\n\u001b[1;32m--> 693\u001b[0m     dummy, dlam12, dummy, dummy, dummy \u001b[39m=\u001b[39m \u001b[39mself\u001b[39;49m\u001b[39m.\u001b[39;49m_Lengths(\n\u001b[0;32m    694\u001b[0m       eps, sig12, ssig1, csig1, dn1, ssig2, csig2, dn2, cbet1, cbet2,\n\u001b[0;32m    695\u001b[0m       Geodesic\u001b[39m.\u001b[39;49mREDUCEDLENGTH, C1a, C2a)\n\u001b[0;32m    696\u001b[0m     dlam12 \u001b[39m*\u001b[39m\u001b[39m=\u001b[39m \u001b[39mself\u001b[39m\u001b[39m.\u001b[39m_f1 \u001b[39m/\u001b[39m (calp2 \u001b[39m*\u001b[39m cbet2)\n\u001b[0;32m    697\u001b[0m \u001b[39melse\u001b[39;00m:\n",
      "File \u001b[1;32mc:\\Python310\\lib\\site-packages\\geographiclib\\geodesic.py:449\u001b[0m, in \u001b[0;36mGeodesic._Lengths\u001b[1;34m(self, eps, sig12, ssig1, csig1, dn1, ssig2, csig2, dn2, cbet1, cbet2, outmask, C1a, C2a)\u001b[0m\n\u001b[0;32m    447\u001b[0m \u001b[39mif\u001b[39;00m outmask \u001b[39m&\u001b[39m (Geodesic\u001b[39m.\u001b[39mREDUCEDLENGTH \u001b[39m|\u001b[39m Geodesic\u001b[39m.\u001b[39mGEODESICSCALE):\n\u001b[0;32m    448\u001b[0m   A2 \u001b[39m=\u001b[39m Geodesic\u001b[39m.\u001b[39m_A2m1f(eps)\n\u001b[1;32m--> 449\u001b[0m   Geodesic\u001b[39m.\u001b[39;49m_C2f(eps, C2a)\n\u001b[0;32m    450\u001b[0m   m0x \u001b[39m=\u001b[39m A1 \u001b[39m-\u001b[39m A2\n\u001b[0;32m    451\u001b[0m   A2 \u001b[39m=\u001b[39m \u001b[39m1\u001b[39m \u001b[39m+\u001b[39m A2\n",
      "File \u001b[1;32mc:\\Python310\\lib\\site-packages\\geographiclib\\geodesic.py:269\u001b[0m, in \u001b[0;36mGeodesic._C2f\u001b[1;34m(eps, c)\u001b[0m\n\u001b[0;32m    267\u001b[0m \u001b[39mfor\u001b[39;00m l \u001b[39min\u001b[39;00m \u001b[39mrange\u001b[39m(\u001b[39m1\u001b[39m, Geodesic\u001b[39m.\u001b[39mnC2_ \u001b[39m+\u001b[39m \u001b[39m1\u001b[39m): \u001b[39m# l is index of C2[l]\u001b[39;00m\n\u001b[0;32m    268\u001b[0m   m \u001b[39m=\u001b[39m (Geodesic\u001b[39m.\u001b[39mnC2_ \u001b[39m-\u001b[39m l) \u001b[39m/\u001b[39m\u001b[39m/\u001b[39m \u001b[39m2\u001b[39m        \u001b[39m# order of polynomial in eps^2\u001b[39;00m\n\u001b[1;32m--> 269\u001b[0m   c[l] \u001b[39m=\u001b[39m d \u001b[39m*\u001b[39m Math\u001b[39m.\u001b[39;49mpolyval(m, coeff, o, eps2) \u001b[39m/\u001b[39m coeff[o \u001b[39m+\u001b[39m m \u001b[39m+\u001b[39m \u001b[39m1\u001b[39m]\n\u001b[0;32m    270\u001b[0m   o \u001b[39m+\u001b[39m\u001b[39m=\u001b[39m m \u001b[39m+\u001b[39m \u001b[39m2\u001b[39m\n\u001b[0;32m    271\u001b[0m   d \u001b[39m*\u001b[39m\u001b[39m=\u001b[39m eps\n",
      "File \u001b[1;32mc:\\Python310\\lib\\site-packages\\geographiclib\\geomath.py:114\u001b[0m, in \u001b[0;36mMath.polyval\u001b[1;34m(N, p, s, x)\u001b[0m\n\u001b[0;32m    112\u001b[0m \u001b[39mdef\u001b[39;00m \u001b[39mpolyval\u001b[39m(N, p, s, x):\n\u001b[0;32m    113\u001b[0m   \u001b[39m\"\"\"Evaluate a polynomial.\"\"\"\u001b[39;00m\n\u001b[1;32m--> 114\u001b[0m   y \u001b[39m=\u001b[39m \u001b[39mfloat\u001b[39m(\u001b[39m0\u001b[39m \u001b[39mif\u001b[39;00m N \u001b[39m<\u001b[39;49m \u001b[39m0\u001b[39;49m \u001b[39melse\u001b[39;00m p[s]) \u001b[39m# make sure the returned value is a float\u001b[39;00m\n\u001b[0;32m    115\u001b[0m   \u001b[39mwhile\u001b[39;00m N \u001b[39m>\u001b[39m \u001b[39m0\u001b[39m:\n\u001b[0;32m    116\u001b[0m     N \u001b[39m-\u001b[39m\u001b[39m=\u001b[39m \u001b[39m1\u001b[39m; s \u001b[39m+\u001b[39m\u001b[39m=\u001b[39m \u001b[39m1\u001b[39m\n",
      "\u001b[1;31mKeyboardInterrupt\u001b[0m: "
     ]
    }
   ],
   "source": [
    "def distance_busstop_and_store(coo_busstop, coo_store):\n",
    "    distance = geopy.distance.geodesic(coo_busstop, coo_store).m\n",
    "    return distance\n",
    "\n",
    "def find_closest_distance(stores_coo):\n",
    "    closest_distances = []\n",
    "    for i in range(len(stores_coo[0])):\n",
    "        print(i)\n",
    "        coo_store = [stores_coo[0][i], stores_coo[1][i]]\n",
    "        closest_distance = np.inf\n",
    "        for j in range(len(busstops_lon)):\n",
    "            busstop = [busstops_lon[j],busstops_lat[j]]\n",
    "            distance = distance_busstop_and_store(busstop, coo_store)\n",
    "            if distance < closest_distance:\n",
    "                closest_distance = distance\n",
    "                #print(closest_distance)\n",
    "                #print(coo_store)\n",
    "                #print(busstop)\n",
    "        closest_distances.append(closest_distance)          \n",
    "    return closest_distances\n",
    "\n",
    "distances = find_closest_distance([stores_train_lon, stores_train_lat])\n",
    "#print(distance_busstop_and_store([48.8566,2.3522],[50.0647,19.9450])) #Distance between Paris and Krakow\n",
    "#print(distance_busstop_and_store([10.204927885979, 59.743104058362704],[6.54064723379766, 61.0618887850553])) #Got 430497\n",
    "\n",
    "#10 stores in 2 min\n",
    "#10/2 * 13000 = 43.33 hours runtime"
   ]
  },
  {
   "cell_type": "code",
   "execution_count": null,
   "metadata": {},
   "outputs": [
    {
     "ename": "NameError",
     "evalue": "name 'distances' is not defined",
     "output_type": "error",
     "traceback": [
      "\u001b[1;31m---------------------------------------------------------------------------\u001b[0m",
      "\u001b[1;31mNameError\u001b[0m                                 Traceback (most recent call last)",
      "Cell \u001b[1;32mIn [9], line 2\u001b[0m\n\u001b[0;32m      1\u001b[0m feature \u001b[39m=\u001b[39m pd\u001b[39m.\u001b[39mDataFrame()\n\u001b[1;32m----> 2\u001b[0m feature[\u001b[39m'\u001b[39m\u001b[39mdistance_store_busstop\u001b[39m\u001b[39m'\u001b[39m] \u001b[39m=\u001b[39m np\u001b[39m.\u001b[39masarray(distances)\n\u001b[0;32m      4\u001b[0m feature\u001b[39m.\u001b[39mto_csv(\u001b[39m'\u001b[39m\u001b[39m../features_csv/distance_store_busstop.csv\u001b[39m\u001b[39m'\u001b[39m, index \u001b[39m=\u001b[39m \u001b[39mFalse\u001b[39;00m)\n",
      "\u001b[1;31mNameError\u001b[0m: name 'distances' is not defined"
     ]
    }
   ],
   "source": [
    "feature = pd.DataFrame()\n",
    "feature['distance_store_busstop'] = np.asarray(distances)\n",
    "\n",
    "feature.to_csv('../features_csv/distance_store_busstop.csv', index = False)"
   ]
  }
 ],
 "metadata": {
  "kernelspec": {
   "display_name": "Python 3.10.2 64-bit",
   "language": "python",
   "name": "python3"
  },
  "language_info": {
   "codemirror_mode": {
    "name": "ipython",
    "version": 3
   },
   "file_extension": ".py",
   "mimetype": "text/x-python",
   "name": "python",
   "nbconvert_exporter": "python",
   "pygments_lexer": "ipython3",
   "version": "3.10.2"
  },
  "orig_nbformat": 4,
  "vscode": {
   "interpreter": {
    "hash": "369f2c481f4da34e4445cda3fffd2e751bd1c4d706f27375911949ba6bb62e1c"
   }
  }
 },
 "nbformat": 4,
 "nbformat_minor": 2
}
