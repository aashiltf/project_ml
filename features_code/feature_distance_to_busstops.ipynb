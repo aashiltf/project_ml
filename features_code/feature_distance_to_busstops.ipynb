{
 "cells": [
  {
   "cell_type": "markdown",
   "metadata": {},
   "source": [
    "# Hypothesis:\n",
    "\n",
    "Stores closer to busstops have more revenue."
   ]
  },
  {
   "cell_type": "code",
   "execution_count": 14,
   "metadata": {},
   "outputs": [],
   "source": [
    "import pandas as pd\n",
    "import numpy as np\n",
    "import matplotlib.pyplot as plt\n",
    "import geopy.distance"
   ]
  },
  {
   "cell_type": "code",
   "execution_count": 6,
   "metadata": {},
   "outputs": [],
   "source": [
    "stores_train = pd.read_csv('../data/stores_train.csv')\n",
    "\n",
    "stores_test = pd.read_csv('../data/stores_test.csv')\n",
    "\n",
    "busstops_norway =  pd.read_csv('../data/busstops_norway.csv')"
   ]
  },
  {
   "cell_type": "code",
   "execution_count": 7,
   "metadata": {},
   "outputs": [],
   "source": [
    "stores_train_lon = stores_train[\"lon\"].values\n",
    "stores_train_lat = stores_train[\"lat\"].values\n",
    "\n",
    "stores_test_lon = stores_test[\"lon\"].values\n",
    "stores_test_lat = stores_test[\"lat\"].values\n",
    "\n",
    "busstops = busstops_norway[\"geometry\"].values\n",
    "\n",
    "busstops_lon = []\n",
    "busstops_lat = []\n",
    "for busstop in busstops:\n",
    "    busstop = busstop.split(\"(\")\n",
    "    busstop = busstop[1].split(\" \")\n",
    "    busstop[1] = busstop[1].replace(\")\", \"\")\n",
    "    busstops_lon.append(float(busstop[0]))\n",
    "    busstops_lat.append(float(busstop[1]))"
   ]
  },
  {
   "cell_type": "code",
   "execution_count": 20,
   "metadata": {},
   "outputs": [
    {
     "name": "stdout",
     "output_type": "stream",
     "text": [
      "1279434.2247540585\n"
     ]
    }
   ],
   "source": [
    "def distance_busstop_and_store(coo_busstop, coo_store):\n",
    "    distance = geopy.distance.geodesic(coo_busstop, coo_store).m\n",
    "    return distance\n",
    "\n",
    "def find_closest_distance(stores_coo):\n",
    "    closest_distances = []\n",
    "    for i in range(len(stores_coo[0])):\n",
    "        x = 100\n",
    "        if i > x:\n",
    "            x += 100\n",
    "            print(i)\n",
    "        coo_store = [stores_coo[0][i], stores_coo[1][i]]\n",
    "        closest_distance = np.inf\n",
    "        for j in range(len(busstops_lon)):\n",
    "            busstop = [busstops_lon[j],busstops_lat[j]]\n",
    "            distance = distance_busstop_and_store(busstop, coo_store)\n",
    "            if distance < closest_distance:\n",
    "                closest_distance = distance\n",
    "                print(closest_distance)\n",
    "                print(coo_store)\n",
    "                print(busstop)\n",
    "        closest_distances.append(closest_distance)          \n",
    "    return closest_distances\n",
    "\n",
    "#distances = find_closest_distance([stores_train_lon, stores_train_lat])\n",
    "print(distance_busstop_and_store([48.8566,2.3522],[50.0647,19.9450])) #Distance between Paris and Krakow\n",
    "#print(distance_busstop_and_store([10.204927885979, 59.743104058362704],[6.54064723379766, 61.0618887850553])) #Got 430497"
   ]
  },
  {
   "cell_type": "code",
   "execution_count": 9,
   "metadata": {},
   "outputs": [
    {
     "ename": "NameError",
     "evalue": "name 'distances' is not defined",
     "output_type": "error",
     "traceback": [
      "\u001b[1;31m---------------------------------------------------------------------------\u001b[0m",
      "\u001b[1;31mNameError\u001b[0m                                 Traceback (most recent call last)",
      "Cell \u001b[1;32mIn [9], line 2\u001b[0m\n\u001b[0;32m      1\u001b[0m feature \u001b[39m=\u001b[39m pd\u001b[39m.\u001b[39mDataFrame()\n\u001b[1;32m----> 2\u001b[0m feature[\u001b[39m'\u001b[39m\u001b[39mdistance_store_busstop\u001b[39m\u001b[39m'\u001b[39m] \u001b[39m=\u001b[39m np\u001b[39m.\u001b[39masarray(distances)\n\u001b[0;32m      4\u001b[0m feature\u001b[39m.\u001b[39mto_csv(\u001b[39m'\u001b[39m\u001b[39m../features_csv/distance_store_busstop.csv\u001b[39m\u001b[39m'\u001b[39m, index \u001b[39m=\u001b[39m \u001b[39mFalse\u001b[39;00m)\n",
      "\u001b[1;31mNameError\u001b[0m: name 'distances' is not defined"
     ]
    }
   ],
   "source": [
    "feature = pd.DataFrame()\n",
    "feature['distance_store_busstop'] = np.asarray(distances)\n",
    "\n",
    "feature.to_csv('../features_csv/distance_store_busstop.csv', index = False)"
   ]
  }
 ],
 "metadata": {
  "kernelspec": {
   "display_name": "Python 3.10.2 64-bit",
   "language": "python",
   "name": "python3"
  },
  "language_info": {
   "codemirror_mode": {
    "name": "ipython",
    "version": 3
   },
   "file_extension": ".py",
   "mimetype": "text/x-python",
   "name": "python",
   "nbconvert_exporter": "python",
   "pygments_lexer": "ipython3",
   "version": "3.10.2"
  },
  "orig_nbformat": 4,
  "vscode": {
   "interpreter": {
    "hash": "369f2c481f4da34e4445cda3fffd2e751bd1c4d706f27375911949ba6bb62e1c"
   }
  }
 },
 "nbformat": 4,
 "nbformat_minor": 2
}
