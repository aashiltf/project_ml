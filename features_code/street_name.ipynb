{
 "cells": [
  {
   "cell_type": "code",
   "execution_count": 1,
   "metadata": {},
   "outputs": [],
   "source": [
    "import pandas as pd\n",
    "import numpy as np"
   ]
  },
  {
   "cell_type": "code",
   "execution_count": 2,
   "metadata": {},
   "outputs": [],
   "source": [
    "stores_train_df = pd.read_csv(\"../data/stores_train.csv\")\n",
    "stores_test_df = pd.read_csv(\"../data/stores_test.csv\")\n",
    "\n",
    "street_name_train = stores_train_df[\"address\"].values\n",
    "street_name_test = stores_test_df[\"address\"].values"
   ]
  },
  {
   "cell_type": "code",
   "execution_count": 3,
   "metadata": {},
   "outputs": [],
   "source": [
    "def transform_to_number(street_names):\n",
    "    features = []\n",
    "    for i in range(len(street_names)):\n",
    "        j = 0\n",
    "        not_treated = True    \n",
    "        if not type(street_names[i]) == float:\n",
    "            while not_treated and j < len(street_names[i]):\n",
    "                if street_names[i][j].isdigit():\n",
    "                    street_names[i] = street_names[i][0:j]#mabye j-1\n",
    "                    not_treated = False\n",
    "                j += 1\n",
    "    print(street_names)\n",
    "    dic = make_dic(street_names)\n",
    "    for i in range(len(street_names)):\n",
    "        features.append(dic[street_names[i]])\n",
    "    return features\n",
    "\n",
    "\n",
    "def make_dic(street_name):\n",
    "\n",
    "    unique_names = list(dict.fromkeys(street_name))\n",
    "    dic = {}\n",
    "    for i in range(len(unique_names)):\n",
    "        dic[unique_names[i]] = i\n",
    "    return dic"
   ]
  },
  {
   "cell_type": "code",
   "execution_count": 4,
   "metadata": {},
   "outputs": [
    {
     "name": "stdout",
     "output_type": "stream",
     "text": [
      "['BRAGERNES TORG ' nan 'KONG RINGS GATE ' ... 'STØPERIVEIEN ' 'VÅGSGATA '\n",
      " 'PLANETVEGEN ']\n"
     ]
    }
   ],
   "source": [
    "feature_train = transform_to_number(street_name_train)"
   ]
  },
  {
   "cell_type": "code",
   "execution_count": 5,
   "metadata": {},
   "outputs": [
    {
     "name": "stdout",
     "output_type": "stream",
     "text": [
      "['STRØMSVEIEN ' 'MYREN ' 'STOVNER SENTER ' ... 'GARDERBAKKEN '\n",
      " 'RAVNANGERVEGEN' nan]\n"
     ]
    }
   ],
   "source": [
    "feature_test = transform_to_number(street_name_test)"
   ]
  },
  {
   "cell_type": "code",
   "execution_count": 6,
   "metadata": {},
   "outputs": [],
   "source": [
    "feature_train_df = pd.DataFrame()\n",
    "\n",
    "feature_train_df[\"street_name\"] = feature_train\n",
    "feature_train_df.to_csv(\"../features_train_csv/street_name.csv\", index=False)"
   ]
  },
  {
   "cell_type": "code",
   "execution_count": 7,
   "metadata": {},
   "outputs": [],
   "source": [
    "feature_test_df = pd.DataFrame()\n",
    "\n",
    "feature_test_df[\"street_name\"] = feature_test\n",
    "feature_test_df.to_csv(\"../features_test_csv/street_name.csv\", index=False)"
   ]
  }
 ],
 "metadata": {
  "kernelspec": {
   "display_name": "Python 3.10.2 64-bit",
   "language": "python",
   "name": "python3"
  },
  "language_info": {
   "codemirror_mode": {
    "name": "ipython",
    "version": 3
   },
   "file_extension": ".py",
   "mimetype": "text/x-python",
   "name": "python",
   "nbconvert_exporter": "python",
   "pygments_lexer": "ipython3",
   "version": "3.10.2"
  },
  "orig_nbformat": 4,
  "vscode": {
   "interpreter": {
    "hash": "369f2c481f4da34e4445cda3fffd2e751bd1c4d706f27375911949ba6bb62e1c"
   }
  }
 },
 "nbformat": 4,
 "nbformat_minor": 2
}
