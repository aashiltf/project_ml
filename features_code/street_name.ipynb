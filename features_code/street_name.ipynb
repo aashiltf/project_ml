{
 "cells": [
  {
   "cell_type": "code",
   "execution_count": 156,
   "metadata": {},
   "outputs": [],
   "source": [
    "import pandas as pd\n",
    "import numpy as np"
   ]
  },
  {
   "cell_type": "code",
   "execution_count": 157,
   "metadata": {},
   "outputs": [
    {
     "name": "stdout",
     "output_type": "stream",
     "text": [
      "True\n",
      "<class 'type'>\n",
      "5\n"
     ]
    }
   ],
   "source": [
    "stores_train_df = pd.read_csv(\"../data/stores_train.csv\")\n",
    "stores_test_df = pd.read_csv(\"../data/stores_test.csv\")\n",
    "\n",
    "street_name_train = stores_train_df[\"address\"].values\n",
    "street_name_test = stores_test_df[\"address\"].values\n",
    "\n",
    "print(\"6\".isdigit())\n",
    "print(type(type(6.0)))\n",
    "print(len(\"hello\"))"
   ]
  },
  {
   "cell_type": "code",
   "execution_count": 161,
   "metadata": {},
   "outputs": [],
   "source": [
    "\"\"\"street_list=[]\n",
    "for i in range(len(street_name_train)):\n",
    "    for j in range(0,len(street_name_train[i]),-1):\n",
    "        if street_name_train[i][j].isdigit():\n",
    "            street_name_train[i].replace(street_name_train[i][j], \"\")\n",
    "    street_name_train[i].replace(\" \",\"\")\"\"\"\n",
    "def transform_to_number(street_names):\n",
    "    features = []\n",
    "    for i in range(len(street_names)):\n",
    "        j = 0\n",
    "        not_treated = True    \n",
    "        if not type(street_names[i]) == float:\n",
    "            while not_treated and j < len(street_names[i]):\n",
    "                if street_names[i][j].isdigit():\n",
    "                    street_names[i] = street_names[i][0:j]#mabye j-1\n",
    "                    not_treated = False\n",
    "                j += 1\n",
    "    print(street_names)\n",
    "    dic = make_dic(street_names)\n",
    "    for i in range(len(street_names)):\n",
    "        features.append(dic[street_names[i]])\n",
    "    return features\n",
    "\n",
    "\n",
    "def make_dic(street_name):\n",
    "\n",
    "    unique_names = list(dict.fromkeys(street_name))\n",
    "    dic = {}\n",
    "    for i in range(len(unique_names)):\n",
    "        dic[unique_names[i]] = i\n",
    "    print(dic[np.nan])\n",
    "    return dic\n",
    "        "
   ]
  },
  {
   "cell_type": "code",
   "execution_count": 162,
   "metadata": {},
   "outputs": [
    {
     "name": "stdout",
     "output_type": "stream",
     "text": [
      "['BRAGERNES TORG ' nan 'KONG RINGS GATE ' ... 'STØPERIVEIEN ' 'VÅGSGATA '\n",
      " 'PLANETVEGEN ']\n",
      "1\n",
      "12859\n"
     ]
    }
   ],
   "source": [
    "feature_train = transform_to_number(street_name_train)\n",
    "print(len(feature_train))"
   ]
  },
  {
   "cell_type": "code",
   "execution_count": 163,
   "metadata": {},
   "outputs": [
    {
     "name": "stdout",
     "output_type": "stream",
     "text": [
      "['STRØMSVEIEN ' 'MYREN ' 'STOVNER SENTER ' ... 'GARDERBAKKEN '\n",
      " 'RAVNANGERVEGEN' nan]\n",
      "11\n",
      "8577\n"
     ]
    }
   ],
   "source": [
    "feature_test = transform_to_number(street_name_test)\n",
    "print(len(feature_test))"
   ]
  },
  {
   "cell_type": "code",
   "execution_count": null,
   "metadata": {},
   "outputs": [],
   "source": []
  }
 ],
 "metadata": {
  "kernelspec": {
   "display_name": "Python 3.10.8 64-bit (microsoft store)",
   "language": "python",
   "name": "python3"
  },
  "language_info": {
   "codemirror_mode": {
    "name": "ipython",
    "version": 3
   },
   "file_extension": ".py",
   "mimetype": "text/x-python",
   "name": "python",
   "nbconvert_exporter": "python",
   "pygments_lexer": "ipython3",
   "version": "3.10.8"
  },
  "orig_nbformat": 4,
  "vscode": {
   "interpreter": {
    "hash": "e1565a8eea6db7a2140e3774cc13fc7c8aa65f0baa6265ce2615853aa604b9f4"
   }
  }
 },
 "nbformat": 4,
 "nbformat_minor": 2
}
