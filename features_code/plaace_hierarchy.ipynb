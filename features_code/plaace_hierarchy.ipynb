{
 "cells": [
  {
   "cell_type": "code",
   "execution_count": 1,
   "metadata": {},
   "outputs": [],
   "source": [
    "import pandas as pd"
   ]
  },
  {
   "cell_type": "code",
   "execution_count": 3,
   "metadata": {},
   "outputs": [],
   "source": [
    "stores_train_df = pd.read_csv(\"../data/stores_train.csv\")\n",
    "stores_test_df = pd.read_csv(\"../data/stores_test.csv\")\n",
    "\n",
    "stores_train_type = stores_train_df[\"plaace_hierarchy_id\"].values\n",
    "stores_test_type = stores_test_df[\"plaace_hierarchy_id\"].values"
   ]
  },
  {
   "cell_type": "code",
   "execution_count": 4,
   "metadata": {},
   "outputs": [],
   "source": [
    "def transform_plaace_hierarchy_id(stores_type):\n",
    "    transformed = []\n",
    "    for i in range(len(stores_type)):\n",
    "        store_type_splitted = stores_type[i].split(\".\")\n",
    "        store_type = \"\"\n",
    "        for j in range(len(store_type_splitted)):\n",
    "            store_type += store_type_splitted[j]\n",
    "        store_type = int(store_type)\n",
    "        transformed.append(store_type)\n",
    "    return transformed\n",
    "\n",
    "stores_train_type = transform_plaace_hierarchy_id(stores_train_type)\n",
    "stores_test_type = transform_plaace_hierarchy_id(stores_test_type)"
   ]
  },
  {
   "cell_type": "code",
   "execution_count": 7,
   "metadata": {},
   "outputs": [],
   "source": [
    "features_train = pd.DataFrame()\n",
    "\n",
    "features_train[\"features\"] = stores_train_type\n",
    "features_train.to_csv(\"../features_train_csv/plaace_hierarchy_id.csv\", index=False)"
   ]
  },
  {
   "cell_type": "code",
   "execution_count": null,
   "metadata": {},
   "outputs": [],
   "source": [
    "features_test = pd.DataFrame()\n",
    "\n",
    "features_test[\"features\"] = stores_test_type\n",
    "features_test.to_csv(\"../features_test_csv/plaace_hierarchy_id.csv\", index=False)"
   ]
  }
 ],
 "metadata": {
  "kernelspec": {
   "display_name": "Python 3.8.7 64-bit",
   "language": "python",
   "name": "python3"
  },
  "language_info": {
   "codemirror_mode": {
    "name": "ipython",
    "version": 3
   },
   "file_extension": ".py",
   "mimetype": "text/x-python",
   "name": "python",
   "nbconvert_exporter": "python",
   "pygments_lexer": "ipython3",
   "version": "3.8.7"
  },
  "orig_nbformat": 4,
  "vscode": {
   "interpreter": {
    "hash": "fba15a8fe0409f50195582ac27b8e95e358fcbd51d8410e6775d4560b732321d"
   }
  }
 },
 "nbformat": 4,
 "nbformat_minor": 2
}
