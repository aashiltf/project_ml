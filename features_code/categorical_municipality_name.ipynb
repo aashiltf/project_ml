{
 "cells": [
  {
   "cell_type": "code",
   "execution_count": 7,
   "metadata": {},
   "outputs": [],
   "source": [
    "import pandas as pd"
   ]
  },
  {
   "cell_type": "code",
   "execution_count": 8,
   "metadata": {},
   "outputs": [],
   "source": [
    "municipality_df = pd.read_csv(\"../data/grunnkrets_norway_stripped.csv\")\n",
    "stores_train_df = pd.read_csv(\"../data/stores_train.csv\")\n",
    "stores_test_df = pd.read_csv(\"../data/stores_test.csv\")"
   ]
  },
  {
   "cell_type": "code",
   "execution_count": 9,
   "metadata": {},
   "outputs": [],
   "source": [
    "municipality_train_df = pd.merge(stores_train_df, municipality_df, on=\"grunnkrets_id\", how=\"left\")\n",
    "municipality_train_df = municipality_train_df.drop_duplicates(subset=['store_id'])"
   ]
  },
  {
   "cell_type": "code",
   "execution_count": 10,
   "metadata": {},
   "outputs": [],
   "source": [
    "municipality_test_df = pd.merge(stores_test_df, municipality_df, on=\"grunnkrets_id\", how=\"left\")\n",
    "municipality_test_df = municipality_test_df.drop_duplicates(subset=['store_id'])"
   ]
  },
  {
   "cell_type": "code",
   "execution_count": 11,
   "metadata": {},
   "outputs": [],
   "source": [
    "features_train = pd.DataFrame()\n",
    "\n",
    "features_train[\"categorical_municipality_name\"] = municipality_train_df[\"municipality_name\"].values\n",
    "features_train.to_csv(\"../features_train_csv/categorical_municipality_name.csv\", index=False)"
   ]
  },
  {
   "cell_type": "code",
   "execution_count": 12,
   "metadata": {},
   "outputs": [],
   "source": [
    "features_test = pd.DataFrame()\n",
    "\n",
    "features_test[\"categorical_municipality_name\"] = municipality_test_df[\"municipality_name\"].values\n",
    "features_test.to_csv(\"../features_test_csv/categorical_municipality_name.csv\", index=False)"
   ]
  }
 ],
 "metadata": {
  "kernelspec": {
   "display_name": "Python 3.10.8 64-bit (microsoft store)",
   "language": "python",
   "name": "python3"
  },
  "language_info": {
   "codemirror_mode": {
    "name": "ipython",
    "version": 3
   },
   "file_extension": ".py",
   "mimetype": "text/x-python",
   "name": "python",
   "nbconvert_exporter": "python",
   "pygments_lexer": "ipython3",
   "version": "3.10.8"
  },
  "orig_nbformat": 4,
  "vscode": {
   "interpreter": {
    "hash": "e1565a8eea6db7a2140e3774cc13fc7c8aa65f0baa6265ce2615853aa604b9f4"
   }
  }
 },
 "nbformat": 4,
 "nbformat_minor": 2
}
