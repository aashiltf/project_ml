{
 "cells": [
  {
   "cell_type": "code",
   "execution_count": 9,
   "metadata": {},
   "outputs": [],
   "source": [
    "import pandas as pd\n",
    "import numpy as np"
   ]
  },
  {
   "cell_type": "code",
   "execution_count": 10,
   "metadata": {},
   "outputs": [],
   "source": [
    "stores_train_df = pd.read_csv(\"../data/stores_train.csv\")\n",
    "stores_test_df = pd.read_csv(\"../data/stores_test.csv\")"
   ]
  },
  {
   "cell_type": "code",
   "execution_count": 11,
   "metadata": {},
   "outputs": [],
   "source": [
    "features_train_df = pd.DataFrame()\n",
    "\n",
    "features_train_df[\"categorical_plaace\"] = stores_train_df[\"plaace_hierarchy_id\"].values\n",
    "features_train_df.to_csv(\"../features_train_csv/categorical_plaace.csv\", index=False)\n"
   ]
  },
  {
   "cell_type": "code",
   "execution_count": 12,
   "metadata": {},
   "outputs": [],
   "source": [
    "features_test_df = pd.DataFrame()\n",
    "\n",
    "features_test_df[\"categorical_plaace\"] = stores_test_df[\"plaace_hierarchy_id\"].values\n",
    "features_test_df.to_csv(\"../features_test_csv/categorical_plaace.csv\", index=False)"
   ]
  },
  {
   "cell_type": "code",
   "execution_count": null,
   "metadata": {},
   "outputs": [],
   "source": []
  }
 ],
 "metadata": {
  "kernelspec": {
   "display_name": "Python 3.10.8 64-bit (microsoft store)",
   "language": "python",
   "name": "python3"
  },
  "language_info": {
   "codemirror_mode": {
    "name": "ipython",
    "version": 3
   },
   "file_extension": ".py",
   "mimetype": "text/x-python",
   "name": "python",
   "nbconvert_exporter": "python",
   "pygments_lexer": "ipython3",
   "version": "3.10.8"
  },
  "orig_nbformat": 4,
  "vscode": {
   "interpreter": {
    "hash": "e1565a8eea6db7a2140e3774cc13fc7c8aa65f0baa6265ce2615853aa604b9f4"
   }
  }
 },
 "nbformat": 4,
 "nbformat_minor": 2
}
