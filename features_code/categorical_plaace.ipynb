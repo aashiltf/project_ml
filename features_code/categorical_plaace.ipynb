{
 "cells": [
  {
   "cell_type": "code",
   "execution_count": 6,
   "metadata": {},
   "outputs": [],
   "source": [
    "import pandas as pd\n",
    "import numpy as np"
   ]
  },
  {
   "cell_type": "code",
   "execution_count": 7,
   "metadata": {},
   "outputs": [],
   "source": [
    "stores_train_df = pd.read_csv(\"../data/stores_train.csv\")\n",
    "stores_test_df = pd.read_csv(\"../data/stores_test.csv\")"
   ]
  },
  {
   "cell_type": "code",
   "execution_count": 8,
   "metadata": {},
   "outputs": [],
   "source": [
    "features_train_df = pd.DataFrame()\n",
    "\n",
    "features_train_df[\"categorical_plaace_2\"] = stores_train_df[\"plaace_hierarchy_id\"].values\n",
    "features_train_df.to_csv(\"../features_train_csv/categorical_plaace_2.csv\", index=False)\n"
   ]
  },
  {
   "cell_type": "code",
   "execution_count": 9,
   "metadata": {},
   "outputs": [],
   "source": [
    "features_test_df = pd.DataFrame()\n",
    "\n",
    "features_test_df[\"categorical_plaace_2\"] = stores_test_df[\"plaace_hierarchy_id\"].values\n",
    "features_test_df.to_csv(\"../features_test_csv/categorical_plaace_2.csv\", index=False)"
   ]
  },
  {
   "cell_type": "code",
   "execution_count": null,
   "metadata": {},
   "outputs": [],
   "source": []
  }
 ],
 "metadata": {
  "kernelspec": {
   "display_name": "Python 3.10.2 64-bit",
   "language": "python",
   "name": "python3"
  },
  "language_info": {
   "codemirror_mode": {
    "name": "ipython",
    "version": 3
   },
   "file_extension": ".py",
   "mimetype": "text/x-python",
   "name": "python",
   "nbconvert_exporter": "python",
   "pygments_lexer": "ipython3",
   "version": "3.10.2"
  },
  "orig_nbformat": 4,
  "vscode": {
   "interpreter": {
    "hash": "369f2c481f4da34e4445cda3fffd2e751bd1c4d706f27375911949ba6bb62e1c"
   }
  }
 },
 "nbformat": 4,
 "nbformat_minor": 2
}
