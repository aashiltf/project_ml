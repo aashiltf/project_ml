{
 "cells": [
  {
   "cell_type": "markdown",
   "metadata": {},
   "source": [
    "## Plaace hierarchy\n",
    "\n",
    "Splitting the plaace hierarchy into four different csv files"
   ]
  },
  {
   "cell_type": "code",
   "execution_count": 33,
   "metadata": {},
   "outputs": [],
   "source": [
    "import pandas as pd\n",
    "import numpy as np"
   ]
  },
  {
   "cell_type": "code",
   "execution_count": 9,
   "metadata": {},
   "outputs": [],
   "source": [
    "stores_train = pd.read_csv(\"../data/stores_train.csv\")\n",
    "stores_test = pd.read_csv(\"../data/stores_test.csv\")\n"
   ]
  },
  {
   "cell_type": "code",
   "execution_count": 34,
   "metadata": {},
   "outputs": [],
   "source": [
    "# TRAIN\n",
    "\n",
    "def make_train_plaace():\n",
    "    first = []\n",
    "    second = []\n",
    "    third = []\n",
    "    forth = []\n",
    "\n",
    "    stores_train_plaace = stores_train[\"plaace_hierarchy_id\"].values\n",
    "\n",
    "    for i in range(len(stores_train_plaace)):\n",
    "        store_type_splitted = stores_train_plaace[i].split(\".\")\n",
    "        for j in range(len(store_type_splitted)):\n",
    "            store_type_splitted[j] = store_type_splitted[int(j)]\n",
    "            if j == 0:\n",
    "                first.append(int(store_type_splitted[j]))\n",
    "            if j == 1:\n",
    "                second.append(int(store_type_splitted[j]))\n",
    "            if j == 2:\n",
    "                third.append(int(store_type_splitted[j]))\n",
    "            if j == 3:\n",
    "                forth.append(int(store_type_splitted[j]))\n",
    "    \n",
    "    return first, second, third, forth\n",
    "\n",
    "first, second, third, forth = make_train_plaace()\n",
    "\n",
    "instance1 = first\n",
    "instance2 = second\n",
    "instance3 = third\n",
    "instance4 = forth\n",
    "\n",
    "plaace_h_1 = pd.DataFrame()\n",
    "plaace_h_2 = pd.DataFrame()\n",
    "plaace_h_3 = pd.DataFrame()\n",
    "plaace_h_4 = pd.DataFrame()\n",
    "\n",
    "plaace_h_1[\"plaace_h_1\"] = np.asarray(instance1)\n",
    "plaace_h_2[\"plaace_h_2\"] = np.asarray(instance2)\n",
    "plaace_h_3[\"plaace_h_3\"] = np.asarray(instance3)\n",
    "plaace_h_4[\"plaace_h_4\"] = np.asarray(instance4)\n",
    "\n",
    "plaace_h_1.to_csv(\"../features_train_csv/plaace_h_1.csv\", index=False)\n",
    "plaace_h_2.to_csv(\"../features_train_csv/plaace_h_2.csv\", index=False)\n",
    "plaace_h_3.to_csv(\"../features_train_csv/plaace_h_3.csv\", index=False)\n",
    "plaace_h_4.to_csv(\"../features_train_csv/plaace_h_4.csv\", index=False)\n",
    "\n"
   ]
  },
  {
   "cell_type": "code",
   "execution_count": 35,
   "metadata": {},
   "outputs": [],
   "source": [
    "# TEST\n",
    "\n",
    "def make_test_plaace():\n",
    "    first = []\n",
    "    second = []\n",
    "    third = []\n",
    "    forth = []\n",
    "\n",
    "    stores_test_plaace = stores_test[\"plaace_hierarchy_id\"].values\n",
    "\n",
    "    for i in range(len(stores_test_plaace)):\n",
    "        store_type_splitted = stores_test_plaace[i].split(\".\")\n",
    "        for j in range(len(store_type_splitted)):\n",
    "            store_type_splitted[j] = store_type_splitted[int(j)]\n",
    "            if j == 0:\n",
    "                first.append(int(store_type_splitted[j]))\n",
    "            if j == 1:\n",
    "                second.append(int(store_type_splitted[j]))\n",
    "            if j == 2:\n",
    "                third.append(int(store_type_splitted[j]))\n",
    "            if j == 3:\n",
    "                forth.append(int(store_type_splitted[j]))\n",
    "    \n",
    "    return first, second, third, forth\n",
    "\n",
    "first, second, third, forth = make_test_plaace()\n",
    "\n",
    "instance1 = first\n",
    "instance2 = second\n",
    "instance3 = third\n",
    "instance4 = forth\n",
    "\n",
    "plaace_h_1 = pd.DataFrame()\n",
    "plaace_h_2 = pd.DataFrame()\n",
    "plaace_h_3 = pd.DataFrame()\n",
    "plaace_h_4 = pd.DataFrame()\n",
    "\n",
    "plaace_h_1[\"plaace_h_1\"] = np.asarray(instance1)\n",
    "plaace_h_2[\"plaace_h_2\"] = np.asarray(instance2)\n",
    "plaace_h_3[\"plaace_h_3\"] = np.asarray(instance3)\n",
    "plaace_h_4[\"plaace_h_4\"] = np.asarray(instance4)\n",
    "\n",
    "plaace_h_1.to_csv(\"../features_test_csv/plaace_h_1.csv\", index=False)\n",
    "plaace_h_2.to_csv(\"../features_test_csv/plaace_h_2.csv\", index=False)\n",
    "plaace_h_3.to_csv(\"../features_test_csv/plaace_h_3.csv\", index=False)\n",
    "plaace_h_4.to_csv(\"../features_test_csv/plaace_h_4.csv\", index=False)\n",
    "\n"
   ]
  },
  {
   "cell_type": "code",
   "execution_count": null,
   "metadata": {},
   "outputs": [],
   "source": []
  },
  {
   "cell_type": "code",
   "execution_count": null,
   "metadata": {},
   "outputs": [],
   "source": []
  }
 ],
 "metadata": {
  "kernelspec": {
   "display_name": "Python 3.9.7 64-bit",
   "language": "python",
   "name": "python3"
  },
  "language_info": {
   "codemirror_mode": {
    "name": "ipython",
    "version": 3
   },
   "file_extension": ".py",
   "mimetype": "text/x-python",
   "name": "python",
   "nbconvert_exporter": "python",
   "pygments_lexer": "ipython3",
   "version": "3.9.7"
  },
  "orig_nbformat": 4,
  "vscode": {
   "interpreter": {
    "hash": "aee8b7b246df8f9039afb4144a1f6fd8d2ca17a180786b69acc140d282b71a49"
   }
  }
 },
 "nbformat": 4,
 "nbformat_minor": 2
}
