{
 "cells": [
  {
   "cell_type": "code",
   "execution_count": 1,
   "metadata": {},
   "outputs": [],
   "source": [
    "import pandas as pd\n",
    "import numpy as np"
   ]
  },
  {
   "cell_type": "code",
   "execution_count": 2,
   "metadata": {},
   "outputs": [],
   "source": [
    "stores_train_df = pd.read_csv(\"../data/stores_train.csv\")\n",
    "stores_test_df = pd.read_csv(\"../data/stores_test.csv\")"
   ]
  },
  {
   "cell_type": "code",
   "execution_count": 3,
   "metadata": {},
   "outputs": [],
   "source": [
    "def manipulate_df(dataframe):\n",
    "    df_liste = dataframe[\"address\"].values\n",
    "    for i in range(len(df_liste)):\n",
    "        j = 0\n",
    "        not_treated = True \n",
    "        if not type(df_liste[i]) == float:\n",
    "            while not_treated and j < len(df_liste[i]):\n",
    "                if df_liste[i][j].isdigit():\n",
    "                    df_liste[i] = df_liste[i][0:j]#mabye j-1\n",
    "                    not_treated = False\n",
    "                j += 1\n",
    "    dataframe = dataframe.drop(\"address\", axis=1)\n",
    "    dataframe[\"address\"] = df_liste\n",
    "    \n",
    "    return dataframe\n"
   ]
  },
  {
   "cell_type": "code",
   "execution_count": 4,
   "metadata": {},
   "outputs": [],
   "source": [
    "# TRAIN\n",
    "store_train_new_address = manipulate_df(stores_train_df)\n",
    "# TEST\n",
    "store_test_new_address = manipulate_df(stores_test_df)"
   ]
  },
  {
   "cell_type": "code",
   "execution_count": 5,
   "metadata": {},
   "outputs": [],
   "source": [
    "features_train_df = pd.DataFrame()\n",
    "\n",
    "features_train_df[\"categorical_street_2.ipynb\"] = stores_train_df[\"address\"].values\n",
    "features_train_df.to_csv(\"../features_train_csv/categorical_street_2.csv\", index=False)"
   ]
  },
  {
   "cell_type": "code",
   "execution_count": 6,
   "metadata": {},
   "outputs": [],
   "source": [
    "features_test_df = pd.DataFrame()\n",
    "\n",
    "features_test_df[\"categorical_street_2.ipynb\"] = stores_test_df[\"address\"].values\n",
    "features_test_df.to_csv(\"../features_test_csv/categorical_street_2.csv\", index=False)"
   ]
  },
  {
   "cell_type": "code",
   "execution_count": null,
   "metadata": {},
   "outputs": [],
   "source": []
  }
 ],
 "metadata": {
  "kernelspec": {
   "display_name": "Python 3.8.7 64-bit",
   "language": "python",
   "name": "python3"
  },
  "language_info": {
   "codemirror_mode": {
    "name": "ipython",
    "version": 3
   },
   "file_extension": ".py",
   "mimetype": "text/x-python",
   "name": "python",
   "nbconvert_exporter": "python",
   "pygments_lexer": "ipython3",
   "version": "3.8.7"
  },
  "orig_nbformat": 4,
  "vscode": {
   "interpreter": {
    "hash": "fba15a8fe0409f50195582ac27b8e95e358fcbd51d8410e6775d4560b732321d"
   }
  }
 },
 "nbformat": 4,
 "nbformat_minor": 2
}
