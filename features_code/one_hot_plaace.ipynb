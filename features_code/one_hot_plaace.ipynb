{
 "cells": [
  {
   "cell_type": "code",
   "execution_count": 21,
   "metadata": {},
   "outputs": [],
   "source": [
    "import pandas as pd\n",
    "import numpy as np"
   ]
  },
  {
   "cell_type": "code",
   "execution_count": 22,
   "metadata": {},
   "outputs": [],
   "source": [
    "stores_train_df = pd.read_csv(\"../data/stores_train.csv\")\n",
    "stores_test_df = pd.read_csv(\"../data/stores_test.csv\")"
   ]
  },
  {
   "cell_type": "code",
   "execution_count": 23,
   "metadata": {},
   "outputs": [
    {
     "name": "stdout",
     "output_type": "stream",
     "text": [
      "3.2.4.0    1212\n",
      "2.8.1.0    1080\n",
      "2.4.6.0     877\n",
      "3.2.1.0     795\n",
      "1.1.6.2     600\n",
      "           ... \n",
      "3.5.3.0       1\n",
      "2.2.2.0       1\n",
      "2.9.6.0       1\n",
      "2.8.8.0       1\n",
      "2.3.6.0       1\n",
      "Name: plaace_hierarchy_id, Length: 91, dtype: int64\n"
     ]
    }
   ],
   "source": [
    "counts = stores_train_df[\"plaace_hierarchy_id\"].value_counts()\n",
    "print(counts)"
   ]
  },
  {
   "cell_type": "code",
   "execution_count": 24,
   "metadata": {},
   "outputs": [
    {
     "name": "stdout",
     "output_type": "stream",
     "text": [
      "141\n"
     ]
    }
   ],
   "source": [
    "threshold = int(stores_train_df.shape[0]/len(counts))\n",
    "print(threshold)"
   ]
  },
  {
   "cell_type": "code",
   "execution_count": 29,
   "metadata": {},
   "outputs": [
    {
     "name": "stderr",
     "output_type": "stream",
     "text": [
      "C:\\Users\\47457\\AppData\\Local\\Temp\\ipykernel_10656\\1636699333.py:3: SettingWithCopyWarning: \n",
      "A value is trying to be set on a copy of a slice from a DataFrame\n",
      "\n",
      "See the caveats in the documentation: https://pandas.pydata.org/pandas-docs/stable/user_guide/indexing.html#returning-a-view-versus-a-copy\n",
      "  stores_train_df[\"plaace_hierarchy_id\"][mask] = \"Other\"\n"
     ]
    }
   ],
   "source": [
    "#np.std(stores_train_df[\"plaace_hierarchy_id\"])\n",
    "mask = stores_train_df[\"plaace_hierarchy_id\"].isin(counts[counts < 20].index)\n",
    "stores_train_df[\"plaace_hierarchy_id\"][mask] = \"Other\""
   ]
  },
  {
   "cell_type": "code",
   "execution_count": 44,
   "metadata": {},
   "outputs": [],
   "source": [
    "dummies_train = pd.get_dummies(stores_train_df, columns=[\"plaace_hierarchy_id\"], prefix=\"C\")\n",
    "dummies_test = pd.get_dummies(stores_test_df, columns=[\"plaace_hierarchy_id\"], prefix=\"C\")"
   ]
  },
  {
   "cell_type": "code",
   "execution_count": 45,
   "metadata": {},
   "outputs": [
    {
     "name": "stdout",
     "output_type": "stream",
     "text": [
      "       C_1.1.1.0  C_1.1.2.0  C_1.1.3.0  C_1.1.4.0  C_1.1.5.0  C_1.1.6.1  \\\n",
      "0              1          0          0          0          0          0   \n",
      "1              1          0          0          0          0          0   \n",
      "2              1          0          0          0          0          0   \n",
      "3              1          0          0          0          0          0   \n",
      "4              1          0          0          0          0          0   \n",
      "...          ...        ...        ...        ...        ...        ...   \n",
      "12854          0          0          0          0          0          0   \n",
      "12855          0          0          0          0          0          0   \n",
      "12856          0          0          0          0          0          0   \n",
      "12857          0          0          0          0          0          0   \n",
      "12858          0          0          0          0          0          0   \n",
      "\n",
      "       C_1.1.6.2  C_1.1.6.3  C_1.1.6.4  C_1.1.7.0  ...  C_3.2.1.0  C_3.2.2.0  \\\n",
      "0              0          0          0          0  ...          0          0   \n",
      "1              0          0          0          0  ...          0          0   \n",
      "2              0          0          0          0  ...          0          0   \n",
      "3              0          0          0          0  ...          0          0   \n",
      "4              0          0          0          0  ...          0          0   \n",
      "...          ...        ...        ...        ...  ...        ...        ...   \n",
      "12854          0          0          0          0  ...          0          0   \n",
      "12855          0          0          0          0  ...          0          0   \n",
      "12856          0          0          0          0  ...          0          0   \n",
      "12857          0          0          0          0  ...          0          0   \n",
      "12858          0          0          0          0  ...          0          0   \n",
      "\n",
      "       C_3.2.4.0  C_3.3.3.0  C_3.3.4.0  C_3.3.5.0  C_3.3.6.0  C_3.4.2.0  \\\n",
      "0              0          0          0          0          0          0   \n",
      "1              0          0          0          0          0          0   \n",
      "2              0          0          0          0          0          0   \n",
      "3              0          0          0          0          0          0   \n",
      "4              0          0          0          0          0          0   \n",
      "...          ...        ...        ...        ...        ...        ...   \n",
      "12854          0          0          0          0          0          0   \n",
      "12855          0          0          0          0          0          0   \n",
      "12856          0          0          0          0          0          0   \n",
      "12857          0          0          0          0          0          0   \n",
      "12858          0          0          0          0          0          0   \n",
      "\n",
      "       C_3.4.3.0  C_3.6.1.0  \n",
      "0              0          0  \n",
      "1              0          0  \n",
      "2              0          0  \n",
      "3              0          0  \n",
      "4              0          0  \n",
      "...          ...        ...  \n",
      "12854          0          0  \n",
      "12855          0          0  \n",
      "12856          0          0  \n",
      "12857          0          0  \n",
      "12858          0          0  \n",
      "\n",
      "[12859 rows x 65 columns]\n"
     ]
    }
   ],
   "source": [
    "feature_train = pd.DataFrame()\n",
    "columns_train = dummies_train.columns\n",
    "columns_test = dummies_test.columns\n",
    "for col in dummies_train.columns:\n",
    "    features = []\n",
    "    if len(col) > 1:\n",
    "        if col[0:2] == \"C_\" and col in columns_test:\n",
    "            feature_train[col] = dummies_train[col].values\n",
    "\n",
    "print(feature_train)\n"
   ]
  },
  {
   "cell_type": "code",
   "execution_count": 47,
   "metadata": {},
   "outputs": [
    {
     "name": "stdout",
     "output_type": "stream",
     "text": [
      "      C_1.1.1.0  C_1.1.2.0  C_1.1.3.0  C_1.1.4.0  C_1.1.5.0  C_1.1.6.1  \\\n",
      "0             1          0          0          0          0          0   \n",
      "1             1          0          0          0          0          0   \n",
      "2             1          0          0          0          0          0   \n",
      "3             1          0          0          0          0          0   \n",
      "4             1          0          0          0          0          0   \n",
      "...         ...        ...        ...        ...        ...        ...   \n",
      "8572          0          0          0          0          0          0   \n",
      "8573          0          0          0          0          0          0   \n",
      "8574          0          0          0          0          0          0   \n",
      "8575          0          0          0          0          0          0   \n",
      "8576          0          0          0          0          0          0   \n",
      "\n",
      "      C_1.1.6.2  C_1.1.6.3  C_1.1.6.4  C_1.1.7.0  ...  C_3.2.1.0  C_3.2.2.0  \\\n",
      "0             0          0          0          0  ...          0          0   \n",
      "1             0          0          0          0  ...          0          0   \n",
      "2             0          0          0          0  ...          0          0   \n",
      "3             0          0          0          0  ...          0          0   \n",
      "4             0          0          0          0  ...          0          0   \n",
      "...         ...        ...        ...        ...  ...        ...        ...   \n",
      "8572          0          0          0          0  ...          0          0   \n",
      "8573          0          0          0          0  ...          0          0   \n",
      "8574          0          0          0          0  ...          0          0   \n",
      "8575          0          0          0          0  ...          0          0   \n",
      "8576          0          0          0          0  ...          0          0   \n",
      "\n",
      "      C_3.2.4.0  C_3.3.3.0  C_3.3.4.0  C_3.3.5.0  C_3.3.6.0  C_3.4.2.0  \\\n",
      "0             0          0          0          0          0          0   \n",
      "1             0          0          0          0          0          0   \n",
      "2             0          0          0          0          0          0   \n",
      "3             0          0          0          0          0          0   \n",
      "4             0          0          0          0          0          0   \n",
      "...         ...        ...        ...        ...        ...        ...   \n",
      "8572          0          0          0          0          0          0   \n",
      "8573          0          0          0          0          0          0   \n",
      "8574          0          0          0          0          0          0   \n",
      "8575          0          0          0          0          0          0   \n",
      "8576          0          0          0          0          0          0   \n",
      "\n",
      "      C_3.4.3.0  C_3.6.1.0  \n",
      "0             0          0  \n",
      "1             0          0  \n",
      "2             0          0  \n",
      "3             0          0  \n",
      "4             0          0  \n",
      "...         ...        ...  \n",
      "8572          0          0  \n",
      "8573          0          0  \n",
      "8574          0          0  \n",
      "8575          0          0  \n",
      "8576          0          0  \n",
      "\n",
      "[8577 rows x 65 columns]\n"
     ]
    }
   ],
   "source": [
    "feature_test = pd.DataFrame()\n",
    "for col in dummies_test.columns:\n",
    "    features = []\n",
    "    if len(col) > 1:\n",
    "        if col[0:2] == \"C_\" and col in columns_train:\n",
    "            feature_test[col] = dummies_test[col].values\n",
    "\n",
    "print(feature_test)"
   ]
  },
  {
   "cell_type": "code",
   "execution_count": 48,
   "metadata": {},
   "outputs": [],
   "source": [
    "feature_train.to_csv(\"../features_train_csv/one_hot_plaace.csv\", index=False)\n",
    "\n",
    "feature_test.to_csv(\"../features_test_csv/one_hot_plaace.csv\", index=False)"
   ]
  },
  {
   "cell_type": "code",
   "execution_count": null,
   "metadata": {},
   "outputs": [],
   "source": []
  }
 ],
 "metadata": {
  "kernelspec": {
   "display_name": "Python 3.10.2 64-bit",
   "language": "python",
   "name": "python3"
  },
  "language_info": {
   "codemirror_mode": {
    "name": "ipython",
    "version": 3
   },
   "file_extension": ".py",
   "mimetype": "text/x-python",
   "name": "python",
   "nbconvert_exporter": "python",
   "pygments_lexer": "ipython3",
   "version": "3.10.2"
  },
  "orig_nbformat": 4,
  "vscode": {
   "interpreter": {
    "hash": "369f2c481f4da34e4445cda3fffd2e751bd1c4d706f27375911949ba6bb62e1c"
   }
  }
 },
 "nbformat": 4,
 "nbformat_minor": 2
}
