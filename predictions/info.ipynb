{
 "cells": [
  {
   "cell_type": "markdown",
   "metadata": {},
   "source": [
    "Having this file will make it so that you get the folder as well."
   ]
  },
  {
   "cell_type": "markdown",
   "metadata": {},
   "source": [
    "#Notes about each predictions file:"
   ]
  },
  {
   "cell_type": "markdown",
   "metadata": {},
   "source": [
    "# Light GBM\n",
    "\n",
    "- lightGBM1:\n",
    "    - parameters: num_leaves=4,\n",
    "    max_depth=5, \n",
    "    random_state=42, \n",
    "    silent=True, \n",
    "    metric='mse',\n",
    "    n_jobs=4, \n",
    "    n_estimators=1000,\n",
    "    colsample_bytree=0.95,\n",
    "    subsample=0.9,\n",
    "    learning_rate=0.05\n",
    "    - features:\n",
    "        - average_income_per_grunnkrets\n",
    "        - distance_store_busstop\n",
    "        - store_area\n",
    "    - score: 1.18298\n",
    "\n",
    "- lightGBM2:\n",
    "    - parameters: num_leaves=4,\n",
    "    max_depth=5, \n",
    "    random_state=42, \n",
    "    silent=True, \n",
    "    metric='mse',\n",
    "    n_jobs=4, \n",
    "    n_estimators=1000,\n",
    "    colsample_bytree=0.95,\n",
    "    subsample=0.9,\n",
    "    learning_rate=0.05\n",
    "    - features:\n",
    "        - average_income_per_grunnkrets\n",
    "        - distance_store_busstop\n",
    "        - store_area\n",
    "        - distance_to_closest_competitor\n",
    "    - score: 1.19214\n",
    "\n",
    "- lightGBM3:\n",
    "    - parameters: num_leaves=4,\n",
    "    max_depth=5, \n",
    "    random_state=42, \n",
    "    silent=True, \n",
    "    metric='mse',\n",
    "    n_jobs=4, \n",
    "    n_estimators=1000,\n",
    "    colsample_bytree=0.95,\n",
    "    subsample=0.9,\n",
    "    learning_rate=0.05\n",
    "    - features:\n",
    "        - average_income_per_grunnkrets\n",
    "        - distance_store_busstop\n",
    "        - store_area\n",
    "        - distance_to_closest_competitor\n",
    "        - sales_channel_name\n",
    "        - plaace_hierarchy\n",
    "    - score keggel: 0.79220 \n",
    "    - score local: 0.343684721997982\n",
    "\n"
   ]
  },
  {
   "cell_type": "markdown",
   "metadata": {},
   "source": [
    "# AdaBoost\n",
    "\n",
    "- ada_boost_0 (slettet):\n",
    "    - parameters: \n",
    "    random_state=0, \n",
    "    n_estimators=100\n",
    "    - features:\n",
    "        - average_income_per_grunnkrets\n",
    "        - has_mall\n",
    "        - number_adults_grunnkrets\n",
    "    - score: 1.05544\n",
    "\n",
    "- ada_boost:\n",
    "    - parameters: \n",
    "    random_state=0, \n",
    "    n_estimators=100\n",
    "    - features:\n",
    "        - average_income_per_grunnkrets\n",
    "        - has_mall\n",
    "        - number_adults_grunnkrets\n",
    "        - distance_store_busstop.csv\n",
    "        - number_of_close_central_busstops\n",
    "        - distance_to_closest_competitor\n",
    "    - score: 2.1248\n",
    "\n",
    "- ada_boost2:\n",
    "    - parameters: \n",
    "    n_estimators=1500,\n",
    "    learning_rate=0.005,\n",
    "    loss='square',\n",
    "    random_state=42\n",
    "    - features:\n",
    "        - average_income_per_grunnkrets\n",
    "        - has_mall\n",
    "        - number_adults_grunnkrets\n",
    "        - distance_store_busstop.csv\n",
    "        - number_of_close_central_busstops\n",
    "        - distance_to_closest_competitor\n",
    "    - kaggle: 1.71319\n",
    "        Test MSE: 2.77\n",
    "        Test log MSE: 357.76\n",
    "        Perfect prediction: 0.0000\n",
    "        All zeros prediciton: 1.8900\n",
    "        All ones prediction: 1.3606\n",
    "\n"
   ]
  },
  {
   "cell_type": "markdown",
   "metadata": {},
   "source": [
    "# Catboost"
   ]
  },
  {
   "cell_type": "markdown",
   "metadata": {},
   "source": [
    "- catboost1\n",
    "    - parameters: n_estimators=2000,learning_rate=0.05,thread_count=-1,max_depth=6,silent=True,loss_function='RMSE',random_seed=42,bagging_temperature=0.3,od_type=\"Iter\"\n",
    "    - features: \n",
    "        - sales_channel_name\n",
    "    - score:\n",
    "        - local 0.9136\n",
    "        - kaggle 1.30034\n"
   ]
  }
 ],
 "metadata": {
  "kernelspec": {
   "display_name": "Python 3.10.8 64-bit (microsoft store)",
   "language": "python",
   "name": "python3"
  },
  "language_info": {
   "name": "python",
   "version": "3.10.8"
  },
  "orig_nbformat": 4,
  "vscode": {
   "interpreter": {
    "hash": "e1565a8eea6db7a2140e3774cc13fc7c8aa65f0baa6265ce2615853aa604b9f4"
   }
  }
 },
 "nbformat": 4,
 "nbformat_minor": 2
}
