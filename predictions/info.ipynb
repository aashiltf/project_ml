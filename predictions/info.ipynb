{
 "cells": [
  {
   "cell_type": "markdown",
   "metadata": {},
   "source": [
    "Having this file will make it so that you get the folder as well."
   ]
  },
  {
   "cell_type": "markdown",
   "metadata": {},
   "source": [
    "#Notes about each predictions file:"
   ]
  },
  {
   "cell_type": "markdown",
   "metadata": {},
   "source": [
    "- lightGBM1:\n",
    "    - parameters: num_leaves=4,\n",
    "    max_depth=5, \n",
    "    random_state=42, \n",
    "    silent=True, \n",
    "    metric='mse',\n",
    "    n_jobs=4, \n",
    "    n_estimators=1000,\n",
    "    colsample_bytree=0.95,\n",
    "    subsample=0.9,\n",
    "    learning_rate=0.05\n",
    "    - features:\n",
    "        - average_income_per_grunnkrets\n",
    "        - distance_store_busstop\n",
    "        - store_area\n",
    "    - score: 1.18298\n",
    "\n",
    "- lightGBM2:\n",
    "    - parameters: num_leaves=4,\n",
    "    max_depth=5, \n",
    "    random_state=42, \n",
    "    silent=True, \n",
    "    metric='mse',\n",
    "    n_jobs=4, \n",
    "    n_estimators=1000,\n",
    "    colsample_bytree=0.95,\n",
    "    subsample=0.9,\n",
    "    learning_rate=0.05\n",
    "    - features:\n",
    "        - average_income_per_grunnkrets\n",
    "        - distance_store_busstop\n",
    "        - store_area\n",
    "        - distance_to_closest_competitor\n",
    "    - score: 1.19214\n",
    "\n",
    "- ada_boost_0 (slettet):\n",
    "    - parameters: \n",
    "    random_state=0, \n",
    "    n_estimators=100\n",
    "    - features:\n",
    "        - average_income_per_grunnkrets\n",
    "        - has_mall\n",
    "        - number_adults_grunnkrets\n",
    "    - score: 1.05544\n",
    "\n",
    "- ada_boost:\n",
    "    - parameters: \n",
    "    random_state=0, \n",
    "    n_estimators=100\n",
    "    - features:\n",
    "        - average_income_per_grunnkrets\n",
    "        - has_mall\n",
    "        - number_adults_grunnkrets\n",
    "        - distance_store_busstop.csv\n",
    "        - number_of_close_central_busstops\n",
    "        - distance_to_closest_competitor\n",
    "    - score: 2.1248\n",
    "\n",
    "- ada_boost2:\n",
    "    - parameters: \n",
    "    n_estimators=1500,\n",
    "    learning_rate=0.005,\n",
    "    loss='square',\n",
    "    random_state=42\n",
    "    - features:\n",
    "        - average_income_per_grunnkrets\n",
    "        - has_mall\n",
    "        - number_adults_grunnkrets\n",
    "        - distance_store_busstop.csv\n",
    "        - number_of_close_central_busstops\n",
    "        - distance_to_closest_competitor\n",
    "    - score: 1.71319\n",
    "\n"
   ]
  },
  {
   "cell_type": "markdown",
   "metadata": {},
   "source": []
  }
 ],
 "metadata": {
  "kernelspec": {
   "display_name": "Python 3.9.7 64-bit",
   "language": "python",
   "name": "python3"
  },
  "language_info": {
   "name": "python",
   "version": "3.9.7"
  },
  "orig_nbformat": 4,
  "vscode": {
   "interpreter": {
    "hash": "aee8b7b246df8f9039afb4144a1f6fd8d2ca17a180786b69acc140d282b71a49"
   }
  }
 },
 "nbformat": 4,
 "nbformat_minor": 2
}
