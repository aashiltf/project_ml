{
 "cells": [
  {
   "cell_type": "code",
   "execution_count": 4,
   "metadata": {},
   "outputs": [],
   "source": [
    "import pandas as pd\n",
    "import numpy as np\n",
    "import matplotlib.pyplot as plt\n",
    "import geopy.distance\n",
    "\n",
    "from numba import jit, njit\n",
    "from time import time\n"
   ]
  },
  {
   "cell_type": "code",
   "execution_count": 8,
   "metadata": {},
   "outputs": [
    {
     "name": "stdout",
     "output_type": "stream",
     "text": [
      "2997\n",
      "finished after 0.33 seconds\n"
     ]
    }
   ],
   "source": [
    "#Tesing for basic for-loops\n",
    "\n",
    "@njit\n",
    "def three_loops():\n",
    "    for i in range(1000):\n",
    "        for ii in range(1000):\n",
    "            for iii in range(1000):\n",
    "                pass\n",
    "    print(i + ii + iii)\n",
    "\n",
    "start = time()\n",
    "three_loops()\n",
    "#print(f\"finished after {round(time()-start,2)} seconds\") #12.39 sec \n",
    "#with njit first time 0.55, second time 0.33         "
   ]
  },
  {
   "cell_type": "code",
   "execution_count": 13,
   "metadata": {},
   "outputs": [
    {
     "name": "stdout",
     "output_type": "stream",
     "text": [
      "2997\n",
      "finished after 0.1 seconds\n"
     ]
    }
   ],
   "source": [
    "#Testing for nested functions\n",
    "\n",
    "@njit\n",
    "def nested_functions():\n",
    "    for i in range(1000):\n",
    "        for ii in range(1000):\n",
    "            iii = inner_function(i,ii)\n",
    "    print(i + ii + iii)\n",
    "\n",
    "@njit\n",
    "def inner_function(i,ii):\n",
    "    for iii in range(1000):\n",
    "        pass\n",
    "    return iii\n",
    "start2 = time()\n",
    "\n",
    "\n",
    "nested_functions()\n",
    "print(f\"finished after {round(time()-start2,2)} seconds\") #12.32 sec\n",
    "#With njit first time: 0.11 sec\n",
    "# #Second time: 0.1 sec"
   ]
  },
  {
   "cell_type": "code",
   "execution_count": 15,
   "metadata": {},
   "outputs": [
    {
     "name": "stdout",
     "output_type": "stream",
     "text": [
      "[1]\n"
     ]
    }
   ],
   "source": [
    "array = np.array([1])"
   ]
  },
  {
   "cell_type": "code",
   "execution_count": null,
   "metadata": {},
   "outputs": [],
   "source": []
  }
 ],
 "metadata": {
  "kernelspec": {
   "display_name": "Python 3.10.2 64-bit",
   "language": "python",
   "name": "python3"
  },
  "language_info": {
   "codemirror_mode": {
    "name": "ipython",
    "version": 3
   },
   "file_extension": ".py",
   "mimetype": "text/x-python",
   "name": "python",
   "nbconvert_exporter": "python",
   "pygments_lexer": "ipython3",
   "version": "3.10.2"
  },
  "orig_nbformat": 4,
  "vscode": {
   "interpreter": {
    "hash": "369f2c481f4da34e4445cda3fffd2e751bd1c4d706f27375911949ba6bb62e1c"
   }
  }
 },
 "nbformat": 4,
 "nbformat_minor": 2
}
